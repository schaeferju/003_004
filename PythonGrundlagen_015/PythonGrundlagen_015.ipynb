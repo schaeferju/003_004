{
 "cells": [
  {
   "cell_type": "markdown",
   "metadata": {},
   "source": [
    "# 06.03.2025 - Vererbung in Python \n",
    "---\n",
    "Wir befassen uns mit einem Kernprinzip der objektorientierten Programmierung: Der Vererbung.\n",
    "Klassen können ihre Attribute und Methoden von anderen Klassen \"erben\".\n",
    "Somit lassen sich Klassen hirarchisch ordnen, und code effizienter schreiben.\n",
    "\n",
    "* Zur Bearbeitung der Aufgaben können Sie benötigte Informationen zu Python-Befehlen und zu KI relevanten Bibliotheken (numpy, scikit, pandas) aus allen verfügbaren Quellen beziehen. Die meisten findet man natürlich über eine Suche im Internet, oder durch die Nutzung von KI chat-Systemen selbst.\n",
    "Ein gutes Tutorial für den Start findet sich  z.B. hier: https://www.python-kurs.eu/numerisches_programmieren_in_Python.php"
   ]
  },
  {
   "cell_type": "markdown",
   "metadata": {},
   "source": [
    "## Phase I - Abschluss Spracherkennung"
   ]
  },
  {
   "cell_type": "markdown",
   "metadata": {},
   "source": [
    "### Vorstellung ihrer Ergebnisse zur Sprachsteuerung des Taschenrechners"
   ]
  },
  {
   "cell_type": "markdown",
   "metadata": {},
   "source": [
    "## Phase II - Einstieg in das Thema Vererbung"
   ]
  },
  {
   "cell_type": "markdown",
   "metadata": {},
   "source": [
    "Vererbung in Python ermöglicht es, eine neue Klasse auf Basis einer bestehenden Klasse zu erstellen. \n",
    "\n",
    "- Die bestehende Klasse wird dabei *Basisklasse* genannt.\n",
    "- Die neue Klasse wird als *abgeleitete Klasse* bezeichnet.\n",
    "\n",
    " Die abgeleitete Klasse übernimmt automatisch Attribute und Methoden der Basisklasse, kann diese aber auch erweitern oder überschreiben. So können ähnliche Klassen erstellt werden, ohne den gesamten Code neu schreiben zu müssen. Vererbung ist ein wichtiger Bestandteil der objektorientierten Programmierung und fördert die Wiederverwendbarkeit und Strukturierung von Code."
   ]
  },
  {
   "cell_type": "markdown",
   "metadata": {},
   "source": [
    "### Motivation - Abbildung der Realität"
   ]
  },
  {
   "cell_type": "markdown",
   "metadata": {},
   "source": [
    "#### Attribute und Methoden der Klassen Auto, Fahrrad und Lkw\n",
    "\n",
    "Wir modellieren in diesem Beispiel eine Hierarchie von Fahrzeugen. Dazu betrachten wir die 3 Fahrzeugtypen *Auto*, *Fahrrad* und *LKW*.\n",
    "\n",
    "##### Frage:\n",
    "Welche der folgenden Attribute und Methoden existieren für alle Fahrzeuge gemeinsam? Und welche machen eher den Eindruck, fahrzeugspezifisch zu sein?\n",
    "\n",
    "#### Attribute:\n",
    "- marke \n",
    "- baujahr\n",
    "- km_stand\n",
    "- anzahl_tueren \n",
    "- anzahl_passagiere\n",
    "- ventiltyp \n",
    "- max_ladung\n",
    "- akt_ladung\n",
    "\n",
    "#### Methoden:\n",
    "- fahren()\n",
    "- zusteigen()\n",
    "- klingeln()\n",
    "- laden()\n"
   ]
  },
  {
   "cell_type": "markdown",
   "metadata": {},
   "source": [
    "#### Objektorientierte Umsetzung\n",
    " \n",
    " \n",
    " Die **Basisklasse `Fahrzeug`** enthält grundlegende Attribute und Methoden, die für alle Fahrzeugtypen gelten. Die abgeleiteten Klassen **`Auto`**, **`Fahrrad`** und **`Lkw`** erben diese Eigenschaften und erweitern sie um spezifische Merkmale und Methoden.\n",
    "\n",
    "\n",
    "##### Basisklasse `Fahrzeug`:\n",
    "Diese Klasse stellt die grundlegenden Eigenschaften aller Fahrzeuge bereit, wie:\n",
    "- marke\n",
    "- baujahr\n",
    "- km_stand\n",
    "\n",
    "Außerdem enthält die Klasse die Methode\n",
    "- fahren()\n",
    "\n",
    "\n",
    "##### Abgeleitete Klassen:\n",
    "\n",
    "- **`Auto`**:\n",
    "  - Zusätzliche Attribute:\n",
    "    - anzahl_tueren\n",
    "    - anzahl_passagiere\n",
    "  - Zusätzliche Methode:\n",
    "    - zusteigen()`\n",
    "\n",
    "- **`Fahrrad`**:\n",
    "  - Zusätzliche Attribute:\n",
    "    - ventiltyp\n",
    "  - Zusätzliche Methode:\n",
    "    - klingeln()\n",
    "\n",
    "- **`Lkw`**:\n",
    "  - Zusätzliche Attribute:\n",
    "    - max_ladung: Das maximale Ladegewicht des Lkw.\n",
    "    - akt_ladung: Das aktuell geladene Gewicht des Lkw.\n",
    "  - Zusätzliche Methode:\n",
    "    - laden()\n"
   ]
  },
  {
   "cell_type": "code",
   "execution_count": null,
   "metadata": {},
   "outputs": [
    {
     "name": "stdout",
     "output_type": "stream",
     "text": [
      "Anzahl Passagiere im auto1 vor Zusteigen: 0\n",
      "Anzahl Passagiere im auto1 nach Zusteigen: 2\n",
      "Das Canyon Fahrrad klingelt: 'ring ring!'\n",
      "Ladegewicht des lkw1 vorm Laden: 0\n",
      "Ladegewicht des lkw1 nach dem Laden: 1580\n",
      "\n",
      "\n",
      "km Stand des Autos: 0\n",
      "km Stand des Autos aktualisiert : 120\n",
      "km Stand des Fahrrads: 0\n",
      "km Stand des Fahrrads aktualisiert : 10\n",
      "km Stand des LKWs: 0\n",
      "km Stand des LKWs aktualisiert : 45\n",
      "\n",
      "\n"
     ]
    }
   ],
   "source": [
    "# Basisklasse Fahrzeug\n",
    "class Fahrzeug:\n",
    "    def __init__(self, init_marke, init_baujahr):\n",
    "        # Initialisiert die Fahrzeug-Attribute 'marke', 'baujahr' und 'km_stand'\n",
    "        self.marke = init_marke\n",
    "        self.baujahr = init_baujahr\n",
    "        self.km_stand = 0\n",
    "\n",
    "    # Allgemeine Methode \"fahren\", die für jedes Fahrzeug gilt\n",
    "    def fahren(self, strecke):\n",
    "        self.km_stand += strecke\n",
    "\n",
    "\n",
    "\n",
    "# Abgeleitete Klasse Auto\n",
    "class Auto(Fahrzeug):\n",
    "    def __init__(self, init_marke, init_baujahr, init_anzahl_tueren):\n",
    "        super().__init__(init_marke, init_baujahr)\n",
    "        self.anzahl_tueren = init_anzahl_tueren\n",
    "        self.anzahl_passagiere = 0\n",
    "\n",
    "    # Auto-spezifische Methode: zuseitgen\n",
    "    def zusteigen(self,anzahl):\n",
    "        self.anzahl_passagiere += anzahl\n",
    "\n",
    "\n",
    "# Abgeleitete Klasse Fahrrad\n",
    "class Fahrrad(Fahrzeug):\n",
    "    def __init__(self, init_marke, init_baujahr, init_ventil):\n",
    "        super().__init__(init_marke, init_baujahr)\n",
    "        self.ventiltyp = init_ventil  # z.B. Schrader, Blitzventil, Französich\n",
    "\n",
    "     # Fahrrad-spezifische Methode: klingeln\n",
    "    def klingeln(self):\n",
    "        print(f\"Das {self.marke} Fahrrad klingelt: 'ring ring!'\")\n",
    "\n",
    "\n",
    "# Abgeleitete Klasse Lkw\n",
    "class Lkw(Fahrzeug):\n",
    "    def __init__(self, init_marke, init_baujahr, init_max_ladung):\n",
    "        super().__init__(init_marke, init_baujahr)\n",
    "        self.max_ladung = init_max_ladung     # Maximale Ladung in kg\n",
    "        self.akt_ladung = 0  # AKtuell geladene Masse in kg\n",
    "\n",
    "    # Lkw-spezifische Methode: laden\n",
    "    def laden(self, lademasse):\n",
    "        self.akt_ladung += lademasse\n",
    "\n",
    "\n",
    "\n",
    "# Testen der Klassen und Methoden\n",
    "\n",
    "# # Erstellen von Objekten der verschiedenen Fahrzeugtypen\n",
    "auto1 = Auto(\"Skoda\", 2020, 5)\n",
    "fahrrad1 = Fahrrad(\"Canyon\", 2021, \"Schrader\")\n",
    "lkw1 = Lkw(\"Mercedes\", 2018, 18000)\n",
    "\n",
    "# # Methodenaufrufe auto1\n",
    "print(f\"Anzahl Passagiere im auto1 vor Zusteigen: {auto1.anzahl_passagiere}\")\n",
    "auto1.zusteigen(2)\n",
    "print(f\"Anzahl Passagiere im auto1 nach Zusteigen: {auto1.anzahl_passagiere}\")\n",
    "\n",
    "# # Methodenaufrufe fahrrad1\n",
    "fahrrad1.klingeln()\n",
    "\n",
    "# # Methodenaufrufe lkw1\n",
    "print(f\"Ladegewicht des lkw1 vorm Laden: {lkw1.akt_ladung}\")\n",
    "lkw1.laden(1580)\n",
    "print(f\"Ladegewicht des lkw1 nach dem Laden: {lkw1.akt_ladung}\")\n",
    "print(\"\\n\")\n",
    "\n",
    "# # Methodenaufrufe der Basisklasse\n",
    "print(f\"km Stand des Autos: {auto1.km_stand}\")\n",
    "auto1.fahren(120)\n",
    "print(f\"km Stand des Autos aktualisiert : {auto1.km_stand}\")\n",
    "\n",
    "print(f\"km Stand des Fahrrads: {fahrrad1.km_stand}\")\n",
    "fahrrad1.fahren(10)\n",
    "print(f\"km Stand des Fahrrads aktualisiert : {fahrrad1.km_stand}\")\n",
    "\n",
    "print(f\"km Stand des LKWs: {lkw1.km_stand}\")\n",
    "lkw1.fahren(45)\n",
    "print(f\"km Stand des LKWs aktualisiert : {lkw1.km_stand}\")\n",
    "print(\"\\n\")"
   ]
  },
  {
   "cell_type": "markdown",
   "metadata": {},
   "source": [
    "### 1. Aufgabe - Eigener Anwendungsfall\n",
    "\n",
    "Überlegen Sie sich einen weiteren Anwendungsfall für die Vererbung. Denken Sie an ein System aus Objekten der realen Welt, bei dem einige Eigenschaften und Methoden für alle Objekte gemeinsam sind, während andere nur für bestimmte Objekte spezifisch gelten.\n",
    "\n",
    "Programmieren Sie dieses System als Klassen in Python und nutzen Sie dabei das Prinzip der Vererbung.\n",
    "Rufen Sie die Methoden der Klassen zum Testen auf. \n"
   ]
  },
  {
   "cell_type": "code",
   "execution_count": null,
   "metadata": {},
   "outputs": [],
   "source": [
    "# Basisklasse\n",
    "\n",
    "\n",
    "# Abgeleitete Klasse 1\n",
    "\n",
    "# Abgeleitete Klasse 2\n",
    "\n",
    "# Abgeleitete Klasse 3\n",
    "\n",
    "\n",
    "# Testen der Klassen und Methoden\n"
   ]
  },
  {
   "cell_type": "markdown",
   "metadata": {},
   "source": [
    "### Eine Kette von Vererbungen\n",
    "\n",
    "Die **Verkettung von Vererbung** in Python tritt auf, wenn eine Klasse von einer anderen abgeleiteten Klasse erbt. Eine abgeleitete Klasse kann also nicht nur von einer Basisklasse, sondern auch von einer anderen abgeleiteten Klasse erben. Dies ermöglicht eine hierarchische Struktur, in der Eigenschaften und Methoden durch die Kette von Vererbung weitergegeben und erweitert werden.\n",
    "\n",
    "Durch den Einsatz von `super()` können Methoden und Attribute der übergeordneten Klassen aufgerufen und weiterverwendet oder angepasst werden. Die Verkettung von Vererbung fördert die Wiederverwendbarkeit von Code und ermöglicht eine modulare und erweiterbare Klassenstruktur.\n"
   ]
  },
  {
   "cell_type": "markdown",
   "metadata": {},
   "source": [
    "### 2. Aufgabe - Kette von Vererbungen\n",
    "\n",
    "Fügen Sie Ihrem Programm eine oder mehrere Klassen hinzu, die von einer bereits abgeleiteten Klasse erben. Die Vererbungskette wird somit um 1 länger. Rufen Sie die Methoden der Klassen zum Testen auf.\n",
    "\n",
    "*(Sie können auch das Bsp. mit den Fahrzeugen erweitern. Z.B. könnten zwei neue Klassen \"Familienauto\" und \"Sportwagen\" von der Klasse Auto abgeleitet werden).*"
   ]
  },
  {
   "cell_type": "code",
   "execution_count": 9,
   "metadata": {},
   "outputs": [
    {
     "name": "stdout",
     "output_type": "stream",
     "text": [
      "Samsung Galaxy S23 kostet 899 Euro. Akkustand: 60%. Es hat eine 50 MP Kamera.\n",
      "Samsung Galaxy S23 macht ein Foto.\n",
      "Samsung Galaxy S23 wurde geladen. Neuer Akkustand: 90%.\n",
      "Lenovo ThinkPad X1 kostet 1799 Euro. Akkustand: 40%. Es hat 32 GB RAM und einen Intel i7 Prozessor.\n",
      "Lenovo ThinkPad X1 wird genutzt, um in JavaScript zu programmieren.\n",
      "Huawei MatePad Pro kostet 599 Euro. Akkustand: 25%. Es hat ein 12.6-Zoll Display.\n",
      "Mit dem Huawei MatePad Pro kann man auf dem 12.6-Zoll Display zeichnen.\n",
      "Garmin Forerunner 945 kostet 499 Euro. Akkustand: 80%. Es hat eine 1 MP Kamera. Wasserfest: Ja.\n",
      "Garmin Forerunner 945 ist jetzt im Trainingsmodus.\n",
      "Garmin Forerunner 945 wurde geladen. Neuer Akkustand: 95%.\n"
     ]
    }
   ],
   "source": [
    "# Basisklasse\n",
    "class Geraet:\n",
    "    def __init__(self, marke, modell, preis, akku):\n",
    "        self.marke = marke\n",
    "        self.modell = modell\n",
    "        self.preis = preis\n",
    "        self.akku = akku  # Akkustand in %\n",
    "\n",
    "    def info(self):\n",
    "        return f\"{self.marke} {self.modell} kostet {self.preis} Euro. Akkustand: {self.akku}%.\"\n",
    "\n",
    "    def laden(self, menge):\n",
    "        self.akku += menge\n",
    "        if self.akku > 100:\n",
    "            self.akku = 100\n",
    "        return f\"{self.marke} {self.modell} wurde geladen. Neuer Akkustand: {self.akku}%.\"\n",
    "\n",
    "\n",
    "\n",
    "# Abgeleitete Klasse 1\n",
    "class Smartphone(Geraet):\n",
    "    def __init__(self, marke, modell, preis, akku, kamera_mpx):\n",
    "        super().__init__(marke, modell, preis, akku)\n",
    "        self.kamera_mpx = kamera_mpx\n",
    "\n",
    "    def info(self):\n",
    "        return f\"{super().info()} Es hat eine {self.kamera_mpx} MP Kamera.\"\n",
    "\n",
    "    def fotografieren(self):\n",
    "        return f\"{self.marke} {self.modell} macht ein Foto.\"\n",
    "\n",
    "\n",
    "# Abgeleitete Klasse 2\n",
    "class Laptop(Geraet):\n",
    "    def __init__(self, marke, modell, preis, akku, ram, prozessor):\n",
    "        super().__init__(marke, modell, preis, akku)\n",
    "        self.ram = ram\n",
    "        self.prozessor = prozessor\n",
    "\n",
    "    def info(self):\n",
    "        return f\"{super().info()} Es hat {self.ram} GB RAM und einen {self.prozessor} Prozessor.\"\n",
    "\n",
    "    def programmieren(self, sprache):\n",
    "        return f\"{self.marke} {self.modell} wird genutzt, um in {sprache} zu programmieren.\"\n",
    "    \n",
    "\n",
    "# Abgeleitete Klasse 3\n",
    "class Tablet(Geraet):\n",
    "    def __init__(self, marke, modell, preis, akku, display_groesse):\n",
    "        super().__init__(marke, modell, preis, akku)\n",
    "        self.display_groesse = display_groesse\n",
    "\n",
    "    def info(self):\n",
    "        return f\"{super().info()} Es hat ein {self.display_groesse}-Zoll Display.\"\n",
    "\n",
    "    def zeichnen(self):\n",
    "        return f\"Mit dem {self.marke} {self.modell} kann man auf dem {self.display_groesse}-Zoll Display zeichnen.\"\n",
    "\n",
    "\n",
    "# Von Smartphone abgeleitete Klasse\n",
    "class Smartwatch(Smartphone):\n",
    "    def __init__(self, marke, modell, preis, akku, kamera_mpx, wasserfest):\n",
    "        super().__init__(marke, modell, preis, akku, kamera_mpx)\n",
    "        self.wasserfest = wasserfest  # True oder False\n",
    "\n",
    "    def info(self):\n",
    "        return f\"{super().info()} Wasserfest: {'Ja' if self.wasserfest else 'Nein'}.\"\n",
    "\n",
    "    def trainingsmodus(self):\n",
    "        return f\"{self.marke} {self.modell} ist jetzt im Trainingsmodus.\"\n",
    "    \n",
    "\n",
    "# Test-Objekte erstellen\n",
    "samsung_phone = Smartphone(\"Samsung\", \"Galaxy S23\", 899, 60, 50)\n",
    "lenovo_laptop = Laptop(\"Lenovo\", \"ThinkPad X1\", 1799, 40, 32, \"Intel i7\")\n",
    "huawei_tablet = Tablet(\"Huawei\", \"MatePad Pro\", 599, 25, 12.6)\n",
    "garmin_watch = Smartwatch(\"Garmin\", \"Forerunner 945\", 499, 80, 1, True)\n",
    "\n",
    "\n",
    "# Testen der Methoden\n",
    "print(samsung_phone.info())  # Samsung Galaxy S23 kostet 899 Euro. Akkustand: 60%. Es hat eine 50 MP Kamera.\n",
    "print(samsung_phone.fotografieren())  # Samsung Galaxy S23 macht ein Foto mit 50 MP.\n",
    "print(samsung_phone.laden(30))  # Samsung Galaxy S23 wurde geladen. Neuer Akkustand: 90%.\n",
    "\n",
    "print(lenovo_laptop.info())  # Lenovo ThinkPad X1 kostet 1799 Euro. Akkustand: 40%. Es hat 32 GB RAM und einen Intel i7 Prozessor.\n",
    "print(lenovo_laptop.programmieren(\"JavaScript\"))  # Lenovo ThinkPad X1 wird genutzt, um in JavaScript zu programmieren.\n",
    "\n",
    "print(huawei_tablet.info())  # Huawei MatePad Pro kostet 599 Euro. Akkustand: 25%. Es hat ein 12.6-Zoll Display.\n",
    "print(huawei_tablet.zeichnen())  # Mit dem Huawei MatePad Pro kann man auf dem 12.6-Zoll Display zeichnen.\n",
    "\n",
    "print(garmin_watch.info())  # Garmin Forerunner 945 kostet 499 Euro. Akkustand: 80%. Es hat eine 1 MP Kamera. Wasserfest: Ja.\n",
    "print(garmin_watch.trainingsmodus())  # Garmin Forerunner 945 ist jetzt im Trainingsmodus.\n",
    "print(garmin_watch.laden(15))  # Garmin Forerunner 945 wurde geladen. Neuer Akkustand: 95%.\n",
    "\n"
   ]
  },
  {
   "cell_type": "markdown",
   "metadata": {},
   "source": [
    "### Aus der Vergangenheit....\n",
    "\n",
    "Erinnern Sie sich noch? Attribute und Funktionen können so benannt werden, dass sie \"privat\" sind. Private Eigenschaften einer Klasse sind nicht mehr über ihren origninalen Namen außerhalb der Klasse zugreifbar. Doch was passiert mit privaten Attributen und Methoden bei der Vererbung?"
   ]
  },
  {
   "cell_type": "markdown",
   "metadata": {},
   "source": [
    "### 3. Aufgabe - \"Private\" Eigenschaft von Attributen und Methoden\n",
    "\n",
    "Erkundigen Sie sich noch einmal darüber, wie Attribute und Methoden als \"privat\" markiert/bezeichnet werden.\n",
    "Fügen Sie der Basisklasse private Attribute und Methoden hinzu. Versuchen Sie diese aus einer abgeleiteten Klasse heraus aufzurufen. Was passiert?"
   ]
  },
  {
   "cell_type": "code",
   "execution_count": null,
   "metadata": {},
   "outputs": [],
   "source": [
    "\n"
   ]
  }
 ],
 "metadata": {
  "kernelspec": {
   "display_name": ".venv",
   "language": "python",
   "name": "python3"
  },
  "language_info": {
   "codemirror_mode": {
    "name": "ipython",
    "version": 3
   },
   "file_extension": ".py",
   "mimetype": "text/x-python",
   "name": "python",
   "nbconvert_exporter": "python",
   "pygments_lexer": "ipython3",
   "version": "3.9.13"
  }
 },
 "nbformat": 4,
 "nbformat_minor": 2
}
