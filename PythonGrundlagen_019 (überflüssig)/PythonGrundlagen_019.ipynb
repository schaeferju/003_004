{
 "cells": [
  {
   "cell_type": "markdown",
   "metadata": {},
   "source": [
    "# 03.04.2025 - Assoziationen, Aggregationen und Kompositionen \n",
    "---\n",
    "Unter den Beziehungen zwischen Klassen gibt es nicht nur die Vererbung: Zwischen Klassen können weitere Beziehungen bestehen, mittels derer objektorientiert programmiert und modelliert werden kann: Assoziation, Aggregation und Komposition. Wir schauen uns theoretische und praktische Aspekte dieser Beziehungen zwischen Klassen an, und vertiefen sie im Kontext eines Anwendungsfalls.\n",
    "\n",
    "* Zur Bearbeitung der Aufgaben können Sie benötigte Informationen zu Python-Befehlen und zu KI relevanten Bibliotheken (numpy, scikit, pandas) aus allen verfügbaren Quellen beziehen. Die meisten findet man natürlich über eine Suche im Internet, oder durch die Nutzung von KI chat-Systemen selbst.\n",
    "Ein gutes Tutorial für den Start findet sich  z.B. hier: https://www.python-kurs.eu/numerisches_programmieren_in_Python.php"
   ]
  },
  {
   "cell_type": "markdown",
   "metadata": {},
   "source": [
    "## Phase I - Präsentationen zum Arbeitsauftrag <br>\"Spracherkennung und Sentment-Analyse in Python\"\n"
   ]
  },
  {
   "cell_type": "markdown",
   "metadata": {},
   "source": [
    "## Phase II - Abschluss Mehrfachvererbung: Die super() Methode"
   ]
  },
  {
   "cell_type": "markdown",
   "metadata": {},
   "source": [
    "<img src=\"./PythonGrundlagen_019_Bilder/MRO_einfach.drawio.png\" alt=\"Diagramm\" width=\"350\" />"
   ]
  },
  {
   "cell_type": "markdown",
   "metadata": {},
   "source": [
    "Die Method Resolution Order (MRO) in Python legt fest, in welcher Reihenfolge Python nach Methoden und Attributen in einer Klassenhierarchie sucht. Bei Mehrfachvererbung stellt sie sicher, dass jede Klasse nur einmal berücksichtigt wird und die Reihenfolge der Basisklassen eingehalten wird."
   ]
  },
  {
   "cell_type": "code",
   "execution_count": 3,
   "metadata": {},
   "outputs": [
    {
     "name": "stdout",
     "output_type": "stream",
     "text": [
      "Ausgeführte Methode beim Aufruf von d.myMethod():\n",
      "Methode von C\n",
      "Method Resolution Order (MRO) von D:\n",
      "(<class '__main__.D'>, <class '__main__.B'>, <class '__main__.C'>, <class '__main__.A'>, <class 'object'>)\n",
      "\n",
      "Ausgeführte Methode beim Aufruf von b.myMethod():\n",
      "Methode von A\n",
      "Method Resolution Order (MRO) von B:\n",
      "(<class '__main__.B'>, <class '__main__.A'>, <class 'object'>)\n",
      "\n"
     ]
    }
   ],
   "source": [
    "# Klassendefinitionen\n",
    "\n",
    "class A:\n",
    "    def myMethod(self):\n",
    "        print(\"Methode von A\")\n",
    "\n",
    "class B(A):\n",
    "    pass\n",
    "        \n",
    "class C(A):\n",
    "    def myMethod(self):\n",
    "        print(\"Methode von C\")\n",
    "\n",
    "class D(B, C):\n",
    "    pass\n",
    "        \n",
    "\n",
    "# Hauptprogramm\n",
    "\n",
    "d = D()\n",
    "print(\"Ausgeführte Methode beim Aufruf von d.myMethod():\")\n",
    "d.myMethod()\n",
    "print(\"Method Resolution Order (MRO) von D:\")\n",
    "print(D.__mro__)\n",
    "\n",
    "print()\n",
    "\n",
    "b = B()\n",
    "print(\"Ausgeführte Methode beim Aufruf von b.myMethod():\")\n",
    "b.myMethod()\n",
    "print(\"Method Resolution Order (MRO) von B:\")\n",
    "print(B.__mro__)\n",
    "print()\n"
   ]
  },
  {
   "cell_type": "markdown",
   "metadata": {},
   "source": [
    "### Wiederholung der Aufgabe: Mit \"super()\" durch die Vererbung hangeln\n",
    "\n",
    "1. In den obigen code Beispielen zur Mehrfachvererbung soll nun *jede* Klasse eine Methode \"myMethod\" haben, die ausgibt: \"Methode von <span style=\"font-family: monospace; font-style: italic\"> Klassenname</span>.\"\n",
    "\n",
    "2. Am Ende der Methode *myMethod* soll mit Hilfe von <span style=\"font-family: monospace;\"> super()</span> die Methode *myMethod* der Superklasse aufgerufen werden.\n",
    "\n",
    "3. Beobachten Sie die Ausgabe, und die damit verbuundene Reihenfolge der Klassen, deren Methoden aufgerufen werden. Was fällt auf?"
   ]
  },
  {
   "cell_type": "code",
   "execution_count": null,
   "metadata": {},
   "outputs": [],
   "source": [
    "# Klassendefinitionen\n",
    "\n",
    "class A:\n",
    "    def myMethod(self):\n",
    "        print(\"Methode von A\")\n",
    "        \n",
    "\n",
    "class B(A):\n",
    "    def myMethod(self):\n",
    "        print(\"Methode von B\")\n",
    "        super().myMethod()  # ruft die Methode der nächsten Klasse in der MRO auf\n",
    "        \n",
    "\n",
    "class C(A):\n",
    "    def myMethod(self):\n",
    "        print(\"Methode von C\")\n",
    "        super().myMethod()  # ruft die Methode der nächsten Klasse in der MRO auf\n",
    "        \n",
    "\n",
    "class D(B, C):\n",
    "    def myMethod(self):\n",
    "        print(\"Methode von D\")\n",
    "        super().myMethod()  # ruft die Methode der nächsten Klasse in der MRO auf\n",
    "        \n",
    "\n",
    "# Hauptprogramm\n",
    "\n",
    "d = D()\n",
    "print(\"Ausgeführte Methode beim Aufruf von d.myMethod():\")\n",
    "d.myMethod()\n",
    "print(\"Method Resolution Order (MRO) von D:\")\n",
    "print(D.__mro__)\n",
    "\n",
    "print()\n",
    "\n",
    "b = B()\n",
    "print(\"Ausgeführte Methode beim Aufruf von b.myMethod():\")\n",
    "b.myMethod()\n",
    "print(\"Method Resolution Order (MRO) von B:\")\n",
    "print(B.__mro__)\n",
    "print()"
   ]
  },
  {
   "cell_type": "markdown",
   "metadata": {},
   "source": [
    "## Phase III - Assoziationen, Aggregationen und Kompositionen zwischen Klassen"
   ]
  },
  {
   "cell_type": "markdown",
   "metadata": {},
   "source": [
    "Neben der Vererbung können Klassen in der objektorientierten Programmierung unterschiedlich starkt miteinander \"verbunden\"/\"verknüpft\" sein."
   ]
  },
  {
   "cell_type": "markdown",
   "metadata": {},
   "source": [
    "### Anwendungsbeispiel - Robotergestützte Produktion\n",
    "\n",
    "Ein Unternehmen nutzt eine automatisierte Produktionsstraße, die aus mehreren Robotern besteht. Diese Roboter sind mit Werkzeugen ausgestattet und kommunizieren mit einem externen Wartungssystem.\n",
    "\n",
    "Frage: In welcher Beziehung stehen die Klassen im Kontext dieses Anwendungsfalls zueinander?\n",
    "\n",
    "<img src=\"./PythonGrundlagen_019_Bilder/Assoziationen_Produktionsstrasse_unassoziiert.drawio.png\" alt=\"Diagramm\" width=\"550\" />"
   ]
  },
  {
   "cell_type": "markdown",
   "metadata": {},
   "source": [
    "#### Zusammenfassung der unterschidlichen Arten der Beziehungen:\n",
    "\n",
    "| Beziehungstyp      | Art der Verbindung | Beispiel |\n",
    "|--------------------|-------------------|----------|\n",
    "| **Vererbung (\"ist-ein\")** | Eine Klasse erbt von einer anderen <br> (Basisklasse → abgeleitete Klasse) | `Auto` erbt von `Fahrzeug` |\n",
    "| **Assoziation (\"steht in Beziehung zu\")** | Zwei Klassen kennen einander. Sie können miteinander interagieren. | `Fahrer` fährt `Auto` |\n",
    "| **Aggregation (\"hat-ein\", aber unabhängig)** | Ganzes-Teile-Beziehung. Ein Objekt enthält andere, aber sie können unabhängig existieren | `Schule` hat `Lehrer`, aber Lehrer existieren auch ohne Schule |\n",
    "| **Komposition (\"hat-ein\", aber abhängig)** | Ganzes-Teile-Beziehung. Ein Objekt enthält andere, die ohne es nicht existieren können | `Haus` hat `Räume`, aber Räume existieren nicht ohne das Haus |\n"
   ]
  },
  {
   "cell_type": "markdown",
   "metadata": {},
   "source": [
    "*Assoziation*, *Aggregation* und *Komposition* sind **Konzepte** der Objektorientierten Modellierung. Die Umsetzung - also die Programmierung - dieser Konzepte in Python erfordert keine speziellen Schlüsselwörter im Code.\n",
    "Die Konzepte werden durch die Art der Implementierung ausgedrückt, z. B dadurch, ob Objekte echte Bestandteile eines anderen Objekts sind (Komposition), oder ob lediglich auf sie referenziert wird (Referenz auf Objekt: Aggregation. Referenz/Aufruf einer Methode eines Objekts: Assoziation).\n",
    "\n",
    "-> Bei einer Komposition gehört ein Objekt fest zu einem anderen und wird auch mit ihm zerstört. Bei einer Aggregation oder Assoziation bleibt es unabhängig bestehen.\n",
    "\n"
   ]
  },
  {
   "cell_type": "markdown",
   "metadata": {},
   "source": [
    "### 1. Aufgabe - Implementierung der Produktionsstraße\n",
    "\n",
    "#### Teil 1 (Assoziation)\n",
    "Implementieren Sie die Klassen `Roboter` und `Wartungssystem`, zunächst *ohne* die Attribute greifer und steuerung. Die Ausgabe der methode diagnose kann in diesem Bsp. beliebig sein.\n",
    "\n",
    "#### Teil 2 (Komposition)\n",
    "Informieren Sie sich darüber, wie eine Komposition in Python Programmen aussieht. \n",
    "Implementieren Sie die Klassen `Greifarm` und `Steuerungseinheit`. Fügen Sie die entsprechenden Attribute <span style=\"font-family:monospace;\"> greifer</span> und <span style=\"font-family:monospace;\"> steuerung</span> der Klasse Robotor hinzu, in Form einer Komposition.\n",
    "\n",
    "#### Teil 3 (Aggregation)\n",
    "Informieren Sie sich darüber, wie eine Aggregation in Python Programmen aussieht. \n",
    "Implementieren Sie die Klasse `Produktionsstrasse`. Fügen Sie das Attribut <span style=\"font-family:monospace;\"> eingesetzteRoboter</span> der Klasse Produktionsstrasse hinzu, in Form einer Aggregation.\n",
    "\n",
    "#### Teil 4 \n",
    "Erstellen Sie im Hauptprogramm Objekte der Klassen, sodass ein kleines Setup des Produktionsscenarios entsteht. Rufen Sie die Methoden der Objekte auf und überprüfen Sie die Werte ihrer Attribute.\n",
    "\n",
    "\n",
    "\n"
   ]
  },
  {
   "cell_type": "code",
   "execution_count": null,
   "metadata": {},
   "outputs": [],
   "source": [
    "# Klasssendefinitionen\n",
    "\n",
    "    # Klasse Greifarm\n",
    "\n",
    "    # Klasse Steuerungseinheit\n",
    "\n",
    "    # Klasse Roboter\n",
    "\n",
    "\n",
    "    # Klasse Produktionsstrasse           \n",
    "\n",
    "\n",
    "    # Klasse Wartungssystem\n",
    "\n",
    "\n",
    "# Hauptprogramm\n",
    "\n",
    "    # Objekte der Klassen erstellen und benutzen\n"
   ]
  },
  {
   "cell_type": "markdown",
   "metadata": {},
   "source": [
    "### 2. Aufgabe - Den Anwendungsfall erweitern\n",
    "\n",
    "a1) In der Fertigung wird ein Linearroboter eingesetzt, der sich (linear) auf Schienen bewegt. Sein Einsatzzweck ist die Bestückung anderer Roboter. Dieser Linearroboter wird von 2 Produktionsstraßen gleichzeitig genutzt. Fügen Sie dem Klassendiagramm eine Klasse \"Linearroboter\" mit entsprechenden Verknüpfungen zu bestehenden Klassen hinzu.\n",
    "\n",
    "a2) Implementieren Sie die Klasse Linearroboter und die Nutzung eines Objektes dieser Klasse in Ihrem Programm.  \n",
    "\n",
    "b1) Fügen Sie dem Klassendiagramm zu obigem Anwendungsfall weitere selbstgewählte Klassen hinzu. Diese sollen mit Assoziation, Aggregation und Komposition untereinander oder mit bestehenden Klassen verknüpft werden. Ergänzen Sie die Klassen mit sinnvollen Methoden und Attributen.\n",
    "\n",
    "b2) Erweitern Sie Ihre Implementierung, sodass sie dem von Ihnen erweiterten Anwendungsfall entspricht."
   ]
  },
  {
   "cell_type": "code",
   "execution_count": null,
   "metadata": {},
   "outputs": [],
   "source": [
    "# Klasssendefinitionen\n",
    "\n",
    "    # Klasse Greifarm\n",
    "\n",
    "    # Klasse Steuerungseinheit\n",
    "\n",
    "    # Klasse Roboter\n",
    "\n",
    "\n",
    "    # Klasse Linearroboter\n",
    "\n",
    "\n",
    "    # Klasse Produktionsstrasse           \n",
    "\n",
    "\n",
    "    # Klasse Wartungssystem\n",
    "\n",
    "\n",
    "# Hauptprogramm\n",
    "\n",
    "    # Objekte der Klassen erstellen und benutzen"
   ]
  }
 ],
 "metadata": {
  "kernelspec": {
   "display_name": ".venv",
   "language": "python",
   "name": "python3"
  },
  "language_info": {
   "codemirror_mode": {
    "name": "ipython",
    "version": 3
   },
   "file_extension": ".py",
   "mimetype": "text/x-python",
   "name": "python",
   "nbconvert_exporter": "python",
   "pygments_lexer": "ipython3",
   "version": "3.9.13"
  }
 },
 "nbformat": 4,
 "nbformat_minor": 2
}
