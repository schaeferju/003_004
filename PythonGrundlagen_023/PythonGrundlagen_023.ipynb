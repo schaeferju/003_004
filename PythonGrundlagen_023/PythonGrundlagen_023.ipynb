{
 "cells": [
  {
   "cell_type": "markdown",
   "metadata": {},
   "source": [
    "# 21.05.2025 - Entscheidungsbäume im Einsatz\n",
    "---\n",
    "In dieser Unterrichtseinheit widmen wir uns dem praktischen Einsatz von Entscheidungsbäumen. Entscheidungsbäume sind ein Modell in der Künstlichen Intelligenz, das Daten anhand von Entscheidungsregeln in Form von Wenn-Dann-Bedingungen schrittweise klassifiziert oder vorhersagt.\n",
    "Zunächste wiederholen wir Essentielles zum Thema Entscheidungsbäume: Die Bedeutung von Trainingsdaten und ihr Zusammenhang zum Aufbau eines Entscheidungsbaumens. Danach erstellen wir bereits ein erstes Python Programm, das alle notwendigen Schritte zur Nutzung von Entscheidungsbäumen als Vorhersagemodell enthält. Fortgeführt wird das Thema mit realitätsnahen Anwendungen.\n",
    "\n",
    "* Zur Bearbeitung der Aufgaben können Sie benötigte Informationen zu Python-Befehlen und zu KI relevanten Bibliotheken (numpy, scikit, pandas) aus allen verfügbaren Quellen beziehen. Die meisten findet man natürlich über eine Suche im Internet, oder durch die Nutzung von KI chat-Systemen selbst.\n",
    "Ein gutes Tutorial für den Start findet sich  z.B. hier: https://www.python-kurs.eu/numerisches_programmieren_in_Python.php"
   ]
  },
  {
   "cell_type": "markdown",
   "metadata": {},
   "source": [
    "## Phase I Wiederholung zum Einstieg in Entscheidungsbäume"
   ]
  },
  {
   "cell_type": "markdown",
   "metadata": {},
   "source": [
    "### Struktur und Klassifizierungsweise des Entscheidungsbaumes\n",
    "\n",
    "<img src=\"./PythonGrundlagen_023_Bilder/Entscheidungsbaum_Fahrzeuge.drawio.png\" alt=\"Diagramm\" width=\"550\" />\n",
    "\n",
    "(Denken Sie an Ihr Programm aus verschachtelten *if*-Bedingungen)"
   ]
  },
  {
   "cell_type": "markdown",
   "metadata": {},
   "source": [
    "#### Baumstruktur\n",
    "\n",
    "Ein *(Entscheidungs-)baum* besteht aus\n",
    "- *Knoten*:  \n",
    "Jeder innere Knoten enthält eine *Verzweigungsbedingung (Split*).  \n",
    "Jeder Knoten repräsentiert eine Teilmenge des Merkmalraumes.\n",
    "- *Verzweigungen*:  \n",
    "Verbindungen von einem Knoten zu mehreren anderen Knoten (meist zwei).\n",
    "\n",
    "Bei den Knoten unterscheidet man zwischen\n",
    "- *Wurzelknoten (Root)*: Einziger Knoten, in den keine Verzweigung mündet.\n",
    "- *Innere Knoten (Decision nodes)*: Haben ausgehende Verzweigungen.\n",
    "- *Blätter (Leaf nodes)*: Knoten, die keine weiteren Verzweigungen haben. **Sie enthalten die Vorhersage (z.B. Klasse).**"
   ]
  },
  {
   "cell_type": "markdown",
   "metadata": {},
   "source": [
    "#### Wie ein Entscheidungsbaum eine Klasse vorhersagt\n",
    "\n",
    "Ein Entscheidungsbaum trifft Vorhersagen, indem er schrittweise die Knoten des Baumes entlangläuft. Der Pfad wird dabei durch die Merkmale und die Split-Kriterien der Knoten vorgegeben.\n",
    "\n",
    "1. Start an der Wurzel  \n",
    "Der Entscheidungsprozess beginnt am Wurzelknoten des Baums. Dieser enthält eine Bedingung, die sich auf den Wert eines Merkmals bezieht (z. B. \"Gewicht < 1000\").\n",
    "\n",
    "2. Verzweigung abhängig vom Merkmal  \n",
    "Abhängig vom Ergebnis der Bedingung (wahr oder falsch) wird entweder der linke oder der rechte Teilbaum betreten.  \n",
    "Dabei wird üblicherweise jeweils nur ein einzelnes Merkmal geprüft.\n",
    "\n",
    "3. Wiederholung bis zum Blattknoten  \n",
    "Dieser Vorgang wird rekursiv wiederholt: An jedem Knoten wird eine neue Bedingung auf einem Merkmal geprüft, bis schließlich ein Blattknoten erreicht wird.\n",
    "\n",
    "4. Ausgabe der Klasse  \n",
    "Im Blattknoten steht die vorhergesagte Klasse (z. B. \"Kleinwagen\"). Diese wird als Vorhersage für den gegebenen Datenpunkt ausgegeben."
   ]
  },
  {
   "cell_type": "markdown",
   "metadata": {},
   "source": [
    "### Daten eines Entscheidungsbaums\n",
    " \n",
    "Ein *Entscheidungsbaum* sagt anhand von Werten für eine feste Menge an *Merkmalen (Features)* eine *Zielgröße (Label)* voraus. "
   ]
  },
  {
   "cell_type": "markdown",
   "metadata": {},
   "source": [
    "Alle Daten, auf denen der Entscheidungsbam basiert und für die er Vorhersagen trifft, haben die selbe Struktur:\n",
    "\n",
    "- **Merkmale** (z.B. Größe, Gewicht, Höchstgeschwindigkeit).\n",
    "  - Typen der Merkmale: numerisch, kategorial.\n",
    "  - Die Reihenfolge der Merkmale muss immer gleich sein und identisch mit der vom Entscheidungsbaum genutzten Reihenfolge.\n",
    "\n",
    "  Beispiel (ein neues Fahrzeug zur Klassifikation, 3 Merkmale):\n",
    "\n",
    "  | Gewicht (kg) | Farbe | Geschwindigkeit (km/h) |\n",
    "  |--------------|-------|------------------------|\n",
    "  | 950          | rot   | 175                    |  \n",
    "\n",
    "<span> </span>\n",
    "\n",
    "\n",
    "- **Zielgröße** (z.B.Vorhergesagte Klasse).\n",
    "  - Die Werte in Klassifizierung stammen aus einer **festen endlichen Menge von labels**, z. B.:\n",
    "  - Der Entscheidungsbaum ordnet jedem Eingabeobjekt genau **eine Klasse** zu\n",
    "  - In Anwendungen können die Klassen auch durch Zahlen (z. B. 0, 1, 2, 3) repräsentiert sein\n",
    "\n",
    "  Beispiel (Fahrzeugklassen):\n",
    "\n",
    "  | Klassifizierung |\n",
    "  |----------------------|\n",
    "  | Kleinwagen           |\n",
    "  | Kleintransporter     |\n",
    "  | Sportwagen           |\n",
    "\n",
    "**Für die neuen/unbekannten Daten, für die eine Vorhersage getroffen werden soll, liegen offensichtlich zunächst keine Zielgrößen vor.**"
   ]
  },
  {
   "cell_type": "markdown",
   "metadata": {},
   "source": [
    "### Erstellen eines Entscheidungsbaumes\n",
    "\n",
    "#### Konzept eines Entscheidungsbaumes\n",
    "\n",
    "Die zentrale Idee:  \n",
    "Ein Entscheidungsbaum trifft Entscheidungen durch eine sukzessive Zerlegung des Merkmalsraums.\n"
   ]
  },
  {
   "cell_type": "code",
   "execution_count": null,
   "metadata": {},
   "outputs": [],
   "source": [
    "# -------------------------------\n",
    "# Beispiel für einen Markmalsraum\n",
    "# -------------------------------\n",
    "\n",
    "import matplotlib.pyplot as plt\n",
    "import numpy as np\n",
    "\n",
    "# Plot erzeugen\n",
    "plt.figure(figsize=(8, 6))\n",
    "\n",
    "# Plotbereich setzen\n",
    "plt.xlim(0, 3000)\n",
    "plt.ylim(100, 300)\n",
    "\n",
    "# Farbige Regionen zeichnen mit plt.fill_between bzw. plt.axhspan / plt.axvspan\n",
    "\n",
    "# Klasse A: Kleinwagen (x < 1000 und y < 180)\n",
    "plt.fill_betweenx(y=[100, 180], x1=0, x2=1000, color='blue', alpha=0.2, label='Kleinwagen')\n",
    "\n",
    "# Klasse B: Sportwagen (x < 1000 und y >= 180)\n",
    "plt.fill_betweenx(y=[180, 300], x1=0, x2=1000, color='red', alpha=0.2, label='Sportwagen')\n",
    "\n",
    "# Klasse C: Kleintransporter (x >= 1000 und y < 150)\n",
    "plt.fill_betweenx(y=[100, 150], x1=1000, x2=3000, color='green', alpha=0.2, label='Kleintransporter')\n",
    "\n",
    "# Klasse D: Premium-SUV/Limousine (x >= 1000 und y >= 150)\n",
    "plt.fill_betweenx(y=[150, 300], x1=1000, x2=3000, color='orange', alpha=0.2, label='Premium-SUV/Limousine')\n",
    "\n",
    "# Klassengrenzen\n",
    "plt.axvline(x=1000, color='gray', linestyle='--', linewidth=2.5)\n",
    "plt.hlines(y=180, xmin=0, xmax=1000, color='gray', linestyle='--', linewidth=2.5)\n",
    "plt.hlines(y=150, xmin=1000, xmax=3000, color='gray', linestyle='--', linewidth=2.5)\n",
    "\n",
    "# Achsenbeschriftung, Titel, Legende\n",
    "plt.xlabel('Gewicht (kg)')\n",
    "plt.ylabel('Höchstgeschwindigkeit (km/h)')\n",
    "plt.title('Merkmalsraum mit farblich markierter Zerlegung (Beispiel)')\n",
    "plt.legend()\n",
    "plt.grid(True)\n",
    "plt.show()\n"
   ]
  },
  {
   "cell_type": "markdown",
   "metadata": {},
   "source": [
    "#### Aufbau des Baums\n",
    "\n",
    "Damit der Entscheidungsbaum die o.g. zentrale Idee umsetzen kann, muss für jeden Knoten (außer Blätter) klar definiert sein:\n",
    "- Auf welches Merkmal bezieht sich der Split eines Knotens\n",
    "- Welche Relation nutzt der Split\n",
    "- Auf welchen Grenzwert bezieht sich der Split\n",
    "\n",
    "Aus den Splits der Knoten ergibt sich die komplette Baumstruktur inklusive Anzahl und Anordnung aller Knoten.\n",
    "\n"
   ]
  },
  {
   "cell_type": "markdown",
   "metadata": {},
   "source": [
    "##### -> Die optimale Definition der Splits kann berechnet werden. Und Python übernimmt das für uns.\n",
    "\n",
    "##### Aber auf welcher Basis?\n",
    "\n",
    "Auf Basis der *Trainingsdaten*.\n",
    "\n",
    "Trainingsdaten sind strukturierte Datensätze, die aus Eingabemerkmalen (Features) und den bekannten, dazugehörigen Zielwerten (Labels oder Klassen) bestehen.\n",
    "\n",
    "Die Struktur des Entscheidungsbaumes – also welche Merkmale in welcher Reihenfolge abgefragt werden und wo die Grenzen verlaufen – wird direkt aus ihnen abgeleitet.\n",
    "\n",
    "Der Wahrheitsgehalt der Trainingsdaten ist dabei entscheidend: Die enthaltenen Merkmale und Klassenlabels gelten als korrekt (*Ground Truth*). Fehlerhafte oder verzerrte Daten können zu einem fehlerhaften Modell führen, das falsche oder verzerrte Vorhersagen trifft.\n",
    "Die Qualität und Repräsentativität der Trainingsdaten beeinflusst somit maßgeblich die Güte der späteren Klassifikationen.\n"
   ]
  },
  {
   "cell_type": "markdown",
   "metadata": {},
   "source": [
    "### Zusammengefasst\n",
    "\n",
    "#### Sortieren wir die folgenden Begriffe. Was ergibt sich woraus?\n",
    "\n",
    "- Trainingsdaten\n",
    "- Vorhersage\n",
    "- Neue Daten\n",
    "- Entscheidungsbaum\n",
    "- Merkmale\n",
    "- Zielwerte\n"
   ]
  },
  {
   "cell_type": "markdown",
   "metadata": {},
   "source": [
    "## Phase II - Hands-on\n",
    "\n",
    "### 1. Aufgabe: Eine Klassifizierung durchführen - vom Aufbau des Baumes bis zur Entscheidungsfindung\n",
    "\n",
    "In dieser Aufgabe soll ein vollständiges Programm zur Klassifizierung mittels Entscheidungsbaum programmiert werden. \n",
    "\n",
    "Als Anwendungsfall dient die Klassifikation von Fahrzeugen anhand ihres Gewichts und ihrer Geschwindigkeit.  \n",
    "Gegeben seien die folgenden Daten, von denen eine korrekte Klassifizierung bereits bekannt ist:\n",
    "\n",
    "| Gewicht (kg) | Höchstgeschwindigkeit (km/h) | Klasse                 |\n",
    "|--------------|------------------------------|------------------------|\n",
    "| 800          | 160                          | Kleinwagen             |\n",
    "| 900          | 170                          | Kleinwagen             |\n",
    "| 950          | 175                          | Kleinwagen             |\n",
    "| 900          | 200                          | Sportwagen             |\n",
    "| 950          | 220                          | Sportwagen             |\n",
    "| 750          | 290                          | Sportwagen             |\n",
    "| 1100         | 140                          | Kleintransporter       |\n",
    "| 1200         | 145                          | Kleintransporter       |\n",
    "| 1300         | 130                          | Kleintransporter       |\n",
    "| 1200         | 190                          | Premium-SUV/Limousine  |\n",
    "| 1500         | 180                          | Premium-SUV/Limousine  |\n",
    "| 2600         | 170                          | Premium-SUV/Limousine  |\n",
    "\n",
    "\n",
    "1. Erstellen Sie für die Tabelle ein Pandas DataFrame.\n",
    "\n",
    "2. Informieren Sie sich, wie mit dem Python Paket *sklearn* eine Klassifizierung mittels Entscheidungsbaumes programmiert wird.\n",
    "\n",
    "3. Schreiben Sie ein Python Programm, in dem die Klassifizierung mittels Entscheidungsbaumes für das Beispiel der Fahrzeugklassen umgesetzt wird.\n",
    "   - Trainieren Sie den Entscheidungsbaum mit den Daten aus dem DataFrame\n",
    "   - Lassen Sie den Entscheidungsbaum für einen beliebigen neuen Datenpunkt eine Vorhersage der Klasse machen\n",
    "\n",
    "4. Testen Sie die Vorhersage anhand unterschiedlicher neuer Datenpunkte.\n"
   ]
  },
  {
   "cell_type": "code",
   "execution_count": null,
   "metadata": {},
   "outputs": [],
   "source": [
    "# Module importieren\n",
    "import pandas as pd\n",
    "from sklearn.tree import DecisionTreeClassifier, plot_tree\n",
    "import matplotlib.pyplot as plt   \n",
    "\n",
    "\n",
    "# Tabellendaten als DataFrame\n",
    "daten = [\n",
    "    {\"Gewicht (kg)\": 800, \"Höchstgeschwindigkeit (km/h)\": 160, \"Klasse\": \"Kleinwagen\"},\n",
    "    {\"Gewicht (kg)\": 900, \"Höchstgeschwindigkeit (km/h)\": 170, \"Klasse\": \"Kleinwagen\"},\n",
    "    {\"Gewicht (kg)\": 950, \"Höchstgeschwindigkeit (km/h)\": 175, \"Klasse\": \"Kleinwagen\"},\n",
    "    {\"Gewicht (kg)\": 900, \"Höchstgeschwindigkeit (km/h)\": 200, \"Klasse\": \"Sportwagen\"},\n",
    "    {\"Gewicht (kg)\": 950, \"Höchstgeschwindigkeit (km/h)\": 220, \"Klasse\": \"Sportwagen\"},\n",
    "    {\"Gewicht (kg)\": 750, \"Höchstgeschwindigkeit (km/h)\": 290, \"Klasse\": \"Sportwagen\"},\n",
    "    {\"Gewicht (kg)\": 1100, \"Höchstgeschwindigkeit (km/h)\": 140, \"Klasse\": \"Kleintransporter\"},\n",
    "    {\"Gewicht (kg)\": 1200, \"Höchstgeschwindigkeit (km/h)\": 145, \"Klasse\": \"Kleintransporter\"},\n",
    "    {\"Gewicht (kg)\": 1300, \"Höchstgeschwindigkeit (km/h)\": 130, \"Klasse\": \"Kleintransporter\"},\n",
    "    {\"Gewicht (kg)\": 1200, \"Höchstgeschwindigkeit (km/h)\": 190, \"Klasse\": \"Premium-SUV/Limousine\"},\n",
    "    {\"Gewicht (kg)\": 1500, \"Höchstgeschwindigkeit (km/h)\": 180, \"Klasse\": \"Premium-SUV/Limousine\"},\n",
    "    {\"Gewicht (kg)\": 2600, \"Höchstgeschwindigkeit (km/h)\": 170, \"Klasse\": \"Premium-SUV/Limousine\"},\n",
    "]\n",
    "\n",
    "# Nikitas Version für die Daten\n",
    "data = {\n",
    "        \"Gewicht (kg)\": [800, 900, 950, 900, 950, 750, 1100, 1200, 1300, 1200, 1500, 2600],\n",
    "        \"Höchstgeschwindigkeit (km/h)\": [160, 170, 175, 200, 220, 290, 140, 145, 130, 190, 180, 170],\n",
    "        \"Klasse\": [\"Kleinwagen\", \"Kleinwagen\", \"Kleinwagen\", \"Sportwagen\", \"Sportwagen\", \"Sportwagen\",\n",
    "                  \"Kleintransporter\", \"Kleintransporter\", \"Kleintransporter\", \"Premium-SUV/Limousine\",\n",
    "                    \"Premium-SUV/Limousine\", \"Premium-SUV/Limousine\"]\n",
    "}\n",
    "\n",
    "df = pd.DataFrame(daten)\n",
    "\n",
    "#print(df)\n",
    "#print(df.Klasse)\n",
    "\n",
    "# Einen Klassifizierungsbaum trainieren\n",
    "\n",
    "    # Feature-Spalten und Zielvariable definieren\n",
    "feature_cols = ['Gewicht (kg)', 'Höchstgeschwindigkeit (km/h)']\n",
    "X = df[feature_cols] # Features\n",
    "y = df.Klasse # Target variable\n",
    "\n",
    "    # Klassifizierungsbaum erstellen\n",
    "baum = DecisionTreeClassifier()\n",
    "\n",
    "    # Klassifizierungsbaum trainieren\n",
    "baum.fit(X, y)\n",
    "\n",
    "\n",
    "# Einen neuen Datenpunkt mit seinen Merkmalen definieren und als Dataframe formatieren\n",
    "neue_datenpunkte = pd.DataFrame(\n",
    "    {\n",
    "        \"Gewicht (kg)\": [1500,700,1200],\n",
    "        \"Höchstgeschwindigkeit (km/h)\": [100,200,180]\n",
    "    }\n",
    ")\n",
    "\n",
    "# Vorhersage für neue Datenpunkte mittels Entscheidungsbaum\n",
    "vorhersage = baum.predict(neue_datenpunkte)\n",
    "print(f\"Vorhersage für den neuen Datenpunkt: {vorhersage}\")\n",
    "neue_datenpunkte['Vorhersage'] = vorhersage\n",
    "print(neue_datenpunkte)\n",
    "\n",
    "# Plot des Entscheidungsbaums\n",
    "plt.figure(figsize=(12, 8))\n",
    "plot_tree(baum, feature_names=feature_cols, class_names=baum.classes_, filled=True)\n",
    "plt.show()"
   ]
  },
  {
   "cell_type": "markdown",
   "metadata": {},
   "source": [
    "### 2. Aufgabe: Analyse des Entscheidungsbaums\n",
    "\n",
    "Der Baum kann in Python direkt grafisch ausgegeben werden! \n",
    "\n",
    "Lassen Sie sich Ihren erzeugten Baum ausgeben.\n",
    "Informieren Sie sich über die Bedeutung der angezeigten Informationen.  "
   ]
  },
  {
   "cell_type": "code",
   "execution_count": null,
   "metadata": {},
   "outputs": [],
   "source": [
    "# Oben hinzugefügt"
   ]
  },
  {
   "cell_type": "markdown",
   "metadata": {},
   "source": [
    "### 3. Aufgabe: Visualisierung\n",
    "\n",
    "Plotten Sie mit mathplotlib ein 2-dimensionales Diagramm, mit Gewicht als x-Achse und Höchstgeschwindigkeit als y-Achse.\n",
    "Zeichnen Sie die Zerlegung des Merkmalsraumes ein, so wie sie der Entscheidungsbaum aus Aufgabe 1 vornimmt.\n",
    "Fügen Sie auch die Trainingsdaten aus Aufgabe 1 als Datenpunkte in Ihr Diagramm ein.\n"
   ]
  },
  {
   "cell_type": "code",
   "execution_count": null,
   "metadata": {},
   "outputs": [],
   "source": [
    "# Module importieren\n",
    "\n",
    "\n",
    "# Datenpunkte \n",
    "\n",
    "# Plot erzeugen\n"
   ]
  },
  {
   "cell_type": "markdown",
   "metadata": {},
   "source": [
    "\n",
    "Rückblick: In der vorangegangenen Unterrichtseinheit haben wir zu Beginn folgende Werte genutzt um die Fahrzeugklassen zu unterscheiden:\n",
    "\n",
    "| Klasse                  | Gewicht (kg)            | Höchstgeschwindigkeit (km/h) |\n",
    "|-------------------------|-------------------------|-------------------------------|\n",
    "| Kleinwagen          | < 1000                  | < 180                         |\n",
    "| Sportwagen          | < 1000                  | ≥ 180                         |\n",
    "| Kleintransporter    | ≥ 1000                  | < 150                         |\n",
    "| Premium-SUV         | ≥ 1000                  | ≥ 150                         |\n",
    "\n",
    "Warum hat der tatsächliche Entscheidungsbaum nun andere Grenzwerte?"
   ]
  },
  {
   "cell_type": "markdown",
   "metadata": {},
   "source": [
    "### 4. Aufgabe - Klassifikation der Schwertlilien mit einem Entscheidungsbaum\n",
    "\n",
    "<img src=\"./PythonGrundlagen_023_Bilder/iris_flower_magnifying_glass.webp\" alt=\"Diagramm\" width=\"550\" />\n",
    "\n",
    "Schreiben Sie ein Python-Programm, das die berühmten *Schwertlilien-Daten (Iris-Datensatz)* mithilfe eines Entscheidungsbaums klassifiziert.\n",
    "Trainieren Sie dazu ein Entscheidungsbaum-Modell auf dem Iris-Datensatz, um die drei Iris-Arten (Setosa, Versicolor, Virginica) anhand ihrer Merkmale zu unterscheiden. Der Datensatz liegt vor in der Datei iris.csv.\n",
    "\n",
    "#### Schritte:\n",
    "1. Laden Sie den Iris-Datensatz in ein DataFrame.\n",
    "2. Trainieren Sie einen Entscheidungsbaum mit den Merkmalsdaten und den zugehörigen Klassenlabels.\n",
    "3. Testen Sie das Modell. Treffen Sie mit seiner Hilfe Vorhersagen durch einzelne Beispieldatenpunkte.\n",
    "\n",
    "*Variante:* Trainieren Sie den Entscheidungsbaum nur mit einem Teil des Iris-Datensatzes, und testen Sie das Modell dann an den übrigen Daten.\n",
    "\n"
   ]
  },
  {
   "cell_type": "code",
   "execution_count": null,
   "metadata": {},
   "outputs": [],
   "source": [
    "# Module importieren\n",
    "\n",
    "# 1. Iris-Datensatz laden\n",
    "\n",
    "# 2. Entscheidungsbaum anlegen und trainieren\n",
    "\n",
    "# 3. Testen mit einzelnen Beispielen\n",
    "\n"
   ]
  }
 ],
 "metadata": {
  "kernelspec": {
   "display_name": "Python 3",
   "language": "python",
   "name": "python3"
  },
  "language_info": {
   "codemirror_mode": {
    "name": "ipython",
    "version": 3
   },
   "file_extension": ".py",
   "mimetype": "text/x-python",
   "name": "python",
   "nbconvert_exporter": "python",
   "pygments_lexer": "ipython3",
   "version": "3.12.5"
  }
 },
 "nbformat": 4,
 "nbformat_minor": 2
}
