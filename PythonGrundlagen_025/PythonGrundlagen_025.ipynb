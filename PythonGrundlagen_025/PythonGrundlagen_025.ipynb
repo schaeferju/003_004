{
 "cells": [
  {
   "cell_type": "markdown",
   "metadata": {},
   "source": [
    "# 12.06.2025 - Entscheidungsbäume mit kategorischen/textuellen Merkmalen\n",
    "---\n",
    "Wir betrachten noch einmal genauer die Schwierigkeit, die entsteht, wenn Merkmale nicht als numerische Daten vorliegen, sondern kategorisch/textuell. Diesbezüglich machen wir einen Exkurs in das Thema Label Encoding vs. One-hot Encoding.\n",
    "\n",
    "Die weitere Unterrichtszeit ist für den Start der Arbeiten zur Leistungsfeststellung \"Projekt Temperaturentwicklungen analysieren\" angedacht.\n",
    "\n",
    "* Zur Bearbeitung der Aufgaben können Sie benötigte Informationen zu Python-Befehlen und zu KI relevanten Bibliotheken (numpy, scikit, pandas) aus allen verfügbaren Quellen beziehen. Die meisten findet man natürlich über eine Suche im Internet, oder durch die Nutzung von KI chat-Systemen selbst.\n",
    "Ein gutes Tutorial für den Start findet sich  z.B. hier: https://www.python-kurs.eu/numerisches_programmieren_in_Python.php"
   ]
  },
  {
   "cell_type": "markdown",
   "metadata": {},
   "source": [
    "## Phase I: Entscheidungsbäume mit kategorischen/textuellen Merkmalen"
   ]
  },
  {
   "cell_type": "markdown",
   "metadata": {},
   "source": [
    "### Neuer Anwendungsfall: Klassifizierung von Pilzen in Essbar/Giftig\n",
    "\n",
    "Bekanntermaßen sind Pilze in Deutschland nicht per se essbar – im Gegenteil: Die Grenze zwischen Delikatesse und tödlichem Irrtum kann hauchdünn sein. Seit jeher beschäftigt die Unterscheidung zwischen essbaren und giftigen Pilzen Menschen aller Kulturen, und besonders in unseren heimischen Wäldern lauern zahlreiche Doppelgänger, die selbst geübte Sammler in die Irre führen können.\n",
    "\n",
    "Im Folgenden befassen auch wir uns - im Kontext der Entscheidungsbäume - mit der Klassifikation der Pilze. \n",
    "\n",
    "\n",
    "#### Vergleich der Merkmalsbeschaffenheit: Schwertlilien vs. Pilze\n",
    "\n",
    "**-> Vergleichen Sie die Datensätze der Schwertlilienklassifikation (iris.csv) mit denen der Pilzklassifizierung (agaricus-lepiota.data). Was fällt bezüglich der Merkmale auf?**\n",
    "\n",
    "Ein Auszug aus den Daten steht auch in den folgenden zwei Tabellen:\n",
    "\n",
    "\n",
    "| Sepal Length | Sepal Width | Petal Length | Petal Width | Variety     |\n",
    "|--------------|-------------|--------------|-------------|-------------|\n",
    "| 5.1          | 3.5         | 1.4          | 0.2         | Setosa      |\n",
    "| 7.0          | 3.2         | 4.7          | 1.4         | Versicolor  |\n",
    "| 6.3          | 3.3         | 6.0          | 2.5         | Virginica   |\n",
    "\n",
    "*Tabelle 1: Merkmalsauszug – Iris-Datensatz*\n",
    "\n",
    "<br>\n",
    "\n",
    "| Class | Cap Shape | Cap Color | Odor | Gill Size |\n",
    "|-------|-----------|-----------|------|------------|\n",
    "| p     | x         | n         | p    | n          |\n",
    "| e     | x         | y         | a    | b          |\n",
    "| p     | b         | w         | l    | n          |\n",
    "\n",
    "*Tabelle 2: Merkmalsauszug – Mushroom-Datensatz*\n",
    "\n",
    "<br>\n",
    "<br>\n",
    "\n",
    "##### Beobachtung:\n",
    "\n",
    "Der Iris-Datensatz enthält ausschließlich numerische Merkmale, die kontinuierliche Messwerte darstellen (z. B. Blütenlängen in cm).\n",
    "\n",
    "Der Mushroom-Datensatz hingegen besteht aus kategorischen Merkmalen, die diskrete Ausprägungen wie Farben oder Gerüche kodieren (repräsentiert durch Buchstabencodes).\n"
   ]
  },
  {
   "cell_type": "markdown",
   "metadata": {},
   "source": [
    "### Wiederholung der Aufgabe - Klassifizierung von Pilzen in Essbar/Giftig\n",
    "\n",
    "<img src=\"./PythonGrundlagen_025_Bilder/20250601_Marios_Mushroom_Dilemma.png\" alt=\"Diagramm\" width=\"550\" />\n",
    "\n",
    "Ziel ist es, ein Python-Programm zu entwickeln, das anhand der Daten in *agaricus-lepiota.data* einen Entscheidungsbaum trainiert, um Pilze in die Klassen *Essbar* und *Giftig* zu klassifizieren.\n",
    "\n",
    "#### Schritte:\n",
    "1. Informieren Sie sich darüber, wie man das Problem löst, dass der *sklearn.DecisionTreeClassifier* nicht mit Merkmalen arbeiten kann, deren Werte textuell sind.\n",
    "2. Trainieren Sie einen Entscheidungsbaum mit den Merkmalsdaten und den zugehörigen Klassenlabels.\n",
    "3. Testen Sie das Modell. Treffen Sie mit seiner Hilfe Vorhersagen durch einzelne Beispieldatenpunkte.\n",
    "4. Lassen Sie sich den Entscheidungsbaum als Graph ausgeben und unteruchen Sie seine Eigenschaften.\n",
    "\n",
    "<br>\n",
    "\n",
    "> **Verwenden Sie weder Ihr Modell, noch das eines anderen, um tatsächlich zu entscheiden, ob Sie einen Pilz essen oder nicht! Weder die angewandten Trainingsdaten noch die besprochenen Modelle sind verifiziert!**"
   ]
  },
  {
   "cell_type": "markdown",
   "metadata": {},
   "source": [
    "### Exkurs: Umwandlung kategorialer Merkmale in numerische: Label Encoding vs. One-Hot Encoding\n",
    "\n",
    "Dieser Exkurs betrifft den 1. Schritt aus obiger Aufgabenstellung.\n",
    "\n",
    "Kategorische Merkmale müssen vor der Verarbeitung durch viele Machine-Learning-Modelle in numerische Form gebracht werden. Zwei gängige Methoden dafür sind **Label Encoding** und **One-Hot Encoding**.\n",
    "\n",
    "#### Label Encoding\n",
    "Beim Label Encoding wird jeder Ausprägung eines kategorialen Merkmals eine eindeutige Ganzzahl zugewiesen. Beispiel: zur Kategorie Farbe: `\"rot\" → 0`, `\"grün\" → 1`, `\"blau\" → 2`. Diese Methode ist speichereffizient, führt aber zu einer künstlichen Ordnung zwischen den Kategorien.\n",
    "\n",
    "#### One-Hot Encoding\n",
    "One-Hot Encoding wandelt jeden möglichen Wert einer Kategorie in ein eigenes Merkmal um. Für drei Ausprägungen entstehen drei neue Spalten, z. B.: `\"Farbe rot\" → [0, 1]`, `\"Farbe grün\" → [0, 1]`, `\"Farbe blau\" → [0, 1]`. Jede der neuen Spalten kann dann nur die Werte 1 (True) oder 0 (False) als Merkmalswerte enthalten.\n",
    "\n"
   ]
  },
  {
   "cell_type": "markdown",
   "metadata": {},
   "source": [
    "### Code mit Label Encoding:"
   ]
  },
  {
   "cell_type": "code",
   "execution_count": null,
   "metadata": {},
   "outputs": [],
   "source": []
  },
  {
   "cell_type": "code",
   "execution_count": null,
   "metadata": {},
   "outputs": [],
   "source": []
  },
  {
   "cell_type": "markdown",
   "metadata": {},
   "source": [
    "### Code mit One-hot Encoder:"
   ]
  },
  {
   "cell_type": "code",
   "execution_count": null,
   "metadata": {},
   "outputs": [],
   "source": []
  },
  {
   "cell_type": "markdown",
   "metadata": {},
   "source": [
    "## Phase II - Leistungsfeststellung: Projekt \"Temperaturentwicklungen analysieren\""
   ]
  },
  {
   "cell_type": "markdown",
   "metadata": {},
   "source": [
    "-> Vorstellung des Arbeitsauftrages und selbstständiges Bearbeiten."
   ]
  }
 ],
 "metadata": {
  "kernelspec": {
   "display_name": ".venv",
   "language": "python",
   "name": "python3"
  },
  "language_info": {
   "codemirror_mode": {
    "name": "ipython",
    "version": 3
   },
   "file_extension": ".py",
   "mimetype": "text/x-python",
   "name": "python",
   "nbconvert_exporter": "python",
   "pygments_lexer": "ipython3",
   "version": "3.9.13"
  }
 },
 "nbformat": 4,
 "nbformat_minor": 2
}
