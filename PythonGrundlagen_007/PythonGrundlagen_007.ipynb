{
 "cells": [
  {
   "cell_type": "markdown",
   "metadata": {},
   "source": [
    "# 4.12.2024 - Zentrale Eigenschaften von Klassen in Python\n",
    "---\n",
    "Klassen in Python bieten eine Vielzahl an Möglichkeiten, die objektorientierte Denkweise mit der zugehörigen Datenkapselung in Python umzusetzen. Wir lernen einige dieser Standardeigenschaften kennen. Dazu gehört der elegante Zugriff auf Attribute mittels Dekoratoren. Außerdem schauen wir uns an, welche Stufen der Sichtbarkeit/des Zugriffs auf Attribute es gibt und wie wir sie anwenden können.\n",
    "\n",
    "* Zur Bearbeitung der Aufgaben können Sie benötigte Informationen zu Python-Befehlen und zu KI relevanten Bibliotheken (numpy, scikit, pandas) aus allen verfügbaren Quellen beziehen. Die meisten findet man natürlich über eine Suche im Internet, oder durch die Nutzung von KI chat-Systemen selbst.\n",
    "Ein gutes Tutorial für den Start findet sich  z.B. hier: https://www.python-kurs.eu/numerisches_programmieren_in_Python.php"
   ]
  },
  {
   "cell_type": "markdown",
   "metadata": {},
   "source": [
    "## Phase 1: Wiederholung des Einstiegs in das Thema Klassen\n",
    "\n",
    "Das Konzept der *objektorientierten Programmierung (OOP)* basiert darauf, beim Programmieren eine objektbezogene Sichtweise einzunehmen. D.h., dass man Daten und die dazugehörigen Funktionen, die auf diesen Daten arbeiten, in sogenannten *Objekten* bündelt. Objekte können dabei ganz realitätsnahe Dinge sein (z. B. ein Auto) oder abstrakte Elemente eines Programms (z. B. ein Array in NumPy) repräsentieren.\n",
    "\n",
    "In Python dienen *Klassen* als Baupläne für Objekte. Sie legen fest, welche *Attribute* (Daten) und *Methoden* (Funktionen) ein Objekt besitzt und wie diese Methoden auf die Attribute zugreifen oder sie verändern. Klassen ermöglichen es so, sowohl reale als auch abstrakte Konzepte strukturiert und wiederverwendbar im Code abzubilden."
   ]
  },
  {
   "cell_type": "markdown",
   "metadata": {},
   "source": [
    "### Wiederholung zur Aufgabe: Klasse zur Beschreibung und Nutzung von Holzbauteilen\n",
    "\n",
    "In dieser Aufgabe geht es um (Holz)bauteile. Jedes Bauteil ist mit seiner Länge und Breite angegeben.\n",
    "Um Informationen über Materialbedarf und Passgenauigkeit zu bekommen, interessieren auch der daraus resultierende Flächeninhalt und Umfang eines jeden Bauteils.\n",
    "\n",
    "Erstellen Sie ein Python Programm, das im objektorientierten Stil (d.h. durch Nutzung einer Klasse :) ) unten angegebene Bauteile im code handhabt und den Flächeninhalt sowie den Umfang eines Bauteils berechnet."
   ]
  },
  {
   "cell_type": "markdown",
   "metadata": {},
   "source": [
    "| Bauteil Nr. | Länge (m) | Breite (m) |\n",
    "|-------------|-----------|------------|\n",
    "| 1           | 2         | 3          |\n",
    "| 2           | 0.5       | 0.8        |\n",
    "| 3           | 0.2       | 0.1        |\n",
    "| 4           | 2.5       | 2.5        |\n",
    "| 5           | 1         | 1.8        |\n"
   ]
  },
  {
   "cell_type": "code",
   "execution_count": 2,
   "metadata": {},
   "outputs": [
    {
     "name": "stdout",
     "output_type": "stream",
     "text": [
      "Bauteil Nr. 999 - Länge: 0.5 m, Breite: 0.8 m, Fläche: 0.40 m², Umfang: 2.60 m\n",
      "Bauteil Nr. 1 - Länge: 2 m, Breite: 3 m, Fläche: 6.00 m², Umfang: 10.00 m\n",
      "Bauteil Nr. 2 - Länge: 0.5 m, Breite: 0.8 m, Fläche: 0.40 m², Umfang: 2.60 m\n",
      "Bauteil Nr. 3 - Länge: 0.2 m, Breite: 0.1 m, Fläche: 0.02 m², Umfang: 0.60 m\n",
      "Bauteil Nr. 4 - Länge: 2.5 m, Breite: 2.5 m, Fläche: 6.25 m², Umfang: 10.00 m\n",
      "Bauteil Nr. 5 - Länge: 1 m, Breite: 1.8 m, Fläche: 1.80 m², Umfang: 5.60 m\n"
     ]
    }
   ],
   "source": [
    "# Klassendefinition\n",
    "class Bauteil:\n",
    "    def __init__(self, nummer, laenge, breite):\n",
    "        # Konstruktor, der Bauteilnummer, Länge und Breite des Bauteils initialisiert\n",
    "        self.nummer = nummer\n",
    "        self.laenge = laenge\n",
    "        self.breite = breite\n",
    "\n",
    "    def berechne_flaeche(self):\n",
    "        # Methode: Berechnet die Fläche des Bauteils\n",
    "        return self.laenge * self.breite\n",
    "\n",
    "    def berechne_umfang(self):\n",
    "        # Methode: Berechnet den Umfang des Bauteils\n",
    "        return 2 * (self.laenge + self.breite)\n",
    "\n",
    "    def __str__(self):\n",
    "        # Gibt eine textuelle Beschreibung des Bauteils mit Nummer, Länge, Breite, Fläche und Umfang zurück\n",
    "        return \"Bauteil Nr. {0} - Länge: {1} m, Breite: {2} m, Fläche: {3:.2f} m², Umfang: {4:.2f} m\".format(\n",
    "            self.nummer, self.laenge, self.breite, self.berechne_flaeche(), self.berechne_umfang()\n",
    "        )\n",
    "\n",
    "\n",
    "# Hauptprogramm\n",
    "\n",
    "restBauteil = Bauteil(999, 0.5, 0.8)\n",
    "print(restBauteil);\n",
    "\n",
    "# Liste von Bauteilen (Länge und Breite laut der Tabelle)\n",
    "bauteile = [\n",
    "    Bauteil(1, 2, 3),\n",
    "    Bauteil(2, 0.5, 0.8),\n",
    "    Bauteil(3, 0.2, 0.1),\n",
    "    Bauteil(4, 2.5, 2.5),\n",
    "    Bauteil(5, 1, 1.8)\n",
    "]\n",
    "\n",
    "# Ausgabe der Informationen zu jedem Bauteil\n",
    "for bauteil in bauteile:\n",
    "    print(bauteil)\n"
   ]
  },
  {
   "cell_type": "markdown",
   "metadata": {},
   "source": [
    "### 1. Aufgabe: Erweiterung der Klasse Bauteil\n",
    "\n",
    "Erstellen Sie eine Methode \"kuerzen\", die die Länge und die Breite des Bauteil um einen bestimmte Werte verkürzt. Die Werte sollen frei wählbar sein. "
   ]
  },
  {
   "cell_type": "code",
   "execution_count": null,
   "metadata": {},
   "outputs": [],
   "source": [
    "# Klassendefinition\n",
    "        # Konstruktor, der Bauteilnummer, Länge und Breite des Bauteils initialisiert\n",
    "\n",
    "        # Methode: Berechnet die Fläche des Bauteils\n",
    "\n",
    "        # Methode: Berechnet den Umfang des Bauteils\n",
    "\n",
    "        # Methode: Kürzt die Länge und die Breite des Bauteils\n",
    "\n",
    "\n",
    "# Hauptprogramm\n",
    "\n"
   ]
  },
  {
   "cell_type": "markdown",
   "metadata": {},
   "source": [
    "### Etwas abstraktere Klassen\n",
    "\n",
    "Klassen werden in Python nicht nur für die modellierung von Objekten aus der realen Welt verwendet. Auch programmierte Code-Strukturen, die einen zusammenhängenden Kontext haben, können als Objekt aufgefasst werden.\n",
    "\n",
    "Z.B. ist ein NumPy-Array eine spezielle Art von Datenstruktur, die effizient große Mengen an numerischen Daten speichert und eine Vielzahl von Funktionen zur Verfügung stellt, um mit diesen Daten zu arbeiten.\n",
    "Konkrete NumPy-Arrays, die im Code benutzt werden, sind Instanzen der Klasse numpy.ndarray. Diese Klasse enthält eine Vielzahl von Methoden und Attributen, die speziell für numerische Berechnungen und Datenmanipulationen entwickelt wurden. Diese Methoden und Attribute können auf den jeweiligen Arrays angewendet werden, um zum Beispiel die Summe, das Maximum und das Minimum der Elemente zu berechnen.\n",
    "\n",
    "##### Ein paar Attribute der Klasse numpy.ndarray:\n",
    "- `ndarray.shape`: Gibt die Dimensionen des Arrays zurück (z. B. die Anzahl der Zeilen und Spalten bei einem 2D-Array).\n",
    "- `ndarray.size`: Gibt die Gesamtzahl der Elemente im Array zurück.\n",
    "- `ndarray.dtype`: Gibt den Datentyp der Elemente im Array zurück.\n",
    "\n",
    "##### Ein paar Methoden der Klasse numpy.ndarray::\n",
    "- `sum()`: Berechnet die Summe aller Elemente im Array.\n",
    "- `max()`: Gibt das größte Element im Array zurück.\n",
    "- `min()`: Gibt das kleinste Element im Array zurück.\n",
    "\n"
   ]
  },
  {
   "cell_type": "markdown",
   "metadata": {},
   "source": [
    "### 2. Aufgabe: Ausprobieren\n",
    "\n",
    "Erstellen Sie das 2-dimensionales numpy array: \n",
    "$\n",
    "\\begin{pmatrix}\n",
    "1 & 2 & 3 \\\\\n",
    "4 & 5 & 6\n",
    "\\end{pmatrix}\n",
    "$.\n",
    "\n",
    "Fragen Sie oben angegebene Attribute des arrays ab, und rufen Sie die oben angegebenen Methoden des arrays auf.\n",
    "Fügen Sie dem array eine Zeile hinzu, und beobachten Sie, wie sich die Attribute und die Rückgabewerte der Methoden ändern. Überlegen Sie dabei, was intern innerhalb der Klasse  passiert."
   ]
  },
  {
   "cell_type": "code",
   "execution_count": null,
   "metadata": {},
   "outputs": [],
   "source": [
    "\n",
    "# Erstellen eines 2D-Arrays\n",
    "\n",
    "\n",
    "# Attribut: Form des Arrays (shape)\n",
    "\n",
    "# Attribut: Anzahl der Elemente im Array (size)\n",
    "\n",
    "\n",
    "# Methode: Berechnung der Summe der Elemente im Array (über das gesamte Array)\n",
    "\n",
    "# Methode: Berechnung des Maximums der Elemente im Array (über das gesamte Array)\n",
    "\n",
    "# Methode: Berechnung des Minimums der Elemente im Array (über das gesamte Array)\n"
   ]
  },
  {
   "cell_type": "markdown",
   "metadata": {},
   "source": [
    "## Phase 2: Zentrale Eigenschaften von Klassen"
   ]
  },
  {
   "cell_type": "markdown",
   "metadata": {},
   "source": [
    "### Getter, Setter und Dekoratoren (nicht nur in der Vorweihnachtszeit)\n",
    "\n",
    "*Getter-* und *Settermethoden* bieten einen geregelten Zugriff von Außen auf die Attribute einer Klasse. Mittels *Dekoratoren* wird dieser Zugriff wieder intuitiv: Die getter- und setter-Methoden müssen dann nicht wie Funktionen aufgerufen werden. Anstatt dessen können die Attribute der Klasse direkt benutzt werden.  "
   ]
  },
  {
   "cell_type": "markdown",
   "metadata": {},
   "source": [
    "### 3. Aufgabe: Verwendung von Getter- und Setter-Dekoratoren\n",
    "\n",
    "Erweitern Sie die Klasse Bauteil um Dekoratoren @property und @laenge.setter. Der erste Dekorator @property soll den Wert der Länge zurückgeben. Mit dem zweiten Dekorator @laenge.setter soll man den Wert für Laenge setzen können.\n",
    "\n",
    "Wenden sie das Konzept der Dekoratoren analog auf das Attribut breite an."
   ]
  },
  {
   "cell_type": "code",
   "execution_count": null,
   "metadata": {},
   "outputs": [],
   "source": [
    "# Klassendefinition\n",
    "    # Konstruktor, der Bauteilnummer, Länge und Breite des Bauteils initialisiert\n",
    "\n",
    "    # Getter mit Dekorator @property : Gibt den Wert der Länge zurück\n",
    "\n",
    "    # Getter mit Dekorator @laenge.setter : Setzt den Wert der Länge\n",
    "\n",
    "    # Methoden\n",
    "\n",
    "\n",
    "# Hauptprogramm"
   ]
  },
  {
   "cell_type": "markdown",
   "metadata": {},
   "source": [
    "### Wie im echten Leben: Öffentliche, geschützte und private Attribute"
   ]
  },
  {
   "cell_type": "markdown",
   "metadata": {},
   "source": [
    "Das Konzept der *objektorientierten Programmierung (OOP)* beinhaltet, dass man den Zugriff und die Sichtbarkeit \"von Außen\" auf die Klassenattribute beschränken kann. Die zugehörigen Stufen der \"Privatsphäre\" sind:\n",
    "\n",
    "| **Deutsch**                     | **offizieller Begriff (Englisch))**           | **Bedeutung**                                           |\n",
    "|---------------------------------|-----------------------------------------------|---------------------------------------------------------|\n",
    "| Öffentlich                      | Public Attribute                              | Frei zugänglich, keine Namenspräfixe.                   |\n",
    "| Geschützt                       | Protected Attribute                           | Mit `_` markiert, nur als Konvention vor Zugriff von Außen geschützt.         |\n",
    "| Privat                          | Private Attribute                             | Mit `__` markiert, unmittelbarer Zugriff von Außen nicht möglich. |\n",
    "\n"
   ]
  },
  {
   "cell_type": "markdown",
   "metadata": {},
   "source": [
    "### 4. Aufgabe: Anwendung von Sichtbarkeitseigenschaften auf die Attribute der Bauteil-Klasse\n",
    "\n",
    "Fügen Sie der Klasse Bauteil eine Zählervariable hinzu, die zählt, wie oft das Bauteil gekürzt wurde. Mit einer @property decoration soll der Wert des Zählers abrufbar sein. Allerdings soll sein Wert nur innerhalb der Klasse verändert werden dürfen. \n",
    "Wenden Sie unterschiedliche Stufen der Sichtbarkeit (siehe Tabelle oben) auf die Attribute der Klasse an. "
   ]
  },
  {
   "cell_type": "code",
   "execution_count": null,
   "metadata": {},
   "outputs": [],
   "source": [
    "# Klassendefinition\n",
    "\n",
    "    # Konstruktor\n",
    "\n",
    "    # Getter Funktoinen mit Dekorator\n",
    "\n",
    "    # Setter Funktionen mit Dekorator\n",
    " \n",
    "    # Methoden\n",
    "\n",
    "\n",
    "# Hauptprogramm"
   ]
  }
 ],
 "metadata": {
  "kernelspec": {
   "display_name": ".venv",
   "language": "python",
   "name": "python3"
  },
  "language_info": {
   "codemirror_mode": {
    "name": "ipython",
    "version": 3
   },
   "file_extension": ".py",
   "mimetype": "text/x-python",
   "name": "python",
   "nbconvert_exporter": "python",
   "pygments_lexer": "ipython3",
   "version": "3.9.13"
  }
 },
 "nbformat": 4,
 "nbformat_minor": 2
}
