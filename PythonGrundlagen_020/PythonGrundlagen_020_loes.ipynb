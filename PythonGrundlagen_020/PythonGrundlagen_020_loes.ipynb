{
 "cells": [
  {
   "cell_type": "markdown",
   "metadata": {},
   "source": [
    "# 30.04.2025 - Assoziationen, Aggregationen und Kompositionen \n",
    "---\n",
    "Unter den Beziehungen zwischen Klassen gibt es nicht nur die Vererbung: Zwischen Klassen können weitere Beziehungen bestehen, mittels derer objektorientiert programmiert und modelliert werden kann: Assoziation, Aggregation und Komposition. Wir schauen uns theoretische und praktische Aspekte dieser Beziehungen zwischen Klassen an, und vertiefen sie im Kontext eines Anwendungsfalls.\n",
    "\n",
    "* Zur Bearbeitung der Aufgaben können Sie benötigte Informationen zu Python-Befehlen und zu KI relevanten Bibliotheken (numpy, scikit, pandas) aus allen verfügbaren Quellen beziehen. Die meisten findet man natürlich über eine Suche im Internet, oder durch die Nutzung von KI chat-Systemen selbst.\n",
    "Ein gutes Tutorial für den Start findet sich  z.B. hier: https://www.python-kurs.eu/numerisches_programmieren_in_Python.php"
   ]
  },
  {
   "cell_type": "markdown",
   "metadata": {},
   "source": [
    "## Phase I - Assoziationen, Aggregationen und Kompositionen zwischen Klassen"
   ]
  },
  {
   "cell_type": "markdown",
   "metadata": {},
   "source": [
    "Neben der Vererbung können Klassen in der objektorientierten Programmierung auch auf andere Weise unterschiedlich starkt miteinander \"verbunden\" sein."
   ]
  },
  {
   "cell_type": "markdown",
   "metadata": {},
   "source": [
    "### Anwendungsbeispiel - Robotergestützte Produktion\n",
    "\n",
    "Ein Unternehmen nutzt eine automatisierte Produktionsstraße, die aus mehreren Robotern besteht. Diese Roboter sind mit Werkzeugen ausgestattet und kommunizieren mit einem externen Wartungssystem.\n",
    "\n",
    "Frage: In welcher Beziehung stehen die Klassen im Kontext dieses Anwendungsfalls zueinander?\n",
    "\n",
    "<img src=\"./PythonGrundlagen_020_Bilder/Produktionsstrasse_ohneBeziehungen.drawio.png\" alt=\"Diagramm\" width=\"550\" />"
   ]
  },
  {
   "cell_type": "markdown",
   "metadata": {},
   "source": [
    "#### Zusammenfassung der unterschidlichen Arten von Beziehungen zwischen Klassen:\n",
    "\n",
    "| Beziehungstyp      | Art der Verbindung | Beispiel |\n",
    "|--------------------|-------------------|----------|\n",
    "| **Vererbung (\"ist-ein\")** | Eine Klasse erbt von einer anderen <br> (Basisklasse → abgeleitete Klasse) | `Auto` erbt von `Fahrzeug` |\n",
    "| **Assoziation <br> (\"semantische Beziehung\")** | Zwei Klassen können miteinander interagieren. Sie kennen einander. | `Gast` besucht `Restaurant` |\n",
    "| **Aggregation <br> (\"Ganzes-Teile-Beziehung\", aber unabhängig)** | Eine Klasse fürht Objekte einer anderen Klasse in sich zusammen, aber sie können unabhängig voneinander existieren. | `Restaurant` besteht aus `Stühlen`, aber Stühle existieren auch ohne Restaurant |\n",
    "| **Komposition <br> (\"Ganzes-Teile-Beziehung\", aber abhängig)**** | Eine Klasse enthält Objekte einer anderen Klasse. Die Teile sind existenznotwendig für das Ganze und umgekehrt. | `Haus` besteht aus `Räume`, aber Räume existieren nicht ohne das Haus |\n"
   ]
  },
  {
   "cell_type": "markdown",
   "metadata": {},
   "source": [
    "*Assoziation*, *Aggregation* und *Komposition* sind **Konzepte** der Objektorientierten Modellierung.\n",
    "\n",
    "Sie spezifizieren Beziehungen der realen Welt im Modell.\n",
    "Die Umsetzung dieser Beziehungen - also die Programmierung - erfordert in Python *keine* speziellen Schlüsselwörter im Code.\n",
    "Die Konzepte werden durch die Art der Implementierung ausgedrückt, z. B dadurch, \n",
    "- ob Objekte echte Bestandteile eines anderen Objekts sind (*Komposition*),\n",
    "- oder nur Referenzen auf Objekte, die außerhalb der Klasse existieren, in die Klasse eingebunden werden (*Aggregation*),\n",
    "- oder ob ein Objekt Methoden eines anderen aufruft (*Assoziation*).\n",
    "\n",
    "Weiteres Unterscheidungsmerkmal: <br>\n",
    "-> Bei einer Komposition gehört ein Objekt fest zu einem anderen und wird auch mit ihm zerstört. Bei einer Aggregation oder Assoziation bleibt es unabhängig bestehen.\n",
    "\n"
   ]
  },
  {
   "cell_type": "markdown",
   "metadata": {},
   "source": [
    "### 1. Aufgabe - Implementierung der Produktionsstraße\n",
    "\n",
    "<img src=\"./PythonGrundlagen_020_Bilder_loes/Produktionsstrasse_mitBeziehungen.drawio.png\" alt=\"Diagramm\" width=\"550\" />\n",
    "\n",
    "#### Teil 1 (Assoziation)\n",
    "Implementieren Sie die Klassen `Roboter` und `Wartungssystem`, zunächst *ohne* die Attribute greifer und steuerung. Die Ausgabe der methode diagnose kann in diesem Bsp. beliebig sein.\n",
    "\n",
    "#### Teil 2 (Komposition)\n",
    "Informieren Sie sich darüber, wie eine Komposition in Python Programmcode aussieht. \n",
    "Implementieren Sie die Klassen `Greifarm` und `Steuerungseinheit`. Fügen Sie die entsprechenden Attribute <span style=\"font-family:monospace;\"> greifer</span> und <span style=\"font-family:monospace;\"> steuerung</span> der Klasse Robotor hinzu, in Form einer Komposition.\n",
    "\n",
    "#### Teil 3 (Aggregation)\n",
    "Informieren Sie sich darüber, wie eine Aggregation in Python Programmen aussieht. \n",
    "Implementieren Sie die Klasse `Produktionsstrasse`. Fügen Sie das Attribut <span style=\"font-family:monospace;\"> eingesetzteRoboter</span> der Klasse Produktionsstrasse hinzu, in Form einer Aggregation. Implementieren Sie dazu auch die Methode roboterHinzufügen.\n",
    "\n",
    "#### Teil 4 \n",
    "Erstellen Sie im Hauptprogramm Objekte der Klassen, sodass ein kleines Setup des Produktionsscenarios entsteht. Rufen Sie die Methoden der Objekte auf und überprüfen Sie die Werte ihrer Attribute.\n",
    "\n",
    "\n",
    "\n"
   ]
  },
  {
   "cell_type": "code",
   "execution_count": null,
   "metadata": {},
   "outputs": [],
   "source": [
    "# Klasssendefinitionen\n",
    "\n",
    "class Greifarm:\n",
    "    def __init__(self, tragkraft_init):\n",
    "        self.tragkraft = tragkraft_init         # z. B. 25 (kg)\n",
    "\n",
    "class Steuerungseinheit:\n",
    "    def __init__(self, SW_Version_init):\n",
    "        self.SW_Version = SW_Version_init       # z. B. \"1.005.7\"\n",
    "\n",
    "class Roboter:\n",
    "    def __init__(self, id_init, tragkraft_init, SW_Version_init):\n",
    "        self.id = id_init\n",
    "        self.greifarm = Greifarm(tragkraft_init)                # Komposition: Greifarm ist untrennbarer Bestandteil von Roboter\n",
    "        self.steuerung = Steuerungseinheit(SW_Version_init)     # Komposition: Steuerungseinheit ist untrennbarer Bestandteil von Roboter\n",
    "\n",
    "\n",
    "class Produktionsstrasse:\n",
    "    def __init__(self):\n",
    "        self.eingesetzteRoboter = []       \n",
    "    \n",
    "    def roboter_hinzufuegen(self, roboter):                     # Aggregation: Roboter Objekte existieren ausserhalb der Klasse Produktionsstrasse, werden hier nur referenziert\n",
    "        self.eingesetzteRoboter.append(roboter)                 \n",
    "\n",
    "\n",
    "class Wartungssystem:\n",
    "    def __init__(self, name_init):\n",
    "        self.name = name_init\n",
    "        self.anzDurchgfDiagnosen = 0  \n",
    "\n",
    "    def diagnose(self, roboter):                                # Assoziation: Wartungssystem \"kennt\" die Klasse Roboter, denn sie wird als Parameter in der Methode diagnose übergeben\n",
    "        self.anzDurchgfDiagnosen += 1\n",
    "        print( f\"Wartungsprüfung für Roboter {roboter.id} durchgeführt.\")\n",
    "        print( f\"Bis jetzt durchgeführte Diagnosen: {self.anzDurchgfDiagnosen}.\")\n",
    "\n",
    "\n",
    "# Hauptprogramm\n",
    "\n",
    "roboter1 = Roboter(\"T-800\", \"ARM Cortex-A72\", 10)\n",
    "wartung = Wartungssystem(\"SmartRoboMaintenance\")\n",
    "\n",
    "print(wartung.diagnose(roboter1.id))"
   ]
  },
  {
   "cell_type": "markdown",
   "metadata": {},
   "source": [
    "### Beispiele"
   ]
  },
  {
   "cell_type": "markdown",
   "metadata": {},
   "source": [
    "#### Beispiel Assoziation\n",
    "\n",
    "<img src=\"./PythonGrundlagen_020_Bilder/Assoziation.drawio.png\" alt=\"Diagramm\" width=\"550\" />"
   ]
  },
  {
   "cell_type": "code",
   "execution_count": 2,
   "metadata": {},
   "outputs": [
    {
     "name": "stdout",
     "output_type": "stream",
     "text": [
      "Anna hält sich gerade in zu Hause auf.\n",
      "\n",
      "Anna besucht das Restaurant 'Eurener Hof'.\n",
      "Anna hält sich gerade in Trier auf.\n",
      "\n",
      "Anna besucht das Restaurant 'Fritura Gemaal'.\n",
      "Anna hält sich gerade in Nieuwvliet auf.\n",
      "\n"
     ]
    }
   ],
   "source": [
    "class Restaurant:\n",
    "    def __init__(self, name, ort):\n",
    "        self.name = name\n",
    "        self.ort = ort\n",
    "\n",
    "class Gast:\n",
    "    def __init__(self, name):\n",
    "        self.name = name\n",
    "        self.aufenthaltsort = \"zu Hause\"\n",
    "\n",
    "    def besucheRestaurant(self, restaurant):\n",
    "        self.aufenthaltsort = restaurant.ort\n",
    "        print(f\"{self.name} besucht das Restaurant '{restaurant.name}'.\")\n",
    "\n",
    "\n",
    "# Beispielhafte Anwendung:\n",
    "gast1 = Gast(\"Anna\")\n",
    "restaurant1 = Restaurant(\"Eurener Hof\", \"Trier\")\n",
    "restaurant2 = Restaurant(\"Fritura Gemaal\", \"Nieuwvliet\")\n",
    "\n",
    "print(f\"{gast1.name} hält sich gerade in {gast1.aufenthaltsort} auf.\\n\")\n",
    "\n",
    "gast1.besucheRestaurant(restaurant1)\n",
    "print(f\"{gast1.name} hält sich gerade in {gast1.aufenthaltsort} auf.\\n\")\n",
    "\n",
    "gast1.besucheRestaurant(restaurant2)\n",
    "print(f\"{gast1.name} hält sich gerade in {gast1.aufenthaltsort} auf.\\n\")\n"
   ]
  },
  {
   "cell_type": "markdown",
   "metadata": {},
   "source": [
    "#### Beispiel Aggregation\n",
    "\n",
    "<img src=\"./PythonGrundlagen_020_Bilder/Aggregation.drawio.png\" alt=\"Diagramm\" width=\"550\" />"
   ]
  },
  {
   "cell_type": "code",
   "execution_count": 4,
   "metadata": {},
   "outputs": [
    {
     "name": "stdout",
     "output_type": "stream",
     "text": [
      "Im Restaurant 'Lo Stivale' stehen folgende Stühle:\n",
      " - 5\n",
      " - 1\n",
      " - 7\n",
      "Im Restaurant 'Lo Stivale' stehen folgende Stühle:\n",
      " - 999\n",
      " - 1\n",
      " - 7\n",
      "Im Restaurant 'Dreifinger-Joe' stehen folgende Stühle:\n",
      " - 999\n"
     ]
    }
   ],
   "source": [
    "class Stuhl:\n",
    "    def __init__(self, nummer):\n",
    "        self.nummer = nummer\n",
    "\n",
    "\n",
    "class Restaurant:\n",
    "    def __init__(self, name, ort):\n",
    "        self.name = name\n",
    "        self.ort = ort\n",
    "        self.stuehle = []  # Aggregation: Liste von extern erstellten Stuhl-Objekten\n",
    "\n",
    "    def fuegeStuhlHinzu(self, stuhl):\n",
    "        self.stuehle.append(stuhl)\n",
    "        \n",
    "    def zeigeStuehle(self):\n",
    "        print(f\"Im Restaurant '{self.name}' stehen folgende Stühle:\")\n",
    "        for stuhl in self.stuehle:\n",
    "            print(f\" - {stuhl.nummer}\")\n",
    "\n",
    "\n",
    "# Stühle werden unabhängig vom Restaurant erstellt:\n",
    "stuhlRot = Stuhl(1)\n",
    "stuhlBlau = Stuhl(5)\n",
    "stuhlGelb = Stuhl(7)\n",
    "\n",
    "# Restaurant wird erstellt\n",
    "pizzeria = Restaurant(\"Lo Stivale\", \"Daun\")\n",
    "\n",
    "\n",
    "# Anwendung:\n",
    "pizzeria.fuegeStuhlHinzu(stuhlBlau)\n",
    "pizzeria.fuegeStuhlHinzu(stuhlRot)\n",
    "pizzeria.fuegeStuhlHinzu(stuhlGelb)\n",
    "\n",
    "pizzeria.zeigeStuehle()\n",
    "\n",
    "# stuhlBlau wird von Pizzeria nur REFERENZIERT\n",
    "stuhlBlau.nummer= 999\n",
    "pizzeria.zeigeStuehle()\n",
    "\n",
    "# Mehrere Restaurant-Objekte können ein und das selbe Stuhl-Objekt referenzieren:\n",
    "Fritternbude = Restaurant(\"Dreifinger-Joe\", \"Trier\")\n",
    "\n",
    "Fritternbude.fuegeStuhlHinzu(stuhlBlau)\n",
    "\n",
    "Fritternbude.zeigeStuehle()\n"
   ]
  },
  {
   "cell_type": "markdown",
   "metadata": {},
   "source": [
    "#### Beispiel Komposition\n",
    "\n",
    "<img src=\"./PythonGrundlagen_020_Bilder/Komposition.drawio.png\" alt=\"Diagramm\" width=\"550\" />"
   ]
  },
  {
   "cell_type": "code",
   "execution_count": 5,
   "metadata": {},
   "outputs": [
    {
     "name": "stdout",
     "output_type": "stream",
     "text": [
      "Im Haus an der Adresse 'Beethovenstraße 10, Bonn' befinden sich folgende Räume:\n",
      " - Wohnzimmer mit 25.0 m²\n",
      " - Küche mit 12.0 m²\n",
      " - Schlafzimmer mit 18.0 m²\n",
      "\n",
      "Im Haus an der Adresse '725 5th Ave, New York' befinden sich folgende Räume:\n",
      " - Wohnzimmer mit 112.5 m²\n",
      " - Küche mit 54.0 m²\n",
      " - Schlafzimmer mit 81.0 m²\n"
     ]
    }
   ],
   "source": [
    "class Raum:\n",
    "    def __init__(self, bezeichnung, flaeche):\n",
    "        self.bezeichnung = bezeichnung\n",
    "        self.flaeche = flaeche\n",
    "\n",
    "\n",
    "class Haus:\n",
    "    def __init__(self, adresse, groessenfaktor):\n",
    "        self.adresse = adresse\n",
    "        # Komposition: Die Räume werden *im Haus* erstellt und gehören nur zu diesem Haus\n",
    "        self.raeume = [\n",
    "            Raum(\"Wohnzimmer\", 25*groessenfaktor),\n",
    "            Raum(\"Küche\", 12*groessenfaktor),\n",
    "            Raum(\"Schlafzimmer\", 18*groessenfaktor)\n",
    "        ]\n",
    "\n",
    "    def zeigeRaeume(self):\n",
    "        print(f\"Im Haus an der Adresse '{self.adresse}' befinden sich folgende Räume:\")\n",
    "        for raum in self.raeume:\n",
    "            print(f\" - {raum.bezeichnung} mit {raum.flaeche} m²\")\n",
    "\n",
    "\n",
    "# Haus wird erstellt \n",
    "wohnhausNormal = Haus(\"Beethovenstraße 10, Bonn\", 1.0)\n",
    "wohnhausGross = Haus(\"725 5th Ave, New York\", 4.5)\n",
    "\n",
    "# Anzeige\n",
    "wohnhausNormal.zeigeRaeume()\n",
    "print()\n",
    "wohnhausGross.zeigeRaeume()\n",
    "\n",
    "\n",
    "\n"
   ]
  },
  {
   "cell_type": "markdown",
   "metadata": {},
   "source": [
    "#### Unterschiede erkennen\n",
    "\n",
    "Um die unterschiedlichen Beziehungen herauszukristallisieren, helfen folgende Fragen:\n",
    "\n",
    "1. Wird ein Objket einer Klasse A innerhalb einer Klasse B erzeugt und \"lebt\" dort? Wenn ja, dann liegt eine Kompositions-Beziehung zwischen A und B vor. Wenn nein (Objekte der Klasse A werden außerhalb der Klasse B erzeugt), dann handelt es sich um eine Aggregation oder Assoziation.\n",
    "2. Wenn ein Objekt der Klasse B \"zerstört\" wird, existieren dann die Objekte der Klasse A weiter? Wenn nein, dann ist dies eine weitere Bestätigung für eine Kompositions-Beziehung. Wenn, ja, dann handelt es sich um eine Aggregation oder Assoziation.\n",
    "3. Gehören Objekte der Klasse A nicht zu den \"Bestandteilen\" der Klasse B, so handelt es sich weder um eine Komposition, noch um eine Aggregation. Wenn aber Klasse B mit Klasse A interagiert (z.B. weil Klasse A in Methodenaufrufen von Klasse B verwendet wird), dann handelt es sich um eine Assoziation."
   ]
  },
  {
   "cell_type": "markdown",
   "metadata": {},
   "source": [
    "### 2. Aufgabe - Eigene Anwendungsfälle\n",
    "\n",
    "Entwerfen Sie einen eigenen Anwendungsfall, in dem 2 (oder mehr) Klassen\n",
    "\n",
    " 1. eine Kompositions-Beziehung zueinander haben\n",
    " 2. eine Aggregations-Beziehung zueinander haben\n",
    " 3. eine Assoziations-Beziehung zueinander haben\n",
    "\n",
    "*Sie können entweder für jeden Unterpunkt einen separaten Anwendungsfall kreieren, oder für mehrere Unterpunkte einen gemeinsamen Anwendungsfall erstellen.*\n",
    "\n",
    "Erstellen Sie zu 1., 2., und 3. ein Klassendiagramm.\n",
    "Implementieren Sie die Klassen und testen Sie deren Methoden im Hauptprogramm."
   ]
  },
  {
   "cell_type": "markdown",
   "metadata": {},
   "source": [
    "### 3. Aufgabe - Die Produktionsstrasse erweitern\n",
    "\n",
    "1. In der Fertigung wird ein Linearroboter eingesetzt, der sich (linear) auf Schienen bewegt. Sein Einsatzzweck ist die Bestückung anderer Roboter. Dieser Linearroboter wird von 2 Produktionsstraßen gleichzeitig genutzt. Fügen Sie dem Klassendiagramm eine Klasse \"Linearroboter\" mit entsprechenden Verknüpfungen zu bestehenden Klassen hinzu.\n",
    "\n",
    "2. Implementieren Sie die Klasse Linearroboter und rufen Sie seine Methoden beispielhaft im Hauptprogramm auf.  \n",
    "\n",
    "3. Fügen Sie dem Klassendiagramm zu obigem Anwendungsfall weitere selbstgewählte Klassen hinzu. Diese sollen mit Assoziation, Aggregation und Komposition untereinander oder mit bestehenden Klassen verknüpft werden. Ergänzen Sie die Klassen mit sinnvollen Methoden und Attributen.\n",
    "\n",
    "4. Erweitern Sie Ihre Implementierung, sodass sie dem von Ihnen erweiterten Anwendungsfall entspricht."
   ]
  }
 ],
 "metadata": {
  "kernelspec": {
   "display_name": ".venv",
   "language": "python",
   "name": "python3"
  },
  "language_info": {
   "codemirror_mode": {
    "name": "ipython",
    "version": 3
   },
   "file_extension": ".py",
   "mimetype": "text/x-python",
   "name": "python",
   "nbconvert_exporter": "python",
   "pygments_lexer": "ipython3",
   "version": "3.9.13"
  }
 },
 "nbformat": 4,
 "nbformat_minor": 2
}
