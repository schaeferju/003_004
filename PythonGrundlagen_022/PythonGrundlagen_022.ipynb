{
 "cells": [
  {
   "cell_type": "markdown",
   "metadata": {},
   "source": [
    "# 15.05.2025 - Einstieg in das Thema Entscheidungsbäume\n",
    "---\n",
    "Mit Untersuchungen dazu, wie sich Beziehungsformen zwischen Klassen in einem etwas technischeren Programmierkontext äußern, schließen wir das vorangegangene Thema ab. Dazu betrachten wir Klassenbeziehungen, die relevant sind, wenn Funktionalitäten anderer Module benutzt werden.\n",
    "Danach steigen wir ein in das Thema Entscheidungsbäume. Entscheidungsbäume sind ein Modell in der Künstlichen Intelligenz, das Daten anhand von Entscheidungsregeln in Form von Wenn-Dann-Bedingungen schrittweise klassifiziert oder vorhersagt.\n",
    "\n",
    "* Zur Bearbeitung der Aufgaben können Sie benötigte Informationen zu Python-Befehlen und zu KI relevanten Bibliotheken (numpy, scikit, pandas) aus allen verfügbaren Quellen beziehen. Die meisten findet man natürlich über eine Suche im Internet, oder durch die Nutzung von KI chat-Systemen selbst.\n",
    "Ein gutes Tutorial für den Start findet sich  z.B. hier: https://www.python-kurs.eu/numerisches_programmieren_in_Python.php"
   ]
  },
  {
   "cell_type": "markdown",
   "metadata": {},
   "source": [
    "## Phase I Beziehungen zwischen Klassen bei der Nutzung externer Module"
   ]
  },
  {
   "cell_type": "markdown",
   "metadata": {},
   "source": [
    "### Warum sind Assoziation, Aggregation und Komposition wichtig – auch technisch gesehen?\n",
    "\n",
    "Wenn wir über Assoziation, Aggregation und Komposition sprechen, dann geht es oft um selbst geschriebene Klassen und ihre Beziehungen zueinander. Doch der Nutzen dieser Konzepte zeigt sich genauso dann, wenn wir Programme entwickeln, die reale Aufgaben lösen – und dabei auf externe Module wie pandas, matplotlib, sklearn, etc. zurückgreifen.\n",
    "\n",
    "Denn:\n",
    "Auch zu diesen Klassen bauen wir Beziehungen auf – bewusst oder unbewusst.\n",
    "\n",
    "Das Bewusstsein dafür ist wichtig, weil:\n",
    "- es schärft das Verständnis für Struktur und Verantwortung im Code.\n",
    "- es hilft dabei, Speicherverwaltung und Lebensdauer von Objekten besser zu verstehen.\n",
    "- es macht deutlich, welche Klassen abhängig, autark oder austauschbar sind – das ist essenziell für gute Softwarearchitektur."
   ]
  },
  {
   "cell_type": "markdown",
   "metadata": {},
   "source": [
    "### 1. Aufgabe - Die Python Welt ist voller Assoziationen, Aggregationen und Kompositionen \n",
    "\n",
    "Informieren Sie sich mithilfe geeigneter Quellen (z. B. KI, Dokumentationen, Beispiele) darüber, wo die objektorientierten Beziehungen Assoziationen, Aggregationen und/oder Kompositionen bei der Nutzung folgender Module vorkommen:\n",
    "- pandas\n",
    "- matplotlib\n",
    "- numpy\n",
    "- sklearn (scikit-learn)\n",
    "- random\n",
    "\n",
    "Bitte nicht alle Kombinationen von Beziehungen und Modulen untersuchen :-)  Suchen Sie sich eine/ein paar wenige Kombinationen aus, für die Sie detaillierter \"in der Tiefe\" recherchieren und ein Beispiel zusammenstellen.\n"
   ]
  },
  {
   "cell_type": "markdown",
   "metadata": {},
   "source": [
    "#### Beispiel 1: Aggregation-Beziehung zu einer Klasse aus random"
   ]
  },
  {
   "cell_type": "code",
   "execution_count": null,
   "metadata": {},
   "outputs": [],
   "source": [
    "# wird im Unterricht gefüllt\n"
   ]
  },
  {
   "cell_type": "markdown",
   "metadata": {},
   "source": [
    "#### Beispiel 2: Assoziations-Beziehung einer Klasse aus scikit-learn\n"
   ]
  },
  {
   "cell_type": "code",
   "execution_count": null,
   "metadata": {},
   "outputs": [],
   "source": [
    "# wird im Unterricht gefüllt\n"
   ]
  },
  {
   "cell_type": "markdown",
   "metadata": {},
   "source": [
    "## Phase II Einführung in Entscheidungsbäume"
   ]
  },
  {
   "cell_type": "markdown",
   "metadata": {},
   "source": [
    "*Entscheidungsbäume* gehören zu den grundlegenden und am häufigsten eingesetzten Verfahren im Bereich des überwachten maschinellen Lernens.\n",
    "Wir betrachten Entscheidungsbäume zunächst im Kontext der *Klassifikation*, d.h. der Vorhersage von Klassen.\n"
   ]
  },
  {
   "cell_type": "markdown",
   "metadata": {},
   "source": [
    "#### Was ist ein Entscheidungsbaum und wie soll er funktionieren?\n",
    "\n",
    "Die zentrale Idee:  \n",
    "Ein Entscheidungsbaum trifft Entscheidungen durch eine sukzessive Zerlegung des Merkmalsraums."
   ]
  },
  {
   "cell_type": "markdown",
   "metadata": {},
   "source": [
    "### Beispiel\n",
    "\n",
    "Fahrzeugklassifikation anhand der Merkmale Höchstgeschwindigkeit und Gewicht -> 2-dimensionaler Merkmalraum\n",
    "\n",
    "#### Aufgabe 2: Fahrzeugklassifikation für Versicherungsprämien\n",
    "\n",
    "Ein Versicherungsunternehmen möchte seine Fahrzeugtarife risikobasiert staffeln.\n",
    "Ein Fahrzeug wird anhand seines Gewichts und seiner Höchstgeschwindigkeit in eine von vier Risikoklassen (Kleinwagen, Sportwagen, Kleintransporter, Premium-SUV) eingeordnet. Dabei gelten feste Schwellenwerte als Grenzen zwischen den Klassen:\n",
    "\n",
    "| Klasse                  | Gewicht (kg)            | Höchstgeschwindigkeit (km/h) |\n",
    "|-------------------------|-------------------------|-------------------------------|\n",
    "| Kleinwagen          | < 1000                  | < 180                         |\n",
    "| Sportwagen          | < 1000                  | ≥ 180                         |\n",
    "| Kleintransporter    | ≥ 1000                  | < 150                         |\n",
    "| Premium-SUV         | ≥ 1000                  | ≥ 150                         |\n",
    "\n",
    "\n",
    "Schreiben Sie ein Python-Programm, das alleine mittels **`if`**, **`elif`** und **`else`** (ohne *and* oder *or* zu benutzen) die richtige Risikoklasse bestimmt und ausgibt. Testen Sie Ihren Klassifizierungsalgorithmus mit Beipieldaten.\n"
   ]
  },
  {
   "cell_type": "code",
   "execution_count": 2,
   "metadata": {},
   "outputs": [
    {
     "name": "stdout",
     "output_type": "stream",
     "text": [
      "Sportwagen\n"
     ]
    }
   ],
   "source": [
    "weight = 890\n",
    "max_speed = 300\n",
    "\n",
    "if weight <1000:\n",
    "    if max_speed < 180:\n",
    "        print(\"Kleinwagen\")\n",
    "    else:\n",
    "        print(\"Sportwagen\")\n",
    "else:\n",
    "    if max_speed < 150:\n",
    "        print(\"Kleintransporter\")\n",
    "    else:\n",
    "        print(\"Premium-SUV\")"
   ]
  },
  {
   "cell_type": "markdown",
   "metadata": {},
   "source": [
    "#### Merkmalsraum\n",
    "\n",
    "#### Aufgabe 3: Visualisierung\n",
    "\n",
    "Plotten Sie mit mathplotlib ein 2-dimensionales Diagramm, mit Gewicht als x-Achse und Höchstgeschwindigkeit als y-Achse. Fügen Sie für jede der 4 Fahrzeugklassen (Kleinwagen, Sportwagen, Kleintransporter, Premium-SUV) einige Datenpunkte dem Diagramm hinzu. Zeichnen Sie außerdem die Klassifikationsgrenzen mit ein."
   ]
  },
  {
   "cell_type": "code",
   "execution_count": null,
   "metadata": {},
   "outputs": [],
   "source": [
    "# Module importieren\n",
    "\n",
    "\n",
    "# Datenpunkte für vier Fahrzeugklassen\n",
    "\n",
    "# Datenpunkte plotten\n",
    "\n",
    "# Klassengrenzen plotten\n",
    "\n"
   ]
  },
  {
   "cell_type": "markdown",
   "metadata": {},
   "source": [
    "### Von *if* zum *Baum*\n",
    "\n",
    "Verschachtelte *if*-Bedingungen lassen sich hervorragend als Baum darstellen:\n",
    "\n",
    "<img src=\"./PythonGrundlagen_022_Bilder/Entscheidungsbaum_Fahrzeuge.drawio.png\" alt=\"Diagramm\" width=\"550\" />\n",
    "\n",
    "Ein *(Entscheidungs-)baum* besteht aus\n",
    "- *Knoten*:  \n",
    "Jeder innere Knoten enthält eine *Verzweigungsbedingung (Split*).  \n",
    "Jeder Knoten repräsentiert eine Teilmenge des Merkmalraumes.\n",
    "- *Verzweigungen*:  \n",
    "Verbindungen von einem Knoten zu mehreren anderen Knoten (meist zwei).\n",
    "\n",
    "Bei den Knoten unterscheidet man zwischen\n",
    "- *Wurzelknoten (Root)*: Einziger Knoten, in den keine Verzweigung mündet.\n",
    "- *Innere Knoten (Decision nodes)*: Haben ausgehende Verzweigungen.\n",
    "- *Blätter (Leaf nodes)*: Knoten, die keine weiteren Verzweigungen haben. **Sie enthalten die Vorhersage (z.B. Klasse).**"
   ]
  },
  {
   "cell_type": "markdown",
   "metadata": {},
   "source": [
    "### Welche Probleme löst ein Entscheidungsbaum?\n",
    "\n",
    "Die Eingabedaten, für die eine Vorhersage getroffen werden soll, werden durch ihre *Merkmale* dargestellt:\n",
    "\n",
    " <!-- Diese neuen Daten haben **die gleiche Struktur wie die Trainingsdaten**, allerdings **ohne die Zielwerte (`y`)**. -->\n",
    "\n",
    "##### Merkmale (Features, Eingabedaten)\n",
    "\n",
    "Jedes Eingabeobjekt, für das eine Vorhersage getroffen werden soll, hat\n",
    "- $d$ Merkmale (z.B. Größe, Gewicht, Höchstgeschwindigkeit).\n",
    "- Typen der Merkmale: numerisch, kategorial.\n",
    "- Die Reihenfolge der Merkmale muss immer gleich sein und identisch mit der vom Entscheidungsbaum genutzten Reihenfolge.\n",
    "\n",
    "Beispiel (ein neues Fahrzeug zur Klassifikation, 3 Merkmale):\n",
    "\n",
    "| Gewicht (kg) | Farbe | Geschwindigkeit (km/h) |\n",
    "|--------------|-------|------------------------|\n",
    "| 950          | rot   | 175                    |\n",
    "\n",
    "\n",
    "##### Wie ein Entscheidungsbaum eine Klasse vorhersagt\n",
    "\n",
    "Ein Entscheidungsbaum trifft Vorhersagen, indem er schrittweise die Knoten des Baumes entlangläuft. Der Pfad wird dabei durch die Merkmale und die Split-Kriterien der Knoten vorgegeben.\n",
    "\n",
    "1. Start an der Wurzel  \n",
    "Der Entscheidungsprozess beginnt am Wurzelknoten des Baums. Dieser enthält eine Bedingung, die sich auf den Wert eines Merkmals bezieht (z. B. \"Gewicht < 1000\").\n",
    "\n",
    "2. Verzweigung abhängig vom Merkmal  \n",
    "Abhängig vom Ergebnis der Bedingung (wahr oder falsch) wird entweder der linke oder der rechte Teilbaum betreten.  \n",
    "Dabei wird üblicherweise jeweils nur ein einzelnes Merkmal geprüft.\n",
    "\n",
    "3. Wiederholung bis zum Blattknoten  \n",
    "Dieser Vorgang wird rekursiv wiederholt: An jedem Knoten wird eine neue Bedingung auf einem Merkmal geprüft, bis schließlich ein Blattknoten erreicht wird.\n",
    "\n",
    "4. Ausgabe der Klasse  \n",
    "Im Blattknoten steht die vorhergesagte Klasse (z. B. \"Kleinwagen\"). Diese wird als Vorhersage für den gegebenen Datenpunkt ausgegeben.\n",
    "\n",
    "\n",
    "##### Resultierende Daten aus der Vorhersage/Klassifikation\n",
    "\n",
    "Nachdem der Entscheidungsbaum durchlaufen wurde, erhält man als Ergebnis die *Klasse*, die der Entscheidungsbaum für die Eingabedaten vorhersagt.\n",
    "\n",
    "Beispiel:\n",
    "\n",
    "Eingabedaten:                          \n",
    "\n",
    "| Gewicht (kg) | Geschwindigkeit (km/h) |\n",
    "|--------------|------------------------|\n",
    "| 950          | 175                    |\n",
    "| 1250         | 135                    |\n",
    "| 900          | 210                    |\n",
    "\n",
    "Vorhergesagte Klasse:\n",
    "\n",
    "| Klassifizierung |\n",
    "|----------------------|\n",
    "| Kleinwagen           |\n",
    "| Kleintransporter     |\n",
    "| Sportwagen           |\n",
    "\n",
    "\n",
    "- Die Werte in Klassifizierung stammen aus einer **festen endlichen Menge von labels**, z. B.:\n",
    "- Der Entscheidungsbaum ordnet jedem Eingabeobjekt genau **eine Klasse** zu\n",
    "- In Anwendungen können die Klassen auch durch Zahlen (z. B. 0, 1, 2, 3) repräsentiert sein\n",
    "\n"
   ]
  },
  {
   "cell_type": "markdown",
   "metadata": {},
   "source": [
    "### Und wie wird der Entscheidungsbaum aufgebaut?\n",
    "\n",
    "Die elementare Frage, die einen jeden Entscheidungsbaum ausmacht, ist:\n",
    "Welche Splits werden in den inneren Knoten gemacht und welche Knoten gibt es überhaupt?\n",
    "\n",
    "#### Beispiel: Paketklassifizierung\n",
    "\n",
    "Daten:\n",
    "\n",
    "| Gewicht (kg) | Breite (mm) | Klasse      |\n",
    "|--------------|------------|-------------|\n",
    "| 0.2          | 220     | Dokumente   |\n",
    "| 0.3          | 229     | Dokumente   |\n",
    "| 1.0          | 363     | Kleidung    |\n",
    "| 1.5          | 415     | Kleidung    |\n",
    "| 1.2          | 353     | Elektronik  |\n",
    "| 1.1          | 365     | Elektronik  |\n",
    "\n",
    "Frage 1. Was für eine Eigenschaft sollte ein Split haben? Wie ist die Intention hinter einem Split?\n",
    "\n",
    "Frage 2. Wie müssen die Splits deifniert sein, um o.g. Objekte in einem möglichst kleinen Entscheidungsbaum richtig zu klassifizieren?\n"
   ]
  },
  {
   "cell_type": "markdown",
   "metadata": {},
   "source": [
    "**Bad news** \n",
    "\n",
    "Spontan kann die optimale Auswahl von Splits nicht angegeben werden!\n",
    "\n",
    "Achtung: Letztendlich kann der Entscheidungsbaum immer so aufgebaut werden, dass es für jedes einzelne Objekt auch ein Blatt gibt. -> \"*Overfitting*\".  \n",
    "Nachteil: Das entspricht nicht der Idee, Merkmalcluster zu bilden, in die neu zu klassifizierende Objekte passen werden.\n",
    "\n",
    "**Good news**\n",
    "\n",
    "Die optimale Definition der Splits kann berechnet werden. Und Python übernimmt das für uns."
   ]
  },
  {
   "cell_type": "markdown",
   "metadata": {},
   "source": [
    "Die Definition des kompletten Entscheidungsbaumes, also\n",
    "- wie sind die Splits in den inneren Knoten definiert, und\n",
    "- welche Knoten ergeben sich daraus,\n",
    "\n",
    "-> Dies ist das Resultat der *Trainingsphase* des Entscheidungsbaums."
   ]
  },
  {
   "cell_type": "markdown",
   "metadata": {},
   "source": [
    "### Klassifizierung mittels Entscheidungsbäumen\n",
    "\n",
    "#### 4. Aufgabe: Eine Klassifizierung durchführen - vom Aufbau des Baumes bis zur Entscheidungsfindung\n",
    "\n",
    "In dieser Aufgabe soll ein vollständiges Programm zur Klassifizierung mittels Entscheidungsbaum programmiert werden. Als Anwendungsfall dient die Klassifikation der Fahrzeuge anhand ihres Gewichts und ihrer Geschwindigkeit.  \n",
    "\n",
    "1. Erstellen Sie ein Pandas DataFrame, in dem Ihre Datenpunkte der 4 Fahrzeugklassen aus Aufgabe 3 aufgeführt werden. Das Dataframe soll die Spaltennamen  \"Gewicht\", \"Geschwindigkeit\" und \"Klasse\" haben.\n",
    "\n",
    "2. Informieren Sie sich, wie eine Klassifizierung mittels Entscheidungsbaumes mit dem Python Paket sklearn programmiert wird.\n",
    "\n",
    "3. Programmieren Sie die Klassifizierung mittels Entscheidungsbaum für das Beispiel der Fahrzeugklassen.\n",
    "   - Trainieren Sie den Entscheidungsbaum mit den Daten aus dem DataFrame\n",
    "   - Lassen Sie den Entscheidungsbaum für einen beliebigen neuen Datenpunkt eine Vorhersage der Klasse machen\n",
    "\n",
    "4. Testen Sie die Vorhersage anhand unterschiedlicher neuer Datenpunkte.\n"
   ]
  },
  {
   "cell_type": "code",
   "execution_count": null,
   "metadata": {},
   "outputs": [],
   "source": [
    "# Module importieren\n",
    "\n",
    "# Datenpunkte:\n",
    "\n",
    "# Datenpunkte als Dataframe Tabelle:\n",
    "\n",
    "\n",
    "\n",
    "# Klassifizierungsbaum anlegen\n",
    "\n",
    "# Baum trainieren\n",
    "\n",
    "# Einen neuen Datenpunkt mit seinen Merkmalen definieren und als Dataframe formatieren\n",
    "\n",
    "# Vorhersage für den neuen Datenpunkt mittels Entscheidungsbaum:\n"
   ]
  }
 ],
 "metadata": {
  "kernelspec": {
   "display_name": "Python 3",
   "language": "python",
   "name": "python3"
  },
  "language_info": {
   "codemirror_mode": {
    "name": "ipython",
    "version": 3
   },
   "file_extension": ".py",
   "mimetype": "text/x-python",
   "name": "python",
   "nbconvert_exporter": "python",
   "pygments_lexer": "ipython3",
   "version": "3.12.6"
  }
 },
 "nbformat": 4,
 "nbformat_minor": 2
}
