{
 "cells": [
  {
   "cell_type": "markdown",
   "metadata": {},
   "source": [
    "# 07.05.2025 - Vertiefung der Themen Assoziationen, Aggregationen und Kompositionen \n",
    "---\n",
    "In dieser Unterrichtseinheit vertiefen wir das Verständnis für die Klassenbeziehungen Assoziation, Aggregation und Komposition. Dafür implementieren und besprechen wir zunächst eigene Anwendungsfälle. Danach betrachten wir, wie sich die genannten Beziehungsformen in einem etwas technischeren Programmierkontext äußern, nämlich dann, wenn Funktionalitäten anderer Module benutzt werden.\n",
    "\n",
    "* Zur Bearbeitung der Aufgaben können Sie benötigte Informationen zu Python-Befehlen und zu KI relevanten Bibliotheken (numpy, scikit, pandas) aus allen verfügbaren Quellen beziehen. Die meisten findet man natürlich über eine Suche im Internet, oder durch die Nutzung von KI chat-Systemen selbst.\n",
    "Ein gutes Tutorial für den Start findet sich  z.B. hier: https://www.python-kurs.eu/numerisches_programmieren_in_Python.php"
   ]
  },
  {
   "cell_type": "markdown",
   "metadata": {},
   "source": [
    "## Phase I - Wiederholung: Assoziationen, Aggregationen und Kompositionen zwischen Klassen"
   ]
  },
  {
   "cell_type": "markdown",
   "metadata": {},
   "source": [
    "Neben der Vererbung können Klassen in der objektorientierten Programmierung auch auf andere Weise unterschiedlich starkt miteinander \"verbunden\" sein."
   ]
  },
  {
   "cell_type": "markdown",
   "metadata": {},
   "source": [
    "### Anwendungsbeispiel - Robotergestützte Produktion\n",
    "\n",
    "Ein Unternehmen nutzt eine automatisierte Produktionsstraße, die aus mehreren Robotern besteht. Diese Roboter sind mit Werkzeugen ausgestattet und kommunizieren mit einem externen Wartungssystem.\n",
    "\n",
    "<img src=\"./PythonGrundlagen_021_Bilder/Produktionsstrasse_ohneBeziehungen.drawio.png\" alt=\"Diagramm\" width=\"550\" />\n",
    "\n",
    "Frage: In welcher Beziehung stehen die Klassen im Kontext dieses Anwendungsfalls zueinander?"
   ]
  },
  {
   "cell_type": "markdown",
   "metadata": {},
   "source": [
    "#### Zusammenfassung der unterschidlichen Arten von Beziehungen zwischen Klassen:\n",
    "\n",
    "| Beziehungstyp      | Art der Verbindung | Beispiel |\n",
    "|--------------------|-------------------|----------|\n",
    "| **Vererbung (\"ist-ein\")** | Eine Klasse erbt von einer anderen <br> (Basisklasse → abgeleitete Klasse) | `Auto` erbt von `Fahrzeug` |\n",
    "| **Assoziation <br> (\"semantische Beziehung\")** | Zwei Klassen können miteinander interagieren. Sie kennen einander. | `Gast` besucht `Restaurant` |\n",
    "| **Aggregation <br> (\"Ganzes-Teile-Beziehung\", aber unabhängig)** | Eine Klasse fürht Objekte einer anderen Klasse in sich zusammen, aber sie können unabhängig voneinander existieren. | `Restaurant` besteht aus `Stühlen`, aber Stühle existieren auch ohne Restaurant |\n",
    "| **Komposition <br> (\"Ganzes-Teile-Beziehung\", aber abhängig)**** | Eine Klasse enthält Objekte einer anderen Klasse. Die Teile sind existenznotwendig für das Ganze und umgekehrt. | `Haus` besteht aus `Räume`, aber Räume existieren nicht ohne das Haus |\n"
   ]
  },
  {
   "cell_type": "markdown",
   "metadata": {},
   "source": [
    "*Assoziation*, *Aggregation* und *Komposition* sind **Konzepte** der Objektorientierten Modellierung.\n",
    "\n",
    "Sie spezifizieren Beziehungen der realen Welt im Modell.\n",
    "Die Umsetzung dieser Beziehungen - also die Programmierung - erfordert in Python *keine* speziellen Schlüsselwörter im Code.\n",
    "Die Konzepte werden durch die Art der Implementierung ausgedrückt: \n",
    "- *Komposition*: Objekte der Klasse A sind echte Bestandteile einer Klasse B. Objekte der Klasse A werden in der Klassendefinition von B instanziiertu und existieren nur dort.\n",
    "- *Aggregation*: Klasse B referenziert nur Objekte der Klasse A, die außerhalb der Klasse B existieren.\n",
    "- *Assoziation*: In Klasse A werden Methoden einer anderen Klasse aufgerufen, oder auf deren Attribute zugegriffen.\n",
    "\n",
    "-> Bei einer Komposition gehört ein Objekt fest zu einem anderen und wird auch mit ihm zerstört. Bei einer Aggregation oder Assoziation bleibt es unabhängig bestehen.\n",
    "\n"
   ]
  },
  {
   "cell_type": "markdown",
   "metadata": {},
   "source": [
    "#### Beziehungen in unserem Anwendungsbeispiel \"Produktionsstraße\":\n",
    "\n",
    "<img src=\"./PythonGrundlagen_021_Bilder/Produktionsstrasse_mitBeziehungen.drawio.png\" alt=\"Diagramm\" width=\"550\" />\n"
   ]
  },
  {
   "cell_type": "code",
   "execution_count": 4,
   "metadata": {},
   "outputs": [
    {
     "name": "stdout",
     "output_type": "stream",
     "text": [
      "Wartungsprüfung für Roboter 800 durchgeführt.\n",
      "Bis jetzt durchgeführte Diagnosen: 1.\n",
      "None\n"
     ]
    }
   ],
   "source": [
    "# Klasssendefinitionen\n",
    "\n",
    "class Greifarm:\n",
    "    def __init__(self, tragkraft_init):\n",
    "        self.tragkraft = tragkraft_init         # z. B. 25 (kg)\n",
    "\n",
    "class Steuerungseinheit:\n",
    "    def __init__(self, SW_Version_init):\n",
    "        self.SW_Version = SW_Version_init       # z. B. \"1.005.7\"\n",
    "\n",
    "class Roboter:\n",
    "    def __init__(self, id_init, tragkraft_init, SW_Version_init):\n",
    "        self.id = id_init\n",
    "        self.greifarm = Greifarm(tragkraft_init)                # Komposition: Greifarm ist untrennbarer Bestandteil von Roboter\n",
    "        self.steuerung = Steuerungseinheit(SW_Version_init)     # Komposition: Steuerungseinheit ist untrennbarer Bestandteil von Roboter\n",
    "\n",
    "\n",
    "class Produktionsstrasse:\n",
    "    def __init__(self):\n",
    "        self.eingesetzteRoboter = []       \n",
    "    \n",
    "    def roboter_hinzufuegen(self, roboter):                     # Aggregation: Roboter Objekte existieren ausserhalb der Klasse Produktionsstrasse, werden hier nur referenziert\n",
    "        self.eingesetzteRoboter.append(roboter)                 \n",
    "\n",
    "\n",
    "class Wartungssystem:\n",
    "    def __init__(self, name_init):\n",
    "        self.name = name_init\n",
    "        self.anzDurchgfDiagnosen = 0  \n",
    "\n",
    "    def diagnose(self, roboter):                                # Assoziation: Wartungssystem \"kennt\" die Klasse Roboter, denn sie wird als Parameter in der Methode diagnose übergeben\n",
    "        self.anzDurchgfDiagnosen += 1\n",
    "        print( f\"Wartungsprüfung für Roboter {roboter.id} durchgeführt.\")\n",
    "        print( f\"Bis jetzt durchgeführte Diagnosen: {self.anzDurchgfDiagnosen}.\")\n",
    "\n",
    "\n",
    "# Hauptprogramm\n",
    "\n",
    "roboter1 = Roboter(800, 10.5, \"v1.005.7\")\n",
    "wartung = Wartungssystem(\"SmartRoboMaintenance\")\n",
    "strasse1 = Produktionsstrasse()\n",
    "\n",
    "strasse1.roboter_hinzufuegen(roboter1)\n",
    "\n",
    "print(wartung.diagnose(roboter1))"
   ]
  },
  {
   "cell_type": "markdown",
   "metadata": {},
   "source": [
    "### Beispiele"
   ]
  },
  {
   "cell_type": "markdown",
   "metadata": {},
   "source": [
    "#### Beispiel Assoziation\n",
    "\n",
    "<img src=\"./PythonGrundlagen_021_Bilder/Assoziation.drawio.png\" alt=\"Diagramm\" width=\"550\" />"
   ]
  },
  {
   "cell_type": "code",
   "execution_count": 2,
   "metadata": {},
   "outputs": [
    {
     "name": "stdout",
     "output_type": "stream",
     "text": [
      "Anna hält sich gerade in zu Hause auf.\n",
      "\n",
      "Anna besucht das Restaurant 'Eurener Hof'.\n",
      "Anna hält sich gerade in Trier auf.\n",
      "\n",
      "Anna besucht das Restaurant 'Fritura Gemaal'.\n",
      "Anna hält sich gerade in Nieuwvliet auf.\n",
      "\n"
     ]
    }
   ],
   "source": [
    "class Restaurant:\n",
    "    def __init__(self, name, ort):\n",
    "        self.name = name\n",
    "        self.ort = ort\n",
    "\n",
    "class Gast:\n",
    "    def __init__(self, name):\n",
    "        self.name = name\n",
    "        self.aufenthaltsort = \"zu Hause\"\n",
    "\n",
    "    def besucheRestaurant(self, restaurant):\n",
    "        self.aufenthaltsort = restaurant.ort\n",
    "        print(f\"{self.name} besucht das Restaurant '{restaurant.name}'.\")\n",
    "\n",
    "\n",
    "# Beispielhafte Anwendung:\n",
    "gast1 = Gast(\"Anna\")\n",
    "restaurant1 = Restaurant(\"Eurener Hof\", \"Trier\")\n",
    "restaurant2 = Restaurant(\"Fritura Gemaal\", \"Nieuwvliet\")\n",
    "\n",
    "print(f\"{gast1.name} hält sich gerade in {gast1.aufenthaltsort} auf.\\n\")\n",
    "\n",
    "gast1.besucheRestaurant(restaurant1)\n",
    "print(f\"{gast1.name} hält sich gerade in {gast1.aufenthaltsort} auf.\\n\")\n",
    "\n",
    "gast1.besucheRestaurant(restaurant2)\n",
    "print(f\"{gast1.name} hält sich gerade in {gast1.aufenthaltsort} auf.\\n\")\n"
   ]
  },
  {
   "cell_type": "markdown",
   "metadata": {},
   "source": [
    "#### Beispiel Aggregation\n",
    "\n",
    "<img src=\"./PythonGrundlagen_021_Bilder/Aggregation.drawio.png\" alt=\"Diagramm\" width=\"550\" />"
   ]
  },
  {
   "cell_type": "code",
   "execution_count": 4,
   "metadata": {},
   "outputs": [
    {
     "name": "stdout",
     "output_type": "stream",
     "text": [
      "Im Restaurant 'Lo Stivale' stehen folgende Stühle:\n",
      " - 5\n",
      " - 1\n",
      " - 7\n",
      "Im Restaurant 'Lo Stivale' stehen folgende Stühle:\n",
      " - 999\n",
      " - 1\n",
      " - 7\n",
      "Im Restaurant 'Dreifinger-Joe' stehen folgende Stühle:\n",
      " - 999\n"
     ]
    }
   ],
   "source": [
    "class Stuhl:\n",
    "    def __init__(self, nummer):\n",
    "        self.nummer = nummer\n",
    "\n",
    "\n",
    "class Restaurant:\n",
    "    def __init__(self, name, ort):\n",
    "        self.name = name\n",
    "        self.ort = ort\n",
    "        self.stuehle = []  # Aggregation: Liste von extern erstellten Stuhl-Objekten\n",
    "\n",
    "    def fuegeStuhlHinzu(self, stuhl):\n",
    "        self.stuehle.append(stuhl)\n",
    "        \n",
    "    def zeigeStuehle(self):\n",
    "        print(f\"Im Restaurant '{self.name}' stehen folgende Stühle:\")\n",
    "        for stuhl in self.stuehle:\n",
    "            print(f\" - {stuhl.nummer}\")\n",
    "\n",
    "\n",
    "# Stühle werden unabhängig vom Restaurant erstellt:\n",
    "stuhlRot = Stuhl(1)\n",
    "stuhlBlau = Stuhl(5)\n",
    "stuhlGelb = Stuhl(7)\n",
    "\n",
    "# Restaurant wird erstellt\n",
    "pizzeria = Restaurant(\"Lo Stivale\", \"Daun\")\n",
    "\n",
    "\n",
    "# Anwendung:\n",
    "pizzeria.fuegeStuhlHinzu(stuhlBlau)\n",
    "pizzeria.fuegeStuhlHinzu(stuhlRot)\n",
    "pizzeria.fuegeStuhlHinzu(stuhlGelb)\n",
    "\n",
    "pizzeria.zeigeStuehle()\n",
    "\n",
    "# stuhlBlau wird von Pizzeria nur REFERENZIERT\n",
    "stuhlBlau.nummer= 999\n",
    "pizzeria.zeigeStuehle()\n",
    "\n",
    "# Mehrere Restaurant-Objekte können ein und das selbe Stuhl-Objekt referenzieren:\n",
    "Fritternbude = Restaurant(\"Dreifinger-Joe\", \"Trier\")\n",
    "\n",
    "Fritternbude.fuegeStuhlHinzu(stuhlBlau)\n",
    "\n",
    "Fritternbude.zeigeStuehle()\n"
   ]
  },
  {
   "cell_type": "markdown",
   "metadata": {},
   "source": [
    "#### Beispiel Komposition\n",
    "\n",
    "<img src=\"./PythonGrundlagen_021_Bilder/Komposition.drawio.png\" alt=\"Diagramm\" width=\"550\" />"
   ]
  },
  {
   "cell_type": "code",
   "execution_count": 5,
   "metadata": {},
   "outputs": [
    {
     "name": "stdout",
     "output_type": "stream",
     "text": [
      "Im Haus an der Adresse 'Beethovenstraße 10, Bonn' befinden sich folgende Räume:\n",
      " - Wohnzimmer mit 25.0 m²\n",
      " - Küche mit 12.0 m²\n",
      " - Schlafzimmer mit 18.0 m²\n",
      "\n",
      "Im Haus an der Adresse '725 5th Ave, New York' befinden sich folgende Räume:\n",
      " - Wohnzimmer mit 112.5 m²\n",
      " - Küche mit 54.0 m²\n",
      " - Schlafzimmer mit 81.0 m²\n"
     ]
    }
   ],
   "source": [
    "class Raum:\n",
    "    def __init__(self, bezeichnung, flaeche):\n",
    "        self.bezeichnung = bezeichnung\n",
    "        self.flaeche = flaeche\n",
    "\n",
    "\n",
    "class Haus:\n",
    "    def __init__(self, adresse, groessenfaktor):\n",
    "        self.adresse = adresse\n",
    "        # Komposition: Die Räume werden *im Haus* erstellt und gehören nur zu diesem Haus\n",
    "        self.raeume = [\n",
    "            Raum(\"Wohnzimmer\", 25*groessenfaktor),\n",
    "            Raum(\"Küche\", 12*groessenfaktor),\n",
    "            Raum(\"Schlafzimmer\", 18*groessenfaktor)\n",
    "        ]\n",
    "\n",
    "    def zeigeRaeume(self):\n",
    "        print(f\"Im Haus an der Adresse '{self.adresse}' befinden sich folgende Räume:\")\n",
    "        for raum in self.raeume:\n",
    "            print(f\" - {raum.bezeichnung} mit {raum.flaeche} m²\")\n",
    "\n",
    "\n",
    "# Haus wird erstellt \n",
    "wohnhausNormal = Haus(\"Beethovenstraße 10, Bonn\", 1.0)\n",
    "wohnhausGross = Haus(\"725 5th Ave, New York\", 4.5)\n",
    "\n",
    "# Anzeige\n",
    "wohnhausNormal.zeigeRaeume()\n",
    "print()\n",
    "wohnhausGross.zeigeRaeume()\n",
    "\n",
    "\n",
    "\n"
   ]
  },
  {
   "cell_type": "markdown",
   "metadata": {},
   "source": [
    "#### Unterschiede erkennen\n",
    "\n",
    "Um die unterschiedlichen Beziehungen herauszukristallisieren, helfen folgende Fragen:\n",
    "\n",
    "1. Wird ein Objket einer Klasse A innerhalb einer Klasse B erzeugt und \"lebt\" dort? Wenn ja, dann liegt eine Kompositions-Beziehung zwischen A und B vor. Wenn nein (Objekte der Klasse A werden außerhalb der Klasse B erzeugt), dann handelt es sich um eine Aggregation oder Assoziation.\n",
    "2. Wenn ein Objekt der Klasse B \"zerstört\" wird, existieren dann die Objekte der Klasse A weiter? Wenn nein, dann ist dies eine weitere Bestätigung für eine Kompositions-Beziehung. Wenn, ja, dann handelt es sich um eine Aggregation oder Assoziation.\n",
    "3. Gehören Objekte der Klasse A nicht zu den \"Bestandteilen\" der Klasse B, so handelt es sich weder um eine Komposition, noch um eine Aggregation. Wenn aber Klasse B mit Klasse A interagiert (z.B. weil Klasse A in Methodenaufrufen von Klasse B verwendet wird), dann handelt es sich um eine Assoziation."
   ]
  },
  {
   "cell_type": "markdown",
   "metadata": {},
   "source": [
    "## Phase II - Hands-on"
   ]
  },
  {
   "cell_type": "markdown",
   "metadata": {},
   "source": [
    "### 1. Aufgabe - Eigene Anwendungsfälle\n",
    "\n",
    "Entwerfen Sie einen eigenen Anwendungsfall, in dem Klassen\n",
    "\n",
    " 1. eine Kompositions-Beziehung zueinander haben,\n",
    " 2. eine Aggregations-Beziehung zueinander haben,\n",
    " 3. eine Assoziations-Beziehung zueinander haben.\n",
    "\n",
    "*(Sie können entweder für jede Teilaufgabe einen separaten Anwendungsfall kreieren, alle Teilaufgaben in einem gemeinsamen Anwendungsfall abdecken.)*\n",
    "\n",
    "Erstellen Sie zu 1., 2., und 3. ein Klassendiagramm.\n",
    "Implementieren Sie die Klassen und testen Sie deren Methoden im Hauptprogramm."
   ]
  },
  {
   "cell_type": "code",
   "execution_count": null,
   "metadata": {},
   "outputs": [],
   "source": [
    "# Klassendefinitionen\n",
    "\n",
    "\n",
    "# Hauptprogramm \n"
   ]
  },
  {
   "cell_type": "markdown",
   "metadata": {},
   "source": [
    "### 2. Aufgabe - Die Produktionsstrasse erweitern\n",
    "\n",
    "1. In der Fertigung wird ein Linearroboter eingesetzt, der sich (linear) auf Schienen bewegt. Sein Einsatzzweck ist die Bestückung anderer Roboter. Dieser Linearroboter wird von 2 Produktionsstraßen gleichzeitig genutzt. Fügen Sie dem Klassendiagramm eine Klasse \"Linearroboter\" mit entsprechenden Verknüpfungen zu bestehenden Klassen hinzu.\n",
    "\n",
    "2. Implementieren Sie die Klasse Linearroboter und rufen Sie seine Methoden beispielhaft im Hauptprogramm auf.  \n",
    "\n",
    "3. Fügen Sie dem Klassendiagramm zu obigem Anwendungsfall weitere selbstgewählte Klassen hinzu. Diese sollen mit Assoziation, Aggregation und Komposition untereinander oder mit bestehenden Klassen verknüpft werden. Ergänzen Sie die Klassen mit sinnvollen Methoden und Attributen.\n",
    "\n",
    "4. Erweitern Sie Ihre Implementierung, sodass sie dem von Ihnen erweiterten Anwendungsfall entspricht."
   ]
  },
  {
   "cell_type": "markdown",
   "metadata": {},
   "source": [
    "### Warum sind Assoziation, Aggregation und Komposition wichtig – auch technisch gesehen?\n",
    "\n",
    "Wenn wir über Assoziation, Aggregation und Komposition sprechen, dann geht es oft um selbst geschriebene Klassen und ihre Beziehungen zueinander. Doch der Nutzen dieser Konzepte zeigt sich genauso dann, wenn wir Programme entwickeln, die reale Aufgaben lösen – und dabei auf externe Module wie pandas, matplotlib, sklearn, etc. zurückgreifen.\n",
    "\n",
    "Denn:\n",
    "Auch zu diesen Klassen bauen wir Beziehungen auf – bewusst oder unbewusst.\n",
    "\n",
    "Das Bewusstsein dafür ist wichtig, weil:\n",
    "- es schärft das Verständnis für Struktur und Verantwortung im Code.\n",
    "- es hilft dabei, Speicherverwaltung und Lebensdauer von Objekten besser zu verstehen.\n",
    "- es macht deutlich, welche Klassen abhängig, autark oder austauschbar sind – das ist essenziell für gute Softwarearchitektur."
   ]
  },
  {
   "cell_type": "markdown",
   "metadata": {},
   "source": [
    "### 3. Aufgabe: Auswertung von Mitarbeiterdaten einer Firma\n",
    "\n",
    "\n",
    "Eine Firma führt ihre Mitarbeiter in Tabellen, jede Abteilung hat ihre eigene Tabelle.\n",
    "Die HR Abteilung der Firma möchte die Mitarbeiterdaten auswerten, und benötigt dafür ein entsprechendes Programm.\n",
    "\n",
    "Erstellen Sie ein Python Programm, das - ganz im objektorientierten Sinne - folgende Klassen enthält.\n",
    "Berücksichtigen Sie in Ihrem Code die Beziehungen (Komposition, Aggregation, Assoziation) zwischen den folgenden Klassen.\n",
    "\n",
    "1. Klasse `MitarbeiterTabelle`:\n",
    "   - enthält eine Tabelle von Mitarbeitern als Pandas Data Frame.\n",
    "   - für jeden Mitarbeiter soll sein Name, Vorname, Geburtsjahr, Berufsbezeichnung, Einstellungsjahr in der Tabelle vorliegen. Gerne können Sie die Daten erweitern.\n",
    "\n",
    "   - Methoden:\n",
    "     - *anzahlMitarbeiter* – Gibt die Anzahl der Einträge (Mitarbeiter) des Data Frames zurück.\n",
    "     - legen Sie weitere Methoden an, die zur Auswertung einer Mitarbeitertabelle sinnvoll sind (z.B. *berechneDurchschnittsalter*)\n",
    "\n",
    "2. Klasse `Firmenstandort`:\n",
    "   - Ansammlung aller *MitarbeiterTabelle*-Objekte eines Standorts.\n",
    "\n",
    "   - Methoden:\n",
    "     -  realisieren Sie eine Methoden, um *MitarbeiterTabelle*-Objekte dem Firmenstandort hinzuzufügen.\n",
    "     - *listeGesamterMitarbeiterbestand* – Gibt alle Mitarbeiter-Tabellen des Firmenstandorts zusammengefasst als ein DataFrame zurück.\n",
    "     - *anzahlGesamt* – Gibt die Gesamtanzahl aller Mitarbeiter des Firmenstandort zurück.\n",
    "     - legen Sie weitere Methoden an, die zur Auswertung der Mitarbeiter eines Standorts sinnvoll sind (z.B. *filtereNachBerufsbezeichnung*, *listeDienstjubilaeen*)\n",
    "\n",
    "3. Klasse `Bericht`:\n",
    "   - Dieses Klasse bietet Mehtoden, um einfache Berichte über die Mitarbeiterauswertung zu erstellen. \n",
    "\n",
    "   - Methoden:\n",
    "     - *exportiereMitarbeiterAlsExcel(standort)* – Exportiert alle Mitarbeiterdaten eines Standorts als Excel-Datei.\n",
    "     - legen Sie weitere Methoden an, die passend für einen Bericht Daten der Mitarbeiter auswerten.\n",
    "\n",
    "\n",
    "Schreiben Sie im Hauptprogramm Code zur Anwedung Ihrer Klassen und Methoden.\n"
   ]
  },
  {
   "cell_type": "code",
   "execution_count": null,
   "metadata": {},
   "outputs": [],
   "source": [
    "# Import von Modulen\n",
    "\n",
    "\n",
    "# Definition der Klasse MitarbeiterTabelle\n",
    "\n",
    "# Definition der Klasse Firmenstandort\n",
    "\n",
    "# Definition der Klasse Bericht\n",
    "\n",
    "\n",
    "\n",
    "# Hauptprogramm\n",
    "\n",
    "# Beispieldaten für Mitarbeiter, nach Abteilungen, als Listen von Dictionaries\n",
    "datenIT = [\n",
    "    {\"Name\": \"Bowie\", \"Vorname\": \"David\", \"Geburtsjahr\": 1947, \"Berufsbezeichnung\": \"Entwickler\", \"Einstellungsjahr\": 2000},\n",
    "    {\"Name\": \"Prince\", \"Vorname\": \"\", \"Geburtsjahr\": 1958, \"Berufsbezeichnung\": \"Administrator\", \"Einstellungsjahr\": 2024},\n",
    "    {\"Name\": \"Niedecken\", \"Vorname\": \"Wolfgang\", \"Geburtsjahr\": 1951, \"Berufsbezeichnung\": \"Entwickler\", \"Einstellungsjahr\": 2010}\n",
    "]\n",
    "\n",
    "datenHR = [\n",
    "    {\"Name\": \"Gaga\", \"Vorname\": \"Lady\", \"Geburtsjahr\": 1986, \"Berufsbezeichnung\": \"Personalerin\", \"Einstellungsjahr\": 2015},\n",
    "    {\"Name\": \"Springsteen\", \"Vorname\": \"Bruce\", \"Geburtsjahr\": 1949, \"Berufsbezeichnung\": \"Leiter HR\", \"Einstellungsjahr\": 2005}\n",
    "]\n",
    "\n",
    "datenVerkauf = [\n",
    "    {\"Name\": \"Jackson\", \"Vorname\": \"Janet\", \"Geburtsjahr\": 1966, \"Berufsbezeichnung\": \"Verkäuferin\", \"Einstellungsjahr\": 2003},\n",
    "    {\"Name\": \"Mercury\", \"Vorname\": \"Freddie\", \"Geburtsjahr\": 1946, \"Berufsbezeichnung\": \"Kundenberater\", \"Einstellungsjahr\": 1990},\n",
    "    {\"Name\": \"Turner\", \"Vorname\": \"Tina\", \"Geburtsjahr\": 1939, \"Berufsbezeichnung\": \"Kundenberater\", \"Einstellungsjahr\": 2020}\n",
    "]\n",
    "\n",
    "# Anwendung der Klassen:\n",
    "\n"
   ]
  },
  {
   "cell_type": "markdown",
   "metadata": {},
   "source": [
    "#### Überlegungen:\n",
    "\n",
    "- In welcher Beziehung (Assoziation, Aggregation, Komposition) stehen die Klassen zueinander?\n",
    "- Wie ist das Beziehungsverhältnis zur Klasse pd.DataFrame?"
   ]
  },
  {
   "cell_type": "markdown",
   "metadata": {},
   "source": [
    "### 4. Aufgabe: Erweiterung um grafische Ausgabe\n",
    "\n",
    "Fügen Sie einer der Klassen eine Methode hinzu, die das Alter der Mitarbeiter als Balkendiagramm (mit mathplotlib) visualisiert.\n",
    "\n",
    "Wie ist das Beziehungsverhältnis zu Elementen des Moduls matplotlib.pyplot?  Was ist dabei der Unterschied zu den benutzen Elementen aus Pandas?"
   ]
  },
  {
   "cell_type": "markdown",
   "metadata": {},
   "source": [
    "### 5. Aufgabe - Die Python Welt ist voller Assoziationen, Aggregationen und Kompositionen \n",
    "\n",
    "Informieren Sie sich mithilfe geeigneter Quellen (z. B. KI, Dokumentationen, Beispiele) darüber, wo die objektorientierten Beziehungen Assoziationen, Aggregationen und Kompositionen in den folgenden Python Modulen vorkommen:\n",
    "- pandas\n",
    "- matplotlib\n",
    "- numpy\n",
    "- sklearn (scikit-learn)\n",
    "- random\n",
    "\n",
    "Bitte nicht alle Kombinationen von Beziehungen und Modulen untersuchen :-)  Wählen Sie sich eine/ein paar wenige Kombinationen, für die Sie detaillierter \"in der Tiefe\" recherchieren und ein Beispiel zusammenstellen.\n"
   ]
  }
 ],
 "metadata": {
  "kernelspec": {
   "display_name": "Python 3",
   "language": "python",
   "name": "python3"
  },
  "language_info": {
   "codemirror_mode": {
    "name": "ipython",
    "version": 3
   },
   "file_extension": ".py",
   "mimetype": "text/x-python",
   "name": "python",
   "nbconvert_exporter": "python",
   "pygments_lexer": "ipython3",
   "version": "3.12.5"
  }
 },
 "nbformat": 4,
 "nbformat_minor": 2
}
