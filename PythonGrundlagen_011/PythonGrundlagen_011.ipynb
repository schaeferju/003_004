{
 "cells": [
  {
   "cell_type": "markdown",
   "metadata": {},
   "source": [
    "# 23.01.2025 - Gemischtes Themenfeld: Weiterführung des Themas GUI, Schleifen und Indices, Klassen \n",
    "---\n",
    "Zum Start führen wir den Exkurs zum Thema graphische Benutzeroberflächen fort. Dazu erweitern wir die bereits programmierte Taschenrechner Applikation. Danach erarbeiten wir einige grundlegende Programmierschritte, die Schleifen auf Indizes von arrays anwenden. In diesem Kontext bringen wir Klassen zurück in den Fokus, um die erstellten Funktionen zu bündeln.\n",
    "\n",
    "* Zur Bearbeitung der Aufgaben können Sie benötigte Informationen zu Python-Befehlen und zu KI relevanten Bibliotheken (numpy, scikit, pandas) aus allen verfügbaren Quellen beziehen. Die meisten findet man natürlich über eine Suche im Internet, oder durch die Nutzung von KI chat-Systemen selbst.\n",
    "Ein gutes Tutorial für den Start findet sich  z.B. hier: https://www.python-kurs.eu/numerisches_programmieren_in_Python.php"
   ]
  },
  {
   "cell_type": "markdown",
   "metadata": {},
   "source": [
    "## Phase I: GUI Weiterführung"
   ]
  },
  {
   "cell_type": "markdown",
   "metadata": {},
   "source": [
    "Zum Einstieg in das Themas **GUI-Programmierung** wurde bereits eine Benutzeroberfläche programmiert, die die Funktionen eines einfachen Taschenrechners enthielt.\n",
    "\n",
    "Siehe: https://lms2.schulcampus-rlp.de/SN-62808/course/view.php?id=453&section=2\n",
    "\n",
    "Zur Wiederholung besprechen wir gemeinsam die Struktur des Programms."
   ]
  },
  {
   "cell_type": "markdown",
   "metadata": {},
   "source": [
    "Weiterführung der GUI Programmierung:\n",
    "\n",
    "### 1. Aufgabe: Taschenrechner GUI mit Verlaufsanzeige\n",
    "\n",
    "Fügen Sie der Taschenrechner GUI ein \"Verlauf(History) Feld\" hinzu. In diesem Feld sollen vergangene, ausgeführte Rechenanweisungen stehen.\n",
    "Versuchen Sie zu erst, ein solches Feld hinzuzufügen, indem Sie sich den grundsätzlichen Aufbau der GUI-Programmierung des Taschenrechners vom letzten mal anschauen und nachvollziehen. Recherchieren Sie dann, wie neue Felder und Text darin hinzugefügt werden. Nehmen Sie gerne als Ausgangspunkt Ihre eigene Taschenrechner Implementierung vom letzten mal. Ansonsten findet sich auch das Minimalbeispiel der Taschenrechner GUI in o.a. Link, unter \"*From-PySide6-Simple*\". Über Details der Verlaufsanzeige, wie z.B. Position, max. Anzahl an Einträgen, etc., können Sie selbst entscheiden."
   ]
  },
  {
   "cell_type": "markdown",
   "metadata": {},
   "source": [
    "## Phase II: Schleifen und Indizes"
   ]
  },
  {
   "cell_type": "markdown",
   "metadata": {},
   "source": [
    "In Python werden Schleifen häufig verwendet, um durch die Indizes mehrdimensionaler Arrays zu iterieren. Dies ist besonders nützlich bei der Verarbeitung von Matrizen oder Tabellen, da man so auf einzelne Elemente zugreifen und Operationen durchführen kann. Typischerweise kommen geschachtelte `for`-Schleifen zum Einsatz, um sowohl über Zeilen als auch über Spalten zu iterieren. \n",
    "\n",
    "Bei Ähnlichkeitsvergleichen, wie wir sie mit `cosine_similarity` durchgeführt haben, sind die Ergebnisse oft in Form von zweidimensionalen Arrays dargestellt. Diese Matrizen enthalten Ähnlichkeitswerte für verschiedene Kombinationen von Elementen/Texten, die verglichen wurden. Mit Hilfe von Schleifen können diese Ähnlichkeitsmatrizen systematisch durchsucht und ausgewertet werden.\n",
    "\n"
   ]
  },
  {
   "cell_type": "markdown",
   "metadata": {},
   "source": [
    "Bsp. einer Ähnlichkeitsmatrix:\n",
    "\n",
    "$$\n",
    "\\begin{bmatrix}\n",
    "1.00 & 0.33 & 0.22 & 0.29 & 0.29 & 0.41 & 0.17 & 0.19 & 0.08 & 0.08 \\\\\n",
    "0.33 & 1.00 & 0.11 & 0.33 & 0.15 & 0.52 & 0.29 & 0.23 & 0.02 & 0.08 \\\\\n",
    "0.22 & 0.11 & 1.00 & 0.08 & 0.25 & 0.15 & 0.28 & 0.13 & 0.06 & 0.03 \\\\\n",
    "0.29 & 0.33 & 0.08 & 1.00 & 0.12 & 0.44 & 0.21 & 0.23 & 0.02 & 0.07 \\\\\n",
    "0.29 & 0.15 & 0.25 & 0.12 & 1.00 & 0.14 & 0.31 & 0.16 & 0.00 & 0.04 \\\\\n",
    "0.41 & 0.52 & 0.15 & 0.44 & 0.14 & 1.00 & 0.25 & 0.42 & 0.06 & 0.12 \\\\\n",
    "0.17 & 0.29 & 0.28 & 0.21 & 0.31 & 0.25 & 1.00 & 0.26 & 0.03 & 0.08 \\\\\n",
    "0.19 & 0.23 & 0.13 & 0.23 & 0.16 & 0.42 & 0.26 & 1.00 & 0.05 & 0.10 \\\\\n",
    "0.08 & 0.02 & 0.06 & 0.02 & 0.00 & 0.06 & 0.03 & 0.05 & 1.00 & 0.41 \\\\\n",
    "0.08 & 0.08 & 0.03 & 0.07 & 0.04 & 0.12 & 0.08 & 0.10 & 0.41 & 1.00\n",
    "\\end{bmatrix}\n",
    "$$"
   ]
  },
  {
   "cell_type": "markdown",
   "metadata": {},
   "source": [
    "### 2. Aufgabe: Überprüfen einer Ähnlichkeitsmatrix auf Plausibilität\n",
    "Gegeben ist eine quadratische (n x n) Matrix als 2-dimensionales Array in Python.\n",
    "Nutzen Sie für die folgenden Aufgaben Schleifentypen Ihrer Wahl (`for` oder `while`).\n",
    "\n",
    "1. Schreiben Sie eine Funktion, die überprüft, ob alle Elemente auf der Diagonalen den Wert 1 haben. \n",
    "\n",
    "2. Schreiben Sie eine Funktion, die überprüft, ob die Matrix symmetrisch ist.\n",
    "\n",
    "3. Schreiben Sie eine Funktion, die überprüft, ob die Werte in der Matrix im Intervall $[0,1]$ liegen.\n"
   ]
  },
  {
   "cell_type": "code",
   "execution_count": null,
   "metadata": {},
   "outputs": [],
   "source": [
    "# Bibliotheken importieren\n",
    "\n",
    "\n",
    "# Funktion, die überprüft, ob alle Elemente auf der Diagonalen den Wert 1 haben\n",
    "\n",
    "# Funktion, die überprüft, ob die Matrix symmetrisch ist\n",
    "\n",
    "# Funktion, die überprüft, ob die Werte der Matrix im Intervall [0,1] sind\n",
    "\n",
    "\n",
    "\n",
    "# Hauptprogramm\n",
    "\n",
    " # obige Funktionen testweise aufrufen\n",
    "                "
   ]
  },
  {
   "cell_type": "markdown",
   "metadata": {},
   "source": [
    "### 3. Aufgabe: Auswertungen einer Ähnlichkeitsmatrix\n",
    "Gegeben ist eine quadratische (n x n) Matrix als 2-dimensionales Array in Python.\n",
    "\n",
    "1. Schreiben Sie eine Funktion, die den Durchschnittswert der Elemente im unteren Dreieck der Matrix berechnet.\n",
    "\n",
    "2. Schreiben Sie eine Funktion, die herausfindet, in welcher Zeile die Summe der Elemente am größten/kleinsten ist.\n"
   ]
  },
  {
   "cell_type": "code",
   "execution_count": null,
   "metadata": {},
   "outputs": [],
   "source": [
    "# Bibliotheken importieren\n",
    "\n",
    "# Funktion, die den Durchschnittswert der Elemente im unteren Dreieck der Matrix berechnet\n",
    "\n",
    "# Funktion, die herausfindet, in welcher Zeile die Summe der Elemente am größten/kleinsten ist\n",
    "\n",
    "\n",
    "\n",
    "# Hauptprogramm\n",
    "\n",
    " # obige Funktionen testweise aufrufen\n"
   ]
  },
  {
   "cell_type": "markdown",
   "metadata": {},
   "source": [
    "## Phase III: Aufgeräumt in Klassen"
   ]
  },
  {
   "cell_type": "markdown",
   "metadata": {},
   "source": [
    "#### Wiederholung\n",
    "\n",
    "Nochmal ein kurzer Blick darauf, wie Klassen in Python aufgebaut sind: "
   ]
  },
  {
   "cell_type": "code",
   "execution_count": 1,
   "metadata": {},
   "outputs": [
    {
     "name": "stdout",
     "output_type": "stream",
     "text": [
      "Bauteil Nr. 999 - Länge: 0.5 m, Breite: 0.8 m, Fläche: 0.40 m², Umfang: 2.60 m\n",
      "Bauteil Nr. 1 - Länge: 2 m, Breite: 3 m, Fläche: 6.00 m², Umfang: 10.00 m\n",
      "Bauteil Nr. 2 - Länge: 0.5 m, Breite: 0.8 m, Fläche: 0.40 m², Umfang: 2.60 m\n",
      "Bauteil Nr. 3 - Länge: 0.2 m, Breite: 0.1 m, Fläche: 0.02 m², Umfang: 0.60 m\n",
      "Bauteil Nr. 4 - Länge: 2.5 m, Breite: 2.5 m, Fläche: 6.25 m², Umfang: 10.00 m\n",
      "Bauteil Nr. 5 - Länge: 1 m, Breite: 1.8 m, Fläche: 1.80 m², Umfang: 5.60 m\n",
      "Bauteil Nr. 1 - Länge: 2 m, Breite: 3 m, Fläche: 6.00 m², Umfang: 10.00 m\n",
      "Bauteil Nr. 2 - Länge: 0.5 m, Breite: 0.8 m, Fläche: 0.40 m², Umfang: 2.60 m\n",
      "Bauteil Nr. 3 - Länge: 0.2 m, Breite: 0.1 m, Fläche: 0.02 m², Umfang: 0.60 m\n",
      "Bauteil Nr. 4 - Länge: 2.5 m, Breite: 2.5 m, Fläche: 6.25 m², Umfang: 10.00 m\n",
      "Bauteil Nr. 5 - Länge: 1 m, Breite: 1.0 m, Fläche: 1.00 m², Umfang: 4.00 m\n"
     ]
    }
   ],
   "source": [
    "# Klassendefinition\n",
    "class Bauteil:\n",
    "    def __init__(self, nummer, laenge, breite):\n",
    "        # Konstruktor, der Bauteilnummer, Länge und Breite des Bauteils initialisiert\n",
    "        self.nummer = nummer\n",
    "        self.laenge = laenge\n",
    "        self.breite = breite\n",
    "\n",
    "    def berechne_flaeche(self):\n",
    "        # Methode: Berechnet die Fläche des Bauteils\n",
    "        return self.laenge * self.breite\n",
    "\n",
    "    def berechne_umfang(self):\n",
    "        # Methode: Berechnet den Umfang des Bauteils\n",
    "        return 2 * (self.laenge + self.breite)\n",
    "    \n",
    "    def kuerzen(self, deltaL, deltaB):\n",
    "        \"\"\"\n",
    "        Methode zum Verkürzen der Länge und Breite eines Bauteils.\n",
    "        Die Werte deltaL und deltaB bestimmen um wie viel\n",
    "        die Länge und Breite des Bauteils verkürzt werden sollen.\n",
    "        \"\"\"\n",
    "        # Verkürze die Länge und Breite\n",
    "        self.laenge -= deltaL\n",
    "        self.breite -= deltaB\n",
    "\n",
    "        # Stelle sicher, dass die Länge und Breite nicht negativ werden\n",
    "        if self.laenge < 0:\n",
    "            self.laenge = 0\n",
    "        if self.breite < 0:\n",
    "            self.breite = 0\n",
    "\n",
    "    def __str__(self):\n",
    "        # Gibt eine textuelle Beschreibung des Bauteils mit Nummer, Länge, Breite, Fläche und Umfang zurück\n",
    "        return \"Bauteil Nr. {0} - Länge: {1} m, Breite: {2} m, Fläche: {3:.2f} m², Umfang: {4:.2f} m\".format(\n",
    "            self.nummer, self.laenge, self.breite, self.berechne_flaeche(), self.berechne_umfang()\n",
    "        )\n",
    "\n",
    "\n",
    "# Hauptprogramm\n",
    "\n",
    "restBauteil = Bauteil(999, 0.5, 0.8)\n",
    "print(restBauteil);\n",
    "\n",
    "# Liste von Bauteilen (Länge und Breite laut der Tabelle)\n",
    "bauteile = [\n",
    "    Bauteil(1, 2, 3),\n",
    "    Bauteil(2, 0.5, 0.8),\n",
    "    Bauteil(3, 0.2, 0.1),\n",
    "    Bauteil(4, 2.5, 2.5),\n",
    "    Bauteil(5, 1, 1.8)\n",
    "]\n",
    "\n",
    "# Ausgabe der Informationen zu jedem Bauteil\n",
    "for bauteil in bauteile:\n",
    "    print(bauteil)\n",
    "\n",
    "# Kürze das letzte Bauteil der Liste\n",
    "bauteile[-1].kuerzen(0,0.8)\n",
    "\n",
    "for bauteil in bauteile:\n",
    "    print(bauteil)\n",
    "\n"
   ]
  },
  {
   "cell_type": "markdown",
   "metadata": {},
   "source": [
    "### 4. Aufgabe\n",
    "Programmieren Sie eine Klasse, z.B. \"MatrixPruefer\", in der die von Ihnen geschriebenen Funktionen der oberen Aufgaben als Methoden \"gebündelt\" werden.\n",
    "\n",
    "Überlegungen:\n",
    "- Welche Attribute soll die Klasse haben?\n",
    "- Welche Aufgaben soll der Konstruktor `__int()__` der Klasse übernehmen?\n",
    "- Können die Funktionen von oben 1:1 als Methoden der Klasse kopiert werden?"
   ]
  },
  {
   "cell_type": "code",
   "execution_count": null,
   "metadata": {},
   "outputs": [],
   "source": [
    "# Bibliotheken importieren\n",
    "\n",
    "\n",
    "# Definition der Klasse MatrixPruefer\n",
    "\n",
    "\n",
    "# Hauptprogramm\n",
    "\n",
    " # Objekt des Klassentyps MatrixPruefer erstellen\n",
    "\n",
    " # Methoden der Klasse aufrufen/testen\n"
   ]
  }
 ],
 "metadata": {
  "kernelspec": {
   "display_name": ".venv",
   "language": "python",
   "name": "python3"
  },
  "language_info": {
   "codemirror_mode": {
    "name": "ipython",
    "version": 3
   },
   "file_extension": ".py",
   "mimetype": "text/x-python",
   "name": "python",
   "nbconvert_exporter": "python",
   "pygments_lexer": "ipython3",
   "version": "3.9.13"
  }
 },
 "nbformat": 4,
 "nbformat_minor": 2
}
