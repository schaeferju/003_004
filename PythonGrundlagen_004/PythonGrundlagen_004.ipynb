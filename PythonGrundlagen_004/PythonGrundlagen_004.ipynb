{
 "cells": [
  {
   "cell_type": "markdown",
   "metadata": {},
   "source": [
    "# 14.11.2024 - Die Möglichkeiten der linearen und polynomiellen Regression\n",
    "---\n",
    "Wir werden etwas tiefer in die Eigenschaften der Linearen Regression eintauchen. Danach kommen wir zum Übergang zur mächtigeren polynomiellen Regression, und schauen uns an, wie wir sie mit wenigen Befehlen in Python anwenden können.\n",
    "\n",
    "* Zur Bearbeitung der Aufgaben können Sie benötigte Informationen zu Python-Befehlen und zu KI relevanten Bibliotheken (numpy, scikit, pandas) aus allen verfügbaren Quellen beziehen. Die meisten findet man natürlich über eine Suche im Internet, oder durch die Nutzung von KI chat-Systemen selbst.\n",
    "Ein gutes Tutorial für den Start findet sich  z.B. hier: https://www.python-kurs.eu/numerisches_programmieren_in_Python.php"
   ]
  },
  {
   "cell_type": "markdown",
   "metadata": {},
   "source": [
    "## Phase 1: Rückblick - Lineare Regression"
   ]
  },
  {
   "cell_type": "markdown",
   "metadata": {},
   "source": [
    "### Grundlegendes und Anwendungsbeispiel zur Lineare Regression\n",
    "\n",
    "Die **lineare Regression** ist eine Methode, um den Zusammenhang zwischen zwei oder mehr Variablen zu analysieren. Dabei wird eine gerade Linie genutzt, um die Beziehung zwischen einer **abhängigen Variable** (das, was vorhergesagt werden soll) und einer **unabhängigen Variable** (das, was zur Vorhersage genutzt wird) darzustellen. Das Ziel ist es, eine Linie zu finden, die die vorhandenen Datenpunkte bestmöglich beschreibt, um zukünftige Werte möglichst genau vorherzusagen. \n",
    "\n",
    "#### Was sind Features und Labels?\n",
    "\n",
    "In der Welt des maschinellen Lernens werden die Begriffe **Features** und **Labels** häufig verwendet:\n",
    "\n",
    "- **Features (Merkmale)** sind die **Eingabedaten** eines Modells. Sie enthalten alle relevanten Informationen, die zur Vorhersage verwendet werden. Ein Feature kann z. B. das Alter, das Gewicht, die Anzahl von Klicks auf einer Webseite oder die Größe einer Wohnung sein.\n",
    "\n",
    "- **Labels (Zielwerte)** sind die **Ausgabedaten**, die vorhergesagt werden sollen. Das Label ist das, was das Modell zu lernen versucht. Zum Beispiel könnte das Label der Preis einer Wohnung, die Vorhersage eines Verkaufs oder das Erkennen, ob ein Bild eine Katze zeigt, sein.\n",
    "\n",
    "\n"
   ]
  },
  {
   "cell_type": "markdown",
   "metadata": {},
   "source": [
    "### Wiederholung von Aufgabe 4 vom letzten Unterricht: Lineare Regression mit Scikit-learn\n",
    "Erstelle eine einfache lineare Regression. Gegeben sind folgende Daten: X = [1, 2, 3, 4, 5] (Merkmale), y = [1.5, 3.6, 3.0, 4.0, 5.2] (Zielwerte). Trainiere ein Modell und berechne die Vorhersage für X = 6."
   ]
  },
  {
   "cell_type": "code",
   "execution_count": null,
   "metadata": {},
   "outputs": [
    {
     "data": {
      "image/png": "[encoded data removed]",
      "text/plain": [
       "<Figure size 640x480 with 1 Axes>"
      ]
     },
     "metadata": {},
     "output_type": "display_data"
    }
   ],
   "source": [
    "import numpy as np\n",
    "import matplotlib.pyplot as plt\n",
    "from sklearn.linear_model import LinearRegression\n",
    "\n",
    "# Gegebene Datenpunkte\n",
    "X = np.array([1, 2, 3, 4, 5]).reshape(-1, 1)\n",
    "y = np.array([1.5, 3.6, 3.0, 4.0, 5.2])\n",
    "\n",
    "# Lineares Regressionsmodell erstellen und trainieren\n",
    "model = LinearRegression()\n",
    "model.fit(X, y)\n",
    "\n",
    "# Vorhersagen für X-Werte berechnen, um die Gerade zu zeichnen\n",
    "y_pred = model.predict(X)\n",
    "\n",
    "# Visualisierung der Datenpunkte\n",
    "plt.scatter(X, y, color='red', label='Datenpunkte')\n",
    "\n",
    "# Visualisierung der Regressionsgerade\n",
    "# plt.plot(X, y_pred, color='blue', label='Regressionsgerade')\n",
    "\n",
    "# Achsenbeschriftungen und Titel\n",
    "plt.xlabel('X (Merkmale)')\n",
    "plt.ylabel('y (Zielwerte)')\n",
    "plt.title('Lineare Regression')\n",
    "\n",
    "# Legende hinzufügen\n",
    "plt.legend()\n",
    "\n",
    "# Diagramm anzeigen\n",
    "plt.grid(True)\n",
    "plt.show()"
   ]
  },
  {
   "cell_type": "markdown",
   "metadata": {},
   "source": [
    "### 1. Aufgabe: Anwendungsbeispiel zur Lineare Regression, gelöst mit Numpy, Pandas, Scikit-Learn\n",
    "\n",
    "Features müssen nicht immer Zeitangaben (Monat, Jahr etc.) sein. In dieser Aufgabe ist es die durchschnittliche jährliche Niederschlagsmenge eines Ortes. Sie soll als Indikator dienen für die Versicherungssumme einer Wohngebäudeversicherung.\n",
    "\n",
    "Erstelle eine .csv Datei, die die durchschnittliche jährliche Niederschlagsmenge enthält und die zugehörige Versicherungssumme (siehe Bsp.werte unten).\n",
    "Lade das CSV-File mittels Pandas. Extrahiere die Daten für Niederschlag und Versicherungssumme in ein DataFrame. Visualisiere die (Niederschlag, Versicherungssumme)-Paare mit Matplotlib. Verwende anschließend Scikit-learn, um eine einfache lineare Regression zu implementieren und auf die Daten anzuwenden. Visualisiere die Gerade der Linearen Regression."
   ]
  },
  {
   "cell_type": "markdown",
   "metadata": {},
   "source": [
    "Beispieldaten\n",
    "\n",
    "| Region      | Niederschlag (mm/Jahr) | Versicherungssumme (€) |\n",
    "|-------------|------------------------|------------------------|\n",
    "| Region A    | 800                   | 2.500                 |\n",
    "| Region B    | 1200                  | 3.100                 |\n",
    "| Region C    | 600                   | 1.900                 |\n",
    "| Region D    | 1500                  | 3.700                 |\n",
    "| Region E    | 400                   | 1.500                 |\n",
    "| Region F    | 1000                  | 2.800                 |\n",
    "| Region G    | 1300                  | 3.200                 |\n",
    "| Region H    | 900                   | 2.600                 |\n",
    "| Region I    | 700                   | 2.200                 |\n",
    "| Region J    | 1100                  | 3.000                 |"
   ]
  },
  {
   "cell_type": "code",
   "execution_count": null,
   "metadata": {},
   "outputs": [],
   "source": [
    "# Vorhersage von Versicherungssumme anhand der Niederschlagsmenge\n",
    "\n",
    "# 1. Benötigte Python Pakete importieren\n",
    "\n",
    "# 2. CSV-Datei einlesen\n",
    "\n",
    "# 3. Daten anzeigen\n",
    "\n",
    "# 4. Daten für Niederschlag und Versicherungssumme in ein DataFrame extrahieren\n",
    "\n",
    "# 5. Daten visualisieren\n",
    "\n",
    "# 6. Lineare Regression mit Scikit-Learn - Modell erstellen und trainieren\n",
    "\n",
    "# 7. Vorhersage der Regressionsgerade\n",
    "\n",
    "# 8. Visualisieren der Regressionsgerade\n"
   ]
  },
  {
   "cell_type": "markdown",
   "metadata": {},
   "source": [
    "## Phase 2: Eigenschaften und Verhalten der Linearen Regression"
   ]
  },
  {
   "cell_type": "markdown",
   "metadata": {},
   "source": [
    "### 2. Aufgabe: Modellanpassung (Model fitting)\n",
    "\n",
    "Das Hinzufügen und/oder Ändern von Feature-Label-Paaren nennt man Model fitting.\n",
    "\n",
    "Nutzen Sie die Python Implementierung und den Datensatz aus Aufgabe 1. Verändern Sie das Dataframe wie unten angegeben. Erstellen Sie dann die neue Regressionsgerade und plotten Sie diese. Vergleichen Sie diese Regressionsgerade mit der aus Aufgabe 1. Was fällt auf?\n",
    "1. Neuen Datensatz hinzufügen. Die neuen Werte sollen weit über der Regressionsgeraden aus Aufgabe 1 liegen (Versicherungssumme 10000).\n",
    "2. Neuen Datensatz hinzufügen. Die neuen Werte sollen weit unter der Regressionsgeraden aus Aufgabe 1 liegen.\n",
    "3. Keinen Neuen Datensatz hinzufügen, sondern für einen bereits bestehenden Niederschlagswert die Versicherungssumme um 5000€ verkleinern, und für einen zweiten bereits bestehenden Niederschlagswert die Versicherungssumme um 5000€ erhöhen."
   ]
  },
  {
   "cell_type": "code",
   "execution_count": null,
   "metadata": {},
   "outputs": [],
   "source": [
    "# Model fitting\n",
    "\n",
    "# 1. Benötigte Python Pakete importieren\n",
    "\n",
    "# 2. CSV-Datei einlesen\n",
    "\n",
    "# 3. Daten anzeigen\n",
    "\n",
    "# 4. Daten für Niederschlag und Versicherungssumme in ein DataFrame extrahieren\n",
    "\n",
    "# 5. Neuer Datensatz als DataFrame und original Dataframe hinzufügen\n",
    "\n",
    "# 6. Model fitting. Lineare Regression mit Scikit-Learn - Modell erstellen und trainieren\n",
    "\n",
    "# 7. Vorhersage der Regressionsgerade\n",
    "\n",
    "# 8. Visualisieren der Regressionsgerade\n"
   ]
  },
  {
   "cell_type": "markdown",
   "metadata": {},
   "source": [
    "## Phase 3: Von der Linearen zur Polynomiellen Regression\n",
    "\n",
    "Die lineare Regression modelliert eine lineare Beziehung zwischen den Variablen, indem sie eine gerade Linie an die Daten anpasst. In Fällen, in denen die Daten eine nicht-lineare Beziehung aufweisen, kann eine polynomielle Regression verwendet werden, die es ermöglicht, die Daten durch eine Kurve zu approximieren. "
   ]
  },
  {
   "cell_type": "markdown",
   "metadata": {},
   "source": [
    "### 3. Aufgabe: Vorhersage von Fahrradverkäufen mit Polynomialer Regression\n",
    "\n",
    "Ein Fahrradgeschäft hat die Verkaufszahlen für die letzten 12 Monate aufgezeichnet. Die Verkaufszahlen folgen einem nicht-linearen Trend, da sie saisonalen Schwankungen unterliegen. Visualisieren zu erst die Datenpunkte, bevor sie das polynomielle Regressionsmodell erstellen und plotten. Anhand der Datenpunkte erkennt man gut das nichtlineare Muster.\n",
    "\n",
    "Erstellen Sie dann mit sklearn ein polynomiales Regressionsmodell, um zukünftige Verkäufe vorherzusagen.\n",
    "Nutzen Sie eine polynomiale Regression, um die Verkaufszahlen für den 13. Monat vorherzusagen und visualisieren Sie das Ergebnis."
   ]
  },
  {
   "cell_type": "markdown",
   "metadata": {},
   "source": [
    "| Monat\t| Verkaufszahlen |\n",
    "|--------|--------|\n",
    "|1 |\t100\n",
    "|2 |\t150\n",
    "|3 |\t200\n",
    "|4 |\t250\n",
    "|5 | \t400\n",
    "|6 |\t600\n",
    "|7 |\t800\n",
    "|8 | \t850\n",
    "|9 |\t700\n",
    "|10 |\t600\n",
    "|11 |\t450\n",
    "|12 |\t300"
   ]
  },
  {
   "cell_type": "code",
   "execution_count": null,
   "metadata": {},
   "outputs": [],
   "source": [
    "# Vorhersage von Fahrradverkäufen mit Polynomialer Regression\n",
    "\n",
    "# 1. Benötigte Python Pakete importieren\n",
    "\n",
    "# 2. Verkaufsdaten als Numpy array\n",
    "\n",
    "# 3. Polynomiale Features erstellen (z.B. Grad 3 für Nicht-Linearität)\n",
    "\n",
    "# 4. Lineares Regressionsmodell auf die polynomiellen Features anwenden\n",
    "\n",
    "# 5. Vorhersage für den 13. Monat\n",
    "\n",
    "# 6. Visualisierung der Daten und des polynomiellen Modells\n"
   ]
  },
  {
   "cell_type": "markdown",
   "metadata": {},
   "source": [
    "### Ein Ausschnitt aus der Welt der Polynome \n",
    "\n",
    "- **Grad 0 (Konstantenpolynom)**:\n",
    "  $$\n",
    "  P(x) = c\n",
    "  $$\n",
    "  Ein Polynom vom Grad 0 ist ein konstantes Polynom, wobei $ c $ eine Konstante ist.\n",
    "\n",
    "- **Grad 1 (Lineares Polynom)**:\n",
    "  $$\n",
    "  \\begin{aligned}\n",
    "  P(x) &= ax + b\n",
    "  \\end{aligned}\n",
    "  $$\n",
    "  Ein Polynom vom Grad 1 beschreibt eine Gerade, wobei $ a $ die Steigung und $ b $ der Achsenabschnitt ist.\n",
    "\n",
    "- **Grad 2 (Quadratisches Polynom)**:\n",
    "  $$\n",
    "  \\begin{aligned}\n",
    "  P(x) &= ax^2 + bx + c\n",
    "  \\end{aligned}\n",
    "  $$\n",
    "  Ein Polynom vom Grad 2 ist ein Parabelpolynom, wobei $ a \\neq 0 $ sein muss.\n",
    "\n",
    "- **Grad 3 (Kubisches Polynom)**:\n",
    "  $$\n",
    "  \\begin{aligned}\n",
    "  P(x) &= ax^3 + bx^2 + cx + d\n",
    "  \\end{aligned}\n",
    "  $$\n",
    "  Ein Polynom vom Grad 3 beschreibt eine Kurve, die bis zu zwei Wendepunkte haben kann.\n",
    "\n",
    "- **Grad 4 (Polynom vom Grad 4)**:\n",
    "  $$\n",
    "  \\begin{aligned}\n",
    "  P(x) &= ax^4 + bx^3 + cx^2 + dx + e\n",
    "  \\end{aligned}\n",
    "  $$\n",
    "  Ein Polynom vom Grad 4 hat bis zu drei Extrempunkte und kann eine Wellenform aufweisen.\n",
    "\n",
    "- **Grad 5 (Polynom vom Grad 5)**:\n",
    "  $$\n",
    "  \\begin{aligned}\n",
    "  P(x) &= ax^5 + bx^4 + cx^3 + dx^2 + ex + f\n",
    "  \\end{aligned}\n",
    "  $$\n",
    "  Ein Polynom vom Grad 5 hat bis zu vier Extrempunkte und zeigt noch komplexere Kurvenverläufe.\n",
    "\n"
   ]
  },
  {
   "cell_type": "markdown",
   "metadata": {},
   "source": [
    "### 4. Aufgabe: Polynome unterschiedlichen Grades visualisieren\n",
    "\n",
    "Visualisieren Sie mit Hilfe von numpy und matplot die folgenden Polynome von Grad 0 bis zu Grad 4. Nehmen Sie einen Definitionsbereich von -10 bis 9.\n"
   ]
  },
  {
   "cell_type": "markdown",
   "metadata": {},
   "source": [
    "- **Grad 0 (Konstantes Polynom):**  \n",
    "  $P(x) = 42 $\n",
    "\n",
    "- **Grad 1 (Lineares Polynom):**  \n",
    "  $ P(x) = 9x + 40 $\n",
    "\n",
    "- **Grad 2 (Quadratisches Polynom, Parabel):**  \n",
    "  $ P(x) = -3x^2 - 4x + 1 $\n",
    "\n",
    "- **Grad 3 (Kubisches Polynom):**  \n",
    "  $ P(x) = 0.3x^3 + 0.9x^2 + 1.5x + 2 $\n",
    "\n",
    "- **Grad 4 (Polynom Grad 4):**  \n",
    "  $  P(x) = 0.03x^4 - 0.5x^3 - 6x^2 - 3x $\n"
   ]
  },
  {
   "cell_type": "code",
   "execution_count": null,
   "metadata": {},
   "outputs": [],
   "source": [
    "# Grafische Darstellung verschiedener Polynome\n",
    "\n",
    "\n",
    "# Importieren von benötigten Paketen\n",
    "\n",
    "# Erstellen von x-Werten\n",
    "\n",
    "# Erstellen von y-Werten für Polynom vom Grad 0\n",
    "\n",
    "# Plotten von Polynom\n",
    "\n",
    "# Erstellen von y-Werten für Polynom vom Grad 1\n",
    "\n",
    "# Plotten von Polynom\n",
    "\n",
    "# etc....\n"
   ]
  },
  {
   "cell_type": "markdown",
   "metadata": {},
   "source": [
    "### 5. Aufgabe: Mit verschiedenen Polynomen experimentieren"
   ]
  },
  {
   "cell_type": "markdown",
   "metadata": {},
   "source": [
    "Ein typisches Problem bei der polynomiellen Regression besteht daring, dass das Modell zu gut an die Trainingsdaten angepasst sein kann.\n",
    "\n",
    "In folgender Aufgabe geht es um ein Szenario mit Kundenbesuchen über den Tag hinweg. In den Daten liegt allerdings Rauschen (zufällige Variationen) vor. Dies simuliert die Realität, in der die Daten nicht perfekt einer glatten Kurve folgen."
   ]
  },
  {
   "cell_type": "markdown",
   "metadata": {},
   "source": [
    "Erstellen Sie Numpy arrays mit den untenstehenden Daten.\n",
    "Verwenden Sie sklearn, um eine lineare und eine polynomielle Regression durchzuführen. Experimentieren Sie dabei mit verschiedenen Polynomgraden. Visualisieren Sie die Ergebnisse mit Matplotlib. "
   ]
  },
  {
   "cell_type": "markdown",
   "metadata": {},
   "source": [
    "| Stunde | Kundenbesuche |\n",
    "|--------|---------------|\n",
    "| 7      | 8            |\n",
    "| 8      | 15           |\n",
    "| 9      | 30           |\n",
    "| 10     | 60           |\n",
    "| 11     | 95           |\n",
    "| 12     | 110          |\n",
    "| 13     | 94           |\n",
    "| 14     | 75           |\n",
    "| 15     | 40           |\n",
    "| 16     | 50           |\n",
    "| 17     | 15           |\n",
    "| 18     | 7            |\n"
   ]
  },
  {
   "cell_type": "code",
   "execution_count": null,
   "metadata": {},
   "outputs": [],
   "source": [
    "# Mit verschiedenen Polynomen die polynomielle Regression testen\n",
    "\n",
    "\n",
    "# Importieren von benötigten Paketen\n",
    "\n",
    "# Konkrete Daten \n",
    "\n",
    "# Plot der originalen Datenpunkte\n",
    "\n",
    "# Polynomielle Regression x-ten Grades\n",
    "\n",
    "# Plot der Ergebnisse\n"
   ]
  },
  {
   "cell_type": "markdown",
   "metadata": {},
   "source": [
    "## Phase 4: Statistische Werte"
   ]
  },
  {
   "cell_type": "markdown",
   "metadata": {},
   "source": [
    "### 6. Aufgabe: Datenanalyse und Visualisierung mit Pandas, NumPy und Matplotlib\n",
    "Erstelle ein Pandas-DataFrame, das die täglichen Temperaturen (in °C) über einen Zeitraum von 30 Tagen enthält. Die Temperaturen sollen zufällig generiert werden (zwischen 15°C und 30°C). Berechne mit NumPy den Durchschnitt, die Standardabweichung und die Varianz der Temperaturen. Zeichne anschließend mit Matplotlib ein Liniendiagramm, das die Temperaturentwicklung über die Tage hinweg zeigt.\n",
    "Diese Aufgabe verbindet NumPy und Pandas zur Berechnung statistischer Werte und Matplotlib zur Visualisierung der Ergebnisse."
   ]
  },
  {
   "cell_type": "code",
   "execution_count": null,
   "metadata": {},
   "outputs": [],
   "source": [
    "# Datenanalyse und Visualisierung mit Pandas, NumPy und Matplotlib\n",
    "\n",
    "\n",
    "# Importieren benötigter Pakete\n",
    "\n",
    "# Erstelle ein Pandas-DataFrame mit zufälligen Temperaturen\n",
    "\n",
    "# Berechnungen mit NumPy\n",
    "\n",
    "# Zeige die statistischen Werte an\n",
    "\n",
    "# Zeichne das Liniendiagramm\n"
   ]
  }
 ],
 "metadata": {
  "kernelspec": {
   "display_name": "Python 3",
   "language": "python",
   "name": "python3"
  },
  "language_info": {
   "codemirror_mode": {
    "name": "ipython",
    "version": 3
   },
   "file_extension": ".py",
   "mimetype": "text/x-python",
   "name": "python",
   "nbconvert_exporter": "python",
   "pygments_lexer": "ipython3",
   "version": "3.12.6"
  }
 },
 "nbformat": 4,
 "nbformat_minor": 2
}
