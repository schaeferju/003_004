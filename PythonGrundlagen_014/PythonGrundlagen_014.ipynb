{
 "cells": [
  {
   "cell_type": "markdown",
   "metadata": {},
   "source": [
    "# 26.02.2025 - Spracherkennung und ihre Anwendung \n",
    "---\n",
    "Wir vertiefen das Thema Spracherkennung in Python und schauen uns dazu weitere Möglichkeiten an, die das Paket speech_recognition bietet. Im zweiten Teil wenden wir die erlangten Kenntnisse an, um eine Sprachsteuerung in ein existierendes System zu integrieren.\n",
    "\n",
    "* Zur Bearbeitung der Aufgaben können Sie benötigte Informationen zu Python-Befehlen und zu KI relevanten Bibliotheken (numpy, scikit, pandas) aus allen verfügbaren Quellen beziehen. Die meisten findet man natürlich über eine Suche im Internet, oder durch die Nutzung von KI chat-Systemen selbst.\n",
    "Ein gutes Tutorial für den Start findet sich  z.B. hier: https://www.python-kurs.eu/numerisches_programmieren_in_Python.php"
   ]
  },
  {
   "cell_type": "markdown",
   "metadata": {},
   "source": [
    "## Phase I - Mehr zu Spracherkennung"
   ]
  },
  {
   "cell_type": "markdown",
   "metadata": {},
   "source": [
    "Spracherkennung ist eine der zentralen Anwenudngen in der Künstlichen Intelligenz, denn sie ermöglicht es, die natürliche, gesprochene Sprache zu verstehen und zu verarbeiten. Sobald gesprochene Sprache in Text umgewandelt wurde, können alle Technologien zur Textverarbeitung angewandt werden. Spracherkennung bildet die Grundlage für digitale Assistenten wie Siri oder Alexa, Transkriptionssoftware und sprachgesteuerte Steuerungssysteme.  \n",
    "Durch Fortschritte in Deep Learning und neuronalen Netzen hat sich die Genauigkeit der Spracherkennung erheblich verbessert. Moderne Systeme nutzen riesige Sprachmodelle und selbstlernende Algorithmen, um Dialekte, Akzente und sogar Emotionen in der Sprache besser zu erfassen.\n",
    "\n",
    "Dank leistungsstarker Bibliotheken wie SpeechRecognition, whisper und vosk kann man in Python mit wenigen Zeilen Code gesprochene Sprache in Text umwandeln."
   ]
  },
  {
   "cell_type": "markdown",
   "metadata": {},
   "source": [
    "### Wiederholung: Spracherkennung\n",
    "\n",
    "In diesem Python Programm wird die onine Spracherkennungsengine von Google genutzt, um Sprache, aufgenommen in einem Audiofile, in Text umzuwandeln.\n"
   ]
  },
  {
   "cell_type": "code",
   "execution_count": null,
   "metadata": {},
   "outputs": [],
   "source": [
    "# Speech Recognition Bibliothek importieren\n",
    "import speech_recognition as sr\n",
    "\n",
    "# Einen Recognizer erstellen\n",
    "recognizer = sr.Recognizer()\n",
    "\n",
    "# Die WAV-Datei laden\n",
    "with sr.AudioFile(\".\\VampiresBiteAnfang.wav\") as source:\n",
    "    audio_data = recognizer.record(source)\n",
    "\n",
    "# Erkennung mit Googles online Modell durchführen\n",
    "try:\n",
    "    text = recognizer.recognize_google(audio_data)\n",
    "    print(\"Erkannter Text:\", text)\n",
    "except sr.UnknownValueError:\n",
    "    print(\"Google konnte den Text nicht verstehen.\")\n",
    "except sr.RequestError as e:\n",
    "    print(\"Fehler bei der Google-Anfrage:\", e)\n"
   ]
  },
  {
   "cell_type": "markdown",
   "metadata": {},
   "source": [
    "Eine sehr gute Einführung und Übersicht zur Bibliothek *speech_recognition* findet sich hier:\n",
    "https://realpython.com/python-speech-recognition/"
   ]
  },
  {
   "cell_type": "markdown",
   "metadata": {},
   "source": [
    "### Online vs. Lokal\n",
    "\n",
    "Die Nutzung der Google *online* Spracherkennung ist mit Nachteilen verbunden. "
   ]
  },
  {
   "cell_type": "markdown",
   "metadata": {},
   "source": [
    "### 1. Aufgabe\n",
    "\n",
    "Mit dem Modul SpeechRecognition kann auch offline Spracherkennung betrieben werden.\n",
    "Installieren Sie dazu das Python Paket `pocketsphinx`. Es enthält das offline SprachModell *für englische Sprache*, und ist mit dem Modul speech_recognition kompatibel.\n",
    "Ändern Sie Ihr Programm zur online Sprachanalyse mit Google so ab, dass anstelle des Google online Modells nun das offline Modell *Sphinx* benutzt wird.\n",
    "\n",
    "Vergleichen Sie die Resultate der Spracherkennung zwischen online und offline Variante."
   ]
  },
  {
   "cell_type": "code",
   "execution_count": null,
   "metadata": {},
   "outputs": [],
   "source": [
    "# Speech Recognition Bibliothek importieren\n",
    "import speech_recognition as sr\n",
    "\n",
    "# Einen Recognizer erstellen\n",
    "recognizer = sr.Recognizer()\n",
    "\n",
    "# Die WAV-Datei laden\n",
    "with sr.AudioFile(\".\\VampiresBiteAnfang.wav\") as source:\n",
    "    audio_data = recognizer.record(source)\n",
    "\n",
    "# Erkennung mit Sphinx offline Modell durchführen\n",
    "try:\n",
    "    text = recognizer.recognize_sphinx(audio_data)\n",
    "    print(\"Erkannter Text:\", text)\n",
    "except sr.UnknownValueError:\n",
    "    print(\"Google konnte den Text nicht verstehen.\")\n",
    "except sr.RequestError as e:\n",
    "    print(\"Fehler bei der Google-Anfrage:\", e)\n"
   ]
  },
  {
   "cell_type": "markdown",
   "metadata": {},
   "source": [
    "### 2. Aufgabe\n",
    "Die `record` Methode der Klasse Recognizer kann mittels Parameter konfiguriert werden. Dazu stehen die Paramter `duration` und `offset` zur Verfügung. \n",
    "Testen Sie die record Methode mit verschiedenen Werten für diese Parameter. (Google oder Sphinx Variante)."
   ]
  },
  {
   "cell_type": "code",
   "execution_count": null,
   "metadata": {},
   "outputs": [],
   "source": [
    "# Speech Recognition Bibliothek importieren\n",
    "import speech_recognition as sr\n",
    "\n",
    "# Einen Recognizer erstellen\n",
    "recognizer = sr.Recognizer()\n",
    "\n",
    "# Die WAV-Datei laden\n",
    "with sr.AudioFile(\".\\VampiresBiteAnfang.wav\") as source:\n",
    "    audio_data = recognizer.record(source, duration=5, offset=0)\n",
    "\n",
    "# Erkennung mit Sphinx offline Modell durchführen\n",
    "try:\n",
    "    text = recognizer.recognize_sphinx(audio_data)\n",
    "    print(\"Sphinx:\", text)\n",
    "except sr.UnknownValueError:\n",
    "    print(\"Google konnte den Text nicht verstehen.\")\n",
    "except sr.RequestError as e:\n",
    "    print(\"Fehler bei der Sphinx-Anfrage:\", e)\n",
    "\n",
    "# Erkennung mit Google offline Modell durchführen\n",
    "try:\n",
    "    text = recognizer.recognize_google(audio_data)\n",
    "    print(\"Google:\", text)\n",
    "except sr.UnknownValueError:\n",
    "    print(\"Google konnte den Text nicht verstehen.\")\n",
    "except sr.RequestError as e:\n",
    "    print(\"Fehler bei der Google-Anfrage:\", e)\n",
    "    "
   ]
  },
  {
   "cell_type": "markdown",
   "metadata": {},
   "source": [
    "Mit **Live-Spracherkennung** kann Sprache in Echtzeit über ein Mikrofon aufgenommen und in Text umgewandelt werden. Dies ermöglicht Anwendungen wie Sprachsteuerung, Diktierfunktionen oder interaktive Assistenten. Sobald man in Python Zugriff auf die Mikrofon-Hardware des Computers hat, bietet die Bibliothek speech_recognition alle benötigten Methoden, um die Audiosignale des Mikrofons zu verarbeiten. Der Zugriff auf die Mikrofon-Hardware wird ermöglicht mit dem Paket `pyaudio`."
   ]
  },
  {
   "cell_type": "markdown",
   "metadata": {},
   "source": [
    "### 3. Aufgabe\n",
    "Installieren Sie das Python Paket *pyaudio*.\n",
    "Programmieren Sie eine Variante Ihres Spracherkennungsprogramms, das Spracheingabe über Mikrofon zu Text umwandelt."
   ]
  },
  {
   "cell_type": "code",
   "execution_count": null,
   "metadata": {},
   "outputs": [],
   "source": [
    "# Speech Recognition Bibliothek importieren\n",
    "import speech_recognition as sr\n",
    "\n",
    "# Einen Recognizer erstellen\n",
    "recognizer = sr.Recognizer()\n",
    "\n",
    "# Mikrofon erstellen\n",
    "mic = sr.Microphone(device_index=0)\n",
    "\n",
    "# Mikrofon als Audioquelle nutzen\n",
    "with mic as source:\n",
    "    # Umgebungsgeräusche anpassen (optional, verbessert die Erkennung)\n",
    "    recognizer.adjust_for_ambient_noise(source)\n",
    "    # Audio aufnehmen/zuhören\n",
    "    audio = recognizer.listen(source)\n",
    "        # Sprache in Text umwandeln (Google Speech Recognition API)\n",
    "    try:\n",
    "        text = recognizer.recognize_google(audio)\n",
    "        print(\"Google:\", text)\n",
    "    except sr.UnknownValueError:\n",
    "        print(\"Google konnte den Text nicht verstehen.\")\n",
    "    except sr.RequestError as e:\n",
    "        print(\"Fehler bei der Google-Anfrage:\", e)"
   ]
  },
  {
   "cell_type": "markdown",
   "metadata": {},
   "source": [
    "## Phase II - Anwendung der Spracherkennung -> Sprachsteuerung"
   ]
  },
  {
   "cell_type": "markdown",
   "metadata": {},
   "source": [
    "Mit Python lässt sich die Spracherkennung nutzen, um eine Sprachsteuerung umsetzen. Diese erkennt die gesprochenen Befehle erkennt und reagiert darauf. So können Programme per Stimme gesteuert werden. Durch Kombination mit Textverarbeitung oder KI lassen sich sogar komplexere Interaktionen realisieren."
   ]
  },
  {
   "cell_type": "markdown",
   "metadata": {},
   "source": [
    "### 4. Aufgabe\n",
    "Fügen Sie eine Sprachsteuerung zu Ihrem grafischen Taschenrechner hinzu.\n",
    "\n",
    "Nehmen Sie sich für die folgenden Punkte ausreichend Zeit:\n",
    "- Überlegen Sie, was die Sprachsteuerung konkret machen soll.\n",
    "- Planen Sie, welche Programmelemente dazu an welcher Stelle neu hinzukommen sollen.\n",
    "- Implementieren Sie Ihre Lösung.\n",
    "\n",
    "*(Nehmen Sie gerne als Ausgangspunkt Ihre eigene Taschenrechner Implementierung vom letzten mal. Ansonsten findet sich auch das Minimalbeispiel der Taschenrechner GUI unter\n",
    "https://lms2.schulcampus-rlp.de/SN-62808/course/view.php?id=453&section=2 -> \"*From-PySide6-Simple*\" )*"
   ]
  }
 ],
 "metadata": {
  "kernelspec": {
   "display_name": "Python 3",
   "language": "python",
   "name": "python3"
  },
  "language_info": {
   "codemirror_mode": {
    "name": "ipython",
    "version": 3
   },
   "file_extension": ".py",
   "mimetype": "text/x-python",
   "name": "python",
   "nbconvert_exporter": "python",
   "pygments_lexer": "ipython3",
   "version": "3.12.5"
  }
 },
 "nbformat": 4,
 "nbformat_minor": 2
}
