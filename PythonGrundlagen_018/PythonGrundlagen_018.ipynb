{
 "cells": [
  {
   "cell_type": "markdown",
   "metadata": {},
   "source": [
    "# 26.03.2025 - Vererbungsbäume, Assoziationen \n",
    "---\n",
    "Wir beginnen mit einer Vertiefung des Themas Mehrfachvererbung. Des Weiteren betrachten wir die Strukturen, die unter den verschiedenen Vererbungsarten entstehen können. \n",
    "Unter den Beziehungen zwischen Klassen gibt es aber nicht nur die Vererbung: Zwischen Klassen können weitere Beziehungen bestehen, mittels derer objektorientiert programmiert und modelliert werden kann: Assoziation, Aggregation und Komposition. Wir schauen uns theoretische und praktische Aspekte dieser Beziehungen zwischen Klassen an, und betrachten sie im Kontext eines Anwendungsfalls.\n",
    "\n",
    "* Zur Bearbeitung der Aufgaben können Sie benötigte Informationen zu Python-Befehlen und zu KI relevanten Bibliotheken (numpy, scikit, pandas) aus allen verfügbaren Quellen beziehen. Die meisten findet man natürlich über eine Suche im Internet, oder durch die Nutzung von KI chat-Systemen selbst.\n",
    "Ein gutes Tutorial für den Start findet sich  z.B. hier: https://www.python-kurs.eu/numerisches_programmieren_in_Python.php"
   ]
  },
  {
   "cell_type": "markdown",
   "metadata": {},
   "source": [
    "## Phase I - Vertiefung und Wiederholungen zur Vererbung"
   ]
  },
  {
   "cell_type": "markdown",
   "metadata": {},
   "source": [
    "### 1. Vertiefungsaufgabe - Einfaches Vererben mit Überschreiben von Methoden\n",
    "\n",
    "##### Teil 1:\n",
    "Erstellen Sie eine Klasse `Instrument`, die eine allgemeine Vorlage für Musikinstrumente darstellt. Diese Klasse soll:  \n",
    "- Einen Konstruktor haben, der den Namen des Instruments speichert.\n",
    "- Eine Methode `spielen(self)`, die eine allgemeine Nachricht ausgibt, z. B. _\"Das Instrument wird gespielt.\"_\n",
    "\n",
    "Leiten Sie von `Instrument` eine Klasse für ein spezifisches Musikinstrument Ihrer Wahl ab (z. B. Gitarre, Trompete, Schlagzeug, Geige, ...):\n",
    "Überschreiben Sie die Methode `spielen(self)`, sodass sie eine spezifischere Ausgabe für Ihr gewähltes Musikinstrument macht, z.B. _\"Die Gitarre wird gezupft.\"_ oder _\"Die Trompete erklingt laut.\"_ \n",
    "\n",
    "Erstellen Sie zwei Objekte: Eine Instanz von Instrument und eine Instanz von Ihrem abgeleiteten Musikinstrument. Rufen Sie auf beiden Objekten die Methode `spielen()` auf, um die Ausgabe zu testen.\n",
    "\n",
    "*Fortgeschrittene Variante:* Überschreiben Sie in der abgeleiteten Klasse den \"Gleichheitsoperator\"."
   ]
  },
  {
   "cell_type": "markdown",
   "metadata": {},
   "source": [
    "Klassendiagramm für das Beispiel \"Klavier\":\n",
    "\n",
    "<img src=\"./PythonGrundlagen_018_Bilder/Ueberschreiben_Klavier_einfacheVererbung.drawio.png\" alt=\"Diagramm\" width=\"280\" />"
   ]
  },
  {
   "cell_type": "markdown",
   "metadata": {},
   "source": [
    "##### Teil 2:\n",
    "Erstellen Sie eine weitere Klasse, die in der Vererbungshirarchie liegt zwischen `Instrument` und der von Ihnen gewählten spezifischen Musikinstrumentenklasse eingeordnet wird. Testen Sie verschiedene Kombinationen davon, in welchen Klassen die Methode `spielen(self)` überschireben wird. "
   ]
  },
  {
   "cell_type": "markdown",
   "metadata": {},
   "source": [
    "Klassendiagramm für das Beispiel \"Klavier erbt von Tasteninstrument erbt von Instrument\":\n",
    "\n",
    "<img src=\"./PythonGrundlagen_018_Bilder/Ueberschreiben_Klavier_Vererbungskette.drawio.png\" alt=\"Diagramm\" width=\"280\" />"
   ]
  },
  {
   "cell_type": "code",
   "execution_count": null,
   "metadata": {},
   "outputs": [],
   "source": [
    "# Klassendefinitionen\n",
    "class Instrument:\n",
    "  def __init__(self, hersteller):\n",
    "    self.hersteller = hersteller\n",
    "\n",
    "  def spielen(self):\n",
    "    print(\"Ich mache Musik!\")\n",
    "\n",
    "#############################################################\n",
    "\n",
    "class Holzblasinstrument(Instrument):\n",
    "  def spielen(self):\n",
    "    print(\"Ich spiele ein Holzblasinstrument!\")\n",
    "  \n",
    "  def __eq__(self, other):\n",
    "    ''' Vergleich zweier Klarinetten '''\n",
    "    if not isinstance(other, Holzblasinstrument):\n",
    "      return \"Kein Holzblasinstrument\"\n",
    "    return self.hersteller == other.hersteller\n",
    "\n",
    "\n",
    "class Querflöte(Holzblasinstrument):\n",
    "  def __init__(self, hersteller, modell):\n",
    "    super().__init__(hersteller)\n",
    "    self.modell = modell\n",
    "    self.hersteller = hersteller\n",
    "\n",
    "  def spielen(self):\n",
    "    print(\"Ich spiele Querflöte!\")\n",
    "  \n",
    "  def __str__(self):\n",
    "    \"\"\"\n",
    "    Gibt eine string-Darstellung der Querflöte zurück.\n",
    "    \"\"\"\n",
    "    return f\"Querflötenmodell {self.modell} des Herstellers {self.hersteller}.\"\n",
    "\n",
    "class Klarinette(Holzblasinstrument):\n",
    "  def spielen(self):\n",
    "    print(\"Ich spiele Klarinette!\")\n",
    "\n",
    "  def __eq__(self, other):\n",
    "    ''' Vergleich zweier Klarinetten '''\n",
    "    if not isinstance(other, Klarinette):\n",
    "      return \"Keine Klarinette\"\n",
    "    return self.hersteller == other.hersteller\n",
    "  \n",
    "#############################################################\n",
    "\n",
    "class Blechblasinstrument(Instrument):\n",
    "  def __init__(self, hersteller, modell):\n",
    "    super().__init__(hersteller)\n",
    "    self.modell = modell\n",
    "    self.hersteller = hersteller\n",
    "\n",
    "  def spielen(self):\n",
    "    print(\"Ich spiele ein Blechblasinstrument!\")\n",
    "\n",
    "  def __eq__(self, other):\n",
    "    ''' Vergleich zweier Blechblasinstrumente '''\n",
    "    if not isinstance(other, Blechblasinstrument):\n",
    "      return \"Kein Blechbläser\"\n",
    "    print(\"Trompete?\")\n",
    "    return self.hersteller == other.hersteller and self.modell == other.modell\n",
    "  \n",
    "\n",
    "class Trompete (Blechblasinstrument):\n",
    "  def spielen(self):\n",
    "    print(\"Ich spiele Trompete!\")\n",
    "  \n",
    "  def __eq__(self, other):\n",
    "    ''' Vergleich zweier Trompeten '''\n",
    "    if not isinstance(other, Trompete):\n",
    "      return \"Keine Trompete\"\n",
    "    return self.modell == other.modell\n",
    "\n",
    "#############################################################\n",
    "\n",
    "\n",
    "\n",
    "# Hauptprogramm\n",
    "# Instanzen erstellen\n",
    "\n",
    "querflöte = Querflöte(\"Yamaha\", \"1B\")\n",
    "percussion = Instrument(\"Meinl\")\n",
    "klarinette1 = Klarinette(\"Jupiter\")\n",
    "klarinette2 = Klarinette(\"Jupiter\")\n",
    "klarinette3 = Klarinette(\"Yamaha\")\n",
    "blockflöte = Holzblasinstrument(\"Moeck\")\n",
    "Tuba1 = Blechblasinstrument(\"Yamaha\", \"576\")\n",
    "Trompete1 = Trompete(\"Tuut\", \"576\")\n",
    "Trompete2 = Trompete(\"Musikhaus\", \"576\")\n",
    "\n",
    "\n",
    "#Methodenaufrufe\n",
    "\"\"\"\n",
    "querflöte.spielen()\n",
    "percussion.spielen()\n",
    "klarinette1.spielen()\n",
    "blockflöte.spielen()\n",
    "Tuba1.spielen()\n",
    "Trompete1.spielen()\n",
    "\"\"\"\n",
    "\n",
    "#Vergleiche\n",
    "\"\"\"print(\"\\n\")\n",
    "print(\"Vergleiche:\")\n",
    "\n",
    "print(Trompete1 == Tuba1)\n",
    "print(Tuba1 == Trompete1, \"\\n\")\n",
    "\n",
    "print(Tuba1 == percussion)\n",
    "print(klarinette1 == Tuba1)\n",
    "print(Tuba1 == klarinette1)\n",
    "print(querflöte == Tuba1, \"\\n\")\n",
    "\n",
    "print(\"Trompete\", Trompete1 == Trompete2, \"\\n\")\n",
    "\n",
    "print(\"Klarinetten:\")\n",
    "print(klarinette1 == klarinette2, \"\\n\")\n",
    "print(klarinette1 == klarinette3)\n",
    "\n",
    "print(klarinette1 == querflöte)\n",
    "print(klarinette1 == 5 , \"\\n\")\n",
    "\n",
    "print(klarinette1 == percussion)\n",
    "print(percussion == klarinette1)\n",
    "\n",
    "print(\"__str__:\")\n",
    "print(querflöte)\n",
    "print(klarinette1)\n",
    "\n",
    "print(\"Kann er das?\")\n",
    "blockflöte.hersteller\n",
    "#percussion.hersteller\n",
    "\"\"\"\n",
    "\n",
    "print(Tuba1 == blockflöte)\n",
    "print(blockflöte == Tuba1)\n"
   ]
  },
  {
   "cell_type": "markdown",
   "metadata": {},
   "source": [
    "## Phase II - Der Vererbungsbaum bei Mehrfachvererbung"
   ]
  },
  {
   "cell_type": "markdown",
   "metadata": {},
   "source": [
    "### Der Vererbungsbaum"
   ]
  },
  {
   "cell_type": "markdown",
   "metadata": {},
   "source": [
    "Ein *Vererbungsbaum* ist eine visuelle Darstellung der Vererbungshierarchie in der objektorientierten Programmierung. Die Vererbungshierarchie zeigt, wie Klassen voneinander abgeleitet werden (d.h., wie sie miteinander verwandt sind). "
   ]
  },
  {
   "cell_type": "markdown",
   "metadata": {},
   "source": [
    "##### Ohne Mehrfachvererbung:\n",
    "\n",
    "<img src=\"./PythonGrundlagen_018_Bilder/Vererbungsbaum_keineMehrfachvererbung.drawio.png\" alt=\"Diagramm\" width=\"500\" />"
   ]
  },
  {
   "cell_type": "markdown",
   "metadata": {},
   "source": [
    "##### Mit Mehrfachvererbung:\n",
    "\n",
    "<img src=\"./PythonGrundlagen_018_Bilder/Vererbungsbaum_mitMehrfachvererbung.drawio.png\" alt=\"Diagramm\" width=\"500\" />"
   ]
  },
  {
   "cell_type": "markdown",
   "metadata": {},
   "source": [
    "#### Beispiel:\n",
    "\n",
    "<img src=\"./PythonGrundlagen_018_Bilder/Mehrfachvererbung_PlugInHybrid_blueColored.drawio.png\" alt=\"Diagramm\" width=\"500\" />\n",
    "\n"
   ]
  },
  {
   "cell_type": "markdown",
   "metadata": {},
   "source": [
    "#### Vererbte und überschriebene Methoden bei der Mehrfachvererbung\n",
    "\n",
    "Durch die Mehrfachvererbung kann das Konzept der vererbten und überschriebenen Merthoden zu einem komplexen Programmverhalten führen:\n",
    "Wenn mehrere Basisklassen die gleiche Methode definieren und an eine gemeinsame Klasse vererben, kann es unintuitiv sein, welche Methode letztendlich aufgerufen wird. Grund dafür ist die interne Priorisierung der Methoden in Python in solchen Mehrfachvererbungsfällen. "
   ]
  },
  {
   "cell_type": "markdown",
   "metadata": {},
   "source": [
    "**Lösung**:\n",
    "Python erstellt intern eine *MRO (Method Resolution Order)* und benutzt sie, um zu bestimmen, welche Methode zuerst ausgeführt wird."
   ]
  },
  {
   "cell_type": "markdown",
   "metadata": {},
   "source": [
    "Bsp.:"
   ]
  },
  {
   "cell_type": "markdown",
   "metadata": {},
   "source": [
    "<img src=\"./PythonGrundlagen_018_Bilder/MRO_einfach.drawio.png\" alt=\"Diagramm\" width=\"350\" />"
   ]
  },
  {
   "cell_type": "markdown",
   "metadata": {},
   "source": [
    "Die Method Resolution Order (MRO) in Python legt fest, in welcher Reihenfolge Python nach Methoden und Attributen in einer Klassenhierarchie sucht. Bei Mehrfachvererbung stellt sie sicher, dass jede Klasse nur einmal berücksichtigt wird und die Reihenfolge der Basisklassen eingehalten wird."
   ]
  },
  {
   "cell_type": "markdown",
   "metadata": {},
   "source": [
    "### 2. Aufgabe\n",
    "\n",
    "Implementieren Sie obiges Klassendiagramm mit Mehrfachvererbung in Python. Die Methode *myMethod* soll ausgeben, zu welcher Klasse sie gehört (z.B.: \"Methode von <span style=\"font-family: monospace; font-style: italic\"> Klassenname</span>.\").\n",
    "\n",
    "- Erstellen Sie ein Objekt der Klasse D, und rufen sie die *myMethod* von diesem Objekt aus auf. \n",
    "- Erstellen Sie ein Objekt der Klasse B, und rufen sie die *myMethod* von diesem Objekt aus auf.\n",
    "- Lassen Sie sich die *Method Resolution Order (MRO)* der Klasse D ausgeben."
   ]
  },
  {
   "cell_type": "code",
   "execution_count": 21,
   "metadata": {},
   "outputs": [
    {
     "name": "stdout",
     "output_type": "stream",
     "text": [
      "Methode von C\n",
      "Methode von A\n",
      "Methode von C\n",
      "(<class '__main__.D'>, <class '__main__.B'>, <class '__main__.C'>, <class '__main__.A'>, <class 'object'>)\n",
      "(<class '__main__.E'>, <class '__main__.C'>, <class '__main__.B'>, <class '__main__.A'>, <class 'object'>)\n"
     ]
    }
   ],
   "source": [
    "# Klassendefinitionen\n",
    "\n",
    "class A:\n",
    "    def myMethod(self):\n",
    "        print(\"Methode von A\")\n",
    "\n",
    "class B (A):\n",
    "    pass\n",
    "\n",
    "class C (A):\n",
    "    def myMethod(self):\n",
    "        print(\"Methode von C\")\n",
    "\n",
    "class D (B,C):\n",
    "    pass\n",
    "        \n",
    "class E (C,B):\n",
    "    pass\n",
    "\n",
    "# Hauptprogramm\n",
    "b = B()\n",
    "d = D()\n",
    "e = E()\n",
    "d.myMethod()\n",
    "b.myMethod()\n",
    "e.myMethod()\n",
    "print(D.__mro__)\n",
    "print(E.__mro__)\n",
    "\n"
   ]
  },
  {
   "cell_type": "markdown",
   "metadata": {},
   "source": [
    "##### Erweitertes Beispiel:"
   ]
  },
  {
   "cell_type": "markdown",
   "metadata": {},
   "source": [
    "<img src=\"./PythonGrundlagen_018_Bilder/MRO_erweitert.drawio.png\" alt=\"Diagramm\" width=\"350\" />"
   ]
  },
  {
   "cell_type": "markdown",
   "metadata": {},
   "source": [
    "### 3. Aufgabe\n",
    "\n",
    "Implementieren Sie obiges Klassendiagramm mit Mehrfachvererbung in Python. Die Methode *myMethod* soll ausgeben, zu welcher Klasse sie gehört (z.B.: \"Methode von <span style=\"font-family: monospace; font-style: italic\"> Klassenname</span>.\").\n",
    "- Erstellen Sie ein Objekt der Klasse D, und rufen sie die *myMethod* von diesem Objekt aus auf. \n",
    "- Erstellen Sie ein Objekt der Klasse B, und rufen sie die *myMethod* von diesem Objekt aus auf.\n",
    "- Lassen Sie sich die *Method Resolution Order (MRO)* der Klasse D ausgeben."
   ]
  },
  {
   "cell_type": "code",
   "execution_count": 27,
   "metadata": {},
   "outputs": [
    {
     "name": "stdout",
     "output_type": "stream",
     "text": [
      "Methode von B1\n",
      "Methode von C\n",
      "Methode von B1\n",
      "(<class '__main__.D'>, <class '__main__.B'>, <class '__main__.B11'>, <class '__main__.B1'>, <class '__main__.C'>, <class '__main__.C1'>, <class '__main__.A'>, <class 'object'>)\n",
      "(<class '__main__.E'>, <class '__main__.C'>, <class '__main__.C1'>, <class '__main__.B'>, <class '__main__.B11'>, <class '__main__.B1'>, <class '__main__.A'>, <class 'object'>)\n",
      "(<class '__main__.F'>, <class '__main__.B1'>, <class '__main__.C'>, <class '__main__.C1'>, <class '__main__.A'>, <class 'object'>)\n"
     ]
    }
   ],
   "source": [
    "# Klassendefinitionen\n",
    "\n",
    "class A:\n",
    "    def myMethod(self):\n",
    "        print(\"Methode von A\")\n",
    "\n",
    "class B1 (A):\n",
    "    def myMethod(self):\n",
    "        print(\"Methode von B1\")\n",
    "\n",
    "class B11 (B1):\n",
    "    pass\n",
    "\n",
    "class B (B11):\n",
    "    pass\n",
    "\n",
    "class C1 (A):\n",
    "    def myMethod(self):\n",
    "        print(\"Methode von C1\")\n",
    "        \n",
    "class C (C1):\n",
    "    def myMethod(self):\n",
    "        print(\"Methode von C\")\n",
    "\n",
    "class D (B,C):\n",
    "    pass\n",
    "        \n",
    "class E (C,B):\n",
    "    pass\n",
    "\n",
    "class F (B1,C):\n",
    "    pass\n",
    "\n",
    "# Hauptprogramm\n",
    "d = D()\n",
    "e = E()\n",
    "f = F()\n",
    "d.myMethod()\n",
    "e.myMethod()\n",
    "f.myMethod()\n",
    "print(D.__mro__)\n",
    "print(E.__mro__)\n",
    "print(F.__mro__)\n",
    "\n",
    "\n",
    "\n"
   ]
  },
  {
   "cell_type": "markdown",
   "metadata": {},
   "source": [
    "### 4. Aufgabe - mit \"super()\" durch die Vererbung hangeln\n",
    "\n",
    "1. In den obigen code Beispielen zur Mehrfachvererbung soll nun *jede* Klasse eine Methode \"myMethod\" haben, die ausgibt: \"Methode von <span style=\"font-family: monospace; font-style: italic\"> Klassenname</span>.\"\n",
    "\n",
    "2. Am Ende der Methode *myMethod* soll mit Hilfe von <span style=\"font-family: monospace;\"> super()</span> die Methode *myMethod* der Superklasse aufgerufen werden.\n",
    "\n",
    "3. Beobachten Sie die Ausgabe, und die damit verbuundene Reihenfolge der Klassen, deren Methoden aufgerufen werden. Was fällt auf?"
   ]
  },
  {
   "cell_type": "code",
   "execution_count": 20,
   "metadata": {},
   "outputs": [
    {
     "name": "stdout",
     "output_type": "stream",
     "text": [
      "Methode von D\n",
      "Methode von B\n",
      "Methode von C\n",
      "Methode von A\n",
      "\n",
      "\n",
      "Methode von E\n",
      "Methode von C\n",
      "Methode von B\n",
      "Methode von A\n",
      "(<class '__main__.D'>, <class '__main__.B'>, <class '__main__.C'>, <class '__main__.A'>, <class 'object'>)\n",
      "(<class '__main__.E'>, <class '__main__.C'>, <class '__main__.B'>, <class '__main__.A'>, <class 'object'>)\n"
     ]
    }
   ],
   "source": [
    "# Klassendefinitionen\n",
    "\n",
    "class A:\n",
    "    def myMethod(self):\n",
    "        print(\"Methode von A\")\n",
    "\n",
    "class B (A):\n",
    "    def myMethod(self):\n",
    "        print(\"Methode von B\")\n",
    "        super().myMethod()\n",
    "\n",
    "class C (A):\n",
    "    def myMethod(self):\n",
    "        print(\"Methode von C\")\n",
    "        super().myMethod()\n",
    "\n",
    "class D (B,C):\n",
    "    def myMethod(self):\n",
    "        print(\"Methode von D\")\n",
    "        super().myMethod()\n",
    "        \n",
    "class E (C,B):\n",
    "    def myMethod(self):\n",
    "        print(\"Methode von E\")\n",
    "        super().myMethod()\n",
    "\n",
    "# Hauptprogramm\n",
    "D().myMethod()\n",
    "print(\"\\n\")\n",
    "E().myMethod()\n",
    "print(D.__mro__)\n",
    "print(E.__mro__)\n"
   ]
  },
  {
   "cell_type": "markdown",
   "metadata": {},
   "source": [
    "## Phase III - Assoziationen zwischen Klassen"
   ]
  },
  {
   "cell_type": "markdown",
   "metadata": {},
   "source": [
    "Neben der Vererbung können Klassen in der objektorientierten Programmierung unterschiedlich starkt miteinander \"verbunden\"/\"verknüpft\" sein."
   ]
  },
  {
   "cell_type": "markdown",
   "metadata": {},
   "source": [
    "### Anwendungsbeispiel - Robotergestützte Produktionsstraße\n",
    "\n",
    "Ein Unternehmen nutzt eine automatisierte Produktionsstraße, die aus mehreren Robotern besteht. Diese Roboter sind mit Werkzeugen ausgestattet und kommunizieren mit einem externen Wartungssystem.\n",
    "\n",
    "Frage: In welcher Beziehung stehen die Klassen im Kontext dieses Anwendungsfalls zueinander?\n",
    "\n",
    "<img src=\"./PythonGrundlagen_018_Bilder/Assoziationen_Produktionsstrasse_unassoziiert.drawio.png\" alt=\"Diagramm\" width=\"550\" />"
   ]
  },
  {
   "cell_type": "markdown",
   "metadata": {},
   "source": [
    "#### Zusammenfassung der unterschidlichen Arten der Beziehungen:\n",
    "\n",
    "| Beziehungstyp      | Art der Verbindung | Beispiel |\n",
    "|--------------------|-------------------|----------|\n",
    "| **Vererbung (\"ist-ein\")** | Eine Klasse erbt von einer anderen (Oberklasse → Unterklasse) | `Auto` erbt von `Fahrzeug` |\n",
    "| **Assoziation (\"steht in Beziehung zu\")** | Zwei Klassen kennen einander. Sie können miteinander interagieren. | `Fahrer` fährt `Auto` |\n",
    "| **Aggregation (\"hat-ein\", aber unabhängig)** | Ganzes-Teile-Beziehung. Ein Objekt enthält andere, aber sie können unabhängig existieren | `Schule` hat `Lehrer`, aber Lehrer existieren auch ohne Schule |\n",
    "| **Komposition (\"hat-ein\", aber abhängig)** | Ganzes-Teile-Beziehung. Ein Objekt enthält andere, die ohne es nicht existieren können | `Haus` hat `Räume`, aber Räume existieren nicht ohne das Haus |\n"
   ]
  },
  {
   "cell_type": "markdown",
   "metadata": {},
   "source": [
    "### 5. Aufgabe - Implementierung der Produktionsstraße\n",
    "\n",
    "#### Teil 1 (Assoziation)\n",
    "Implementieren Sie die Klassen `Roboter` und `Wartungssystem`, *ohne* die Attribute greifer und steuerung. Die Ausgabe der methode diagnose kann in diesem Bsp. beliebig sein.\n",
    "\n",
    "#### Teil 2 (Komposition)\n",
    "Informieren Sie sich darüber, wie eine Komposition in Python Programmen aussieht. \n",
    "Implementieren Sie die Klassen `Greifarm` und `Steuerungseinheit`. Fügen Sie die entsprechenden Attribute <span style=\"font-family:monospace;\"> greifer</span> und <span style=\"font-family:monospace;\"> steuerung</span> der Klasse Robotor hinzu, in Form einer Komposition.\n",
    "\n",
    "#### Teil 3 (Aggregation)\n",
    "Informieren Sie sich darüber, wie eine Aggregation in Python Programmen aussieht. \n",
    "Implementieren Sie die Klasse `Produktionsstrasse`. Fügen Sie das Attribut <span style=\"font-family:monospace;\"> eingesetzteRoboter</span> der Klasse Produktionsstrasse hinzu, in Form einer Aggregation.\n",
    "\n",
    "#### Teil 4 \n",
    "Erstellen Sie im Hauptprogramm Objekte der Klassen, sodass ein kleines Setup des Produktionsscenarios entsteht. Rufen Sie die Methoden der Objekte auf und überprüfen Sie die Werte ihrer Attribute.\n",
    "\n",
    "\n",
    "\n"
   ]
  },
  {
   "cell_type": "code",
   "execution_count": null,
   "metadata": {},
   "outputs": [],
   "source": [
    "# Klasssendefinitionen\n",
    "class Roboter:\n",
    "    def __init__(self, init_id: int, init_gripstrength: float, init_swversion: str):\n",
    "        self.id = init_id\n",
    "        self.greifer = Greifarm(init_gripstrength)\n",
    "        self.steuerung = Steuerungseinheit(init_swversion)\n",
    "    \n",
    "\n",
    "class Wartungssystem:\n",
    "    def __init__(self, init_diagCount: int):\n",
    "        self.anzDurchgfDiagnosen = init_diagCount\n",
    "    \n",
    "    def diagnose(Roboter):\n",
    "        print(\"Diagnose an Roboter\", Roboter.id, \"durchgeführt.\")\n",
    "        return \"{Roboter.id}\"\n",
    "\n",
    "\n",
    "class Greifarm:\n",
    "    def __init__(self, init_tragkraft: float):\n",
    "        self.tragkraft = init_tragkraft\n",
    "\n",
    "\n",
    "class Steuerungseinheit:\n",
    "    def __init__(self, init_SW_Version: str):\n",
    "        self.SW_Version = init_SW_Version\n",
    "\n",
    "\n",
    "# Hauptprogramm\n"
   ]
  }
 ],
 "metadata": {
  "kernelspec": {
   "display_name": "Python 3",
   "language": "python",
   "name": "python3"
  },
  "language_info": {
   "codemirror_mode": {
    "name": "ipython",
    "version": 3
   },
   "file_extension": ".py",
   "mimetype": "text/x-python",
   "name": "python",
   "nbconvert_exporter": "python",
   "pygments_lexer": "ipython3",
   "version": "3.12.5"
  }
 },
 "nbformat": 4,
 "nbformat_minor": 2
}
