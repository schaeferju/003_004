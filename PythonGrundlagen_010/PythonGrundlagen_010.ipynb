{
 "cells": [
  {
   "cell_type": "markdown",
   "metadata": {},
   "source": [
    "# 15.01.2025 - Ähnlichkeiten in Texten & Weiterführung des Themas GUI \n",
    "---\n",
    "Zu Beginn wiederholen wir das Thema Ähnlichkeiten. Danach führen wir das Thema weiter, und erarbeiten wie die Ähnlichkeit von Texten mit scikit learn bestimmt werden können. Dazu bedienen wir uns auch an Python-Methoden, die Eigenschaften bzgl. der Worthäufigkeit in Texten bestimmen. Im zweiten Abschnitt führen wir den Exkurs zum Thema graphische Benutzeroberflächen fort.\n",
    "\n",
    "* Zur Bearbeitung der Aufgaben können Sie benötigte Informationen zu Python-Befehlen und zu KI relevanten Bibliotheken (numpy, scikit, pandas) aus allen verfügbaren Quellen beziehen. Die meisten findet man natürlich über eine Suche im Internet, oder durch die Nutzung von KI chat-Systemen selbst.\n",
    "Ein gutes Tutorial für den Start findet sich  z.B. hier: https://www.python-kurs.eu/numerisches_programmieren_in_Python.php"
   ]
  },
  {
   "cell_type": "markdown",
   "metadata": {},
   "source": [
    "## Phase I: Wiederholung zu Ähnlichkeiten"
   ]
  },
  {
   "cell_type": "markdown",
   "metadata": {},
   "source": [
    "Der Grad der Ähnlichkeit zwischen zwei oder mehr Datensätzen ist eine wertvolle Information, die zur automatischen Entscheidungsfindung genutzt werden kann. Angewandt wird dies z.B. bei Empfehlungssystemen, der Textanalyse, sowie der Klassifikation.\n",
    "\n",
    "Die Nutzung von Ähnlichkeiten ermöglicht es, Entscheidungen auf Basis von Vorhersagen und Mustern zu treffen, ohne dass explizite Regeln vorgegeben werden müssen, was die Entscheidungsfindung effizient und skalierbar macht.\n",
    "\n",
    "Wir bestimmen die Ähnlichkeit zwischen 2 Datensätzen mittels *Kosinus-Ähnlichkeit*."
   ]
  },
  {
   "cell_type": "markdown",
   "metadata": {},
   "source": [
    "### Was ist die Kosinus-Ähnlichkeit?\n",
    "\n",
    "Die *Kosinus-Ähnlichkeit* ist ein Maß dafür, wie ähnlich sich zwei Vektoren sind. Sie ist eng verwandt mit dem Skalarprodukt, hat jedoch den Vorteil, dass die Längen der Vektoren nicht in die Berechnung der Ähnlichkeit mit einfließen.\n",
    "\n",
    "#### Wiederholung Skalarprodukt:\n",
    "Das **Skalarprodukt** zweier Vektoren $\\mathbf{a} = (a_1, a_2, \\dots, a_n)$ und $\\mathbf{b} = (b_1, b_2, \\dots, b_n)$ wird folgendermaßen berechnet:\n",
    "\n",
    "$$\n",
    "\\mathbf{a} \\cdot \\mathbf{b} = a_1 \\cdot b_1 + a_2 \\cdot b_2 + \\dots + a_n \\cdot b_n\n",
    "$$\n",
    "\n",
    "Das Ergebnis ist eine Zahl (ein Skalar).\n",
    "\n",
    "##### Beispiel\n",
    "$$\n",
    "\\begin{pmatrix} \n",
    "\\textcolor{red}{3} & \\textcolor{green}{2} & \\textcolor{gray}{1}\n",
    "\\end{pmatrix}\n",
    "\n",
    "\\cdot\n",
    "\n",
    "\\begin{pmatrix} \n",
    "\\textcolor{red}{1}  \\\\\n",
    "\\textcolor{green}{0}  \\\\\n",
    "\\textcolor{gray}{4} \n",
    "\\end{pmatrix}\n",
    "\n",
    "=\n",
    "\n",
    "\\textcolor{red}{3 \\cdot 1} + \\textcolor{green}{2 \\cdot 0} + \\textcolor{gray}{1 \\cdot 4} \n",
    "\n",
    "=\n",
    "\n",
    "\\textcolor{yellow}{7}\n",
    "$$\n",
    "\n",
    "Das Skalarprodukt (auch inneres Produkt oder Punkt-Produkt genannt) zweier Vektoren $ \\mathbf{a} $ und $ \\mathbf{b} $ ist eng mit dem Winkel $ \\theta $ zwischen diesen Vektoren verknüpft. Der mathematische Zusammenhang lautet:\n",
    "\n",
    "$$\n",
    "\\mathbf{a} \\cdot \\mathbf{b} = |\\mathbf{a}| |\\mathbf{b}| \\cos(\\theta)\n",
    "$$\n",
    "\n",
    "- $ \\mathbf{a} \\cdot \\mathbf{b} $: Das Skalarprodukt der Vektoren $ \\mathbf{a} $ und $ \\mathbf{b} $.\n",
    "- $ |\\mathbf{a}| $ und $ |\\mathbf{b}| $: Die Längen (Beträge) der Vektoren $ \\mathbf{a} $ und $ \\mathbf{b} $.\n",
    "- $ \\theta $: Der Winkel zwischen den Vektoren $ \\mathbf{a} $ und $ \\mathbf{b} $.\n",
    "\n",
    "Interpretation des Skalarprodukts:\n",
    "1. **Positives Skalarprodukt** ($ \\mathbf{a} \\cdot \\mathbf{b} > 0 $): Der Winkel $ \\theta $ liegt zwischen 0° und 90° (Vektoren zeigen in ähnliche Richtungen).\n",
    "2. **Null Skalarprodukt** ($ \\mathbf{a} \\cdot \\mathbf{b} = 0 $): Der Winkel $ \\theta $ beträgt 90° (die Vektoren sind orthogonal, also senkrecht zueinander).\n",
    "3. **Negatives Skalarprodukt** ($ \\mathbf{a} \\cdot \\mathbf{b} < 0 $): Der Winkel $ \\theta $ liegt zwischen 90° und 180° (Vektoren zeigen in entgegengesetzte Richtungen).\n",
    "\n",
    "#### Die Kosinus-Ähnlichkeit\n",
    "\n",
    "Die **Kosinus-Ähnlichkeit** wird wie folgt berechnet:\n",
    "\n",
    "$$\n",
    "\\text{Kosinus-Ähnlichkeit}(\\mathbf{a}, \\mathbf{b}) = \\frac{\\mathbf{a} \\cdot \\mathbf{b}} {|\\mathbf{a}| \\cdot |\\mathbf{b}|} = \\cos(\\theta)\n",
    "$$\n",
    "\n",
    " Interpretation der Kosinus-Ähnlichkeit:\n",
    "1. $\\quad 0 < \\text{Kosinus-Ähnlichkeit} <= 1$: Die Vektoren zeigen in exakt die gleiche Richtung (hohe Ähnlichkeit). Je näher der Wert an $1$ ist, desto höher ist die Änlichkeit.\n",
    "2. $\\quad \\text{Kosinus-Ähnlichkeit} = 0$: Die Vektoren sind orthogonal (keine Ähnlichkeit).  \n",
    "3. $\\quad -1 <= \\text{Kosinus-Ähnlichkeit} < 0$: Die Vektoren zeigen in entgegengesetzte Richtungen (sehr selten in der Praxis).\n"
   ]
  },
  {
   "cell_type": "markdown",
   "metadata": {},
   "source": [
    "### Wiederholung der Aufgabe: Nutzer mit gleichen Interessen finden\n",
    "\n",
    " Rudolph besucht gerade die Startseite eines Streamingdienstes für Filme. An dieser Stelle möchte der Streamingdienst Rudolph Vorschläge machen für Filme, die andere Nutzer mit gleichen Interessen wie Rudolph geguckt haben.\n",
    " Der Streamingdienst greift dazu auf die Bewertungen seiner Nutzer zu Filmen zurück. Er vergleicht Rudolphs Filmbewertungen mit denen der anderen Nutzer, und findet darüber heraus, welcher andere Nutzer einen filmischen Geschmack hat, der am besten zu dem von Rudolph passt. Daraufhin schlägt der Streamingdienst Rudolph Filme vor, die der zu ihm passende Nutzer schon gesehen hat, Rudolph aber noch nicht. \n",
    "\n",
    "Was wird hier verglichen: Jeder Nutzer hat einen Vektor bestehend aus seinen Filmbewertungen. Jeder Vektor repräsentiert das Filmprofil eines Nutzers. Diese Profile (Vektoren) können miteinander verglichen werden.\n",
    "Übernehmen Sie die unten angegebenen Sterne-Bewertungen von Nutzern für Filme in Python. Jeder Nutzer bekommt somit sein Bewertungsprofil als Vektor. Bestimmen Sie die Ähnlichkeiten des Profils von Rudolph mit den Profilen aller anderen User. Nutzen Sie dazu die Kosinus-Ähnlichkeit, die in der Bibliothek sklearn zur Verfügung gestellt wird.\n",
    "\n",
    "Welcher andere Nutzer hat einen Filmgeschmack, der Rudolph am ähnlichsten ist?\n",
    "\n",
    "|                           | Stirb langsam | Schöne Bescherung | The Beatles: Get Back (Doku) | Mitten ins Herz | O Brother, Where Art Thou? |\n",
    "|---------------------------|---------------|---------------|---------------------|-----------------|----------------------------|\n",
    "| User 0                      | 3             | 1             | 1                   | 4               | 3                          |\n",
    "| User 1                      | 3             | 2             | 5                   | 5               | 5                          |\n",
    "| User 2                      | 1             | 1             | 5                   | 5               | 4                          |\n",
    "| User 3                      | 4             | 4             | 1                   | 1               | 0                          |\n",
    "| User 4                      | 0             | 1             | 5                   | 0               | 1                          |\n",
    "| User 5                      | 4             | 5             | 5                   | 1               | 1                          |\n",
    "| Rudolph                    | 3             | 4             | 4                   | 2               | 1                          |\n",
    "\n"
   ]
  },
  {
   "cell_type": "code",
   "execution_count": null,
   "metadata": {},
   "outputs": [],
   "source": [
    "# Bibliotheken importieren\n",
    "\n",
    "import numpy as np\n",
    "from sklearn.metrics.pairwise import cosine_similarity\n",
    "\n",
    "# Filme:\n",
    "# 0: Stirb langsam\n",
    "# 1: Schöne Bescherung\n",
    "# 2: The Beatles: Get Back (Doku)\n",
    "# 3: Mitten ins Herz\n",
    "# 4: O Brother, Where Art Thou\n",
    "\n",
    "# Bewertungen: 0 bis 5 Sterne\n",
    "\n",
    "# Bewertungen in Python übernehmen\n",
    "\n",
    "BewertungsDB = np.array(\n",
    "    [[3, 1, 1, 4, 3],\n",
    "    [3, 2, 5, 5, 5],\n",
    "    [1, 1, 5, 5, 4],\n",
    "    [4, 4, 1, 1, 0],\n",
    "    [0, 1, 5, 0, 1],\n",
    "    [4, 5, 5, 1, 1]]\n",
    ")\n",
    "\n",
    "BewertungenRudolph = np.array([3, 4, 4, 2, 1])\n",
    "\n",
    "Vergleichsresultate = np.zeros(6)\n",
    "\n",
    "# Das Bewertungsprofil jeden users mit dem von Rudolph vergleichen: Mittels Kosinus-Ähnlichkeit\n",
    "for person in range(6):\n",
    "    Vergleich = cosine_similarity(BewertungsDB[person].reshape(1,-1), BewertungenRudolph.reshape(1,-1))\n",
    "    Vergleichsresultate[person] = Vergleich[0][0]\n",
    "\n",
    "VergleichPy = cosine_similarity(BewertungsDB, BewertungenRudolph.reshape(1,-1))\n",
    "#  Ausgabe\n",
    "print (Vergleichsresultate)\n",
    "print (VergleichPy)"
   ]
  },
  {
   "cell_type": "markdown",
   "metadata": {},
   "source": [
    "Die Nutzung von Ähnlichkeiten ermöglicht es, Entscheidungen auf Basis von Vorhersagen und Mustern zu treffen, ohne dass explizite Regeln vorgegeben werden müssen, was die Entscheidungsfindung effizient und skalierbar macht.\n",
    "\n",
    "Was heißt das?\n",
    "\n",
    "\n",
    "1. Entscheidungen auf Basis von Vorhersagen und Mustern treffen:\n",
    "\n",
    "    Die erkannten Ähnlichkeiten repräsentieren Muster (Gemeinsamkeiten). Sie werden dazu genutzt, Vorhersagen zu machen. Z.B. kann ein Algorithmus, der Kundenprofile analysiert, Aussagen darüber treffen welche Produkte ein Kunde interessant finden könnte.\n",
    "\n",
    "2. Ohne dass explizite Regeln vorgegeben werden müssen:\n",
    "\n",
    "    Im Gegensatz zu klassischen Systemen, die auf handgeschriebenen Regeln basieren (z. B. \"Wenn A, dann B\"), lernt das System die Muster aus den Daten selbst.\n",
    "\n",
    "3. Effizient und skalierbar:\n",
    "\n",
    "    Dieser Ansatz kann große Mengen an Daten bewältigen, da keine ständige Anpassung von Regeln erforderlich ist. Neue Daten können einfach integriert werden, und das System passt sich an, ohne dass ein Mensch eingreifen muss. Dadurch wird die Entscheidungsfindung schneller (effizient) und kann auf größere Datenmengen oder komplexere Probleme angewendet werden (skalierbar).\n",
    "\n",
    "$\\rightarrow$ Der Satz beschreibt ein grundlegendes Prinzip in der künstlichen Intelligenz und im maschinellen Lernen!"
   ]
  },
  {
   "cell_type": "markdown",
   "metadata": {},
   "source": [
    "### 1. Aufgabe: Ähnlichkeit zwischen Texten bestimmen\n",
    "\n",
    "Ein Technikkonzern hat eine neue Smartwatch auf den Markt gebracht. Kurz nach Markteinführung sammelt er große Mengen an Feedback und Meinungen, die Käufer an verschiedenen Stellen online veröffentlicht haben. Diese Feedback-Texte werden nun bezüglich ihrer Ähnlichkeit zueinander untersucht. Mit dieser Methode gruppiert der Konzern ähnliche Texte  und findet \"Ausreißertexte\" mit Meinungen, die hervorstechen.\n",
    "\n",
    "Erfassen Sie unten stehende Feedbacktexte in einer Liste in Python. Damit Sie mit den Texten \"rechnen\" können, müssen sie  in numerische Werte übersetzt werden. Benutzen Sie dazu den \"TfidfVectorizer\" aus der sklearn Bibliothek. Dieses tool wandelt einen Text in einen numerischen Vektor um. Nach dessen Anwendung können Sie die Cosinus-Ähnlichkeit der Vektoren (und damit der zugehörigen Texte) zueinander berechnen. \n",
    "\n",
    "Lassen Sie sich eine \"Ähnlichkeitsmatrix\" ausgeben, die die Werte der Kosinus-Ähnlichkeit zwischen allen Textpaaren enthält.\n",
    "Lassen Sie sich zusätzlich diejenigen Textpaare explizit ausgeben, deren Ähnlichkeitswert unter 0.1 liegt."
   ]
  },
  {
   "cell_type": "markdown",
   "metadata": {},
   "source": [
    "Sie können folgende 10 Feedback-Texte nutzen (Doppelklick in diese Zelle, um die Texte in passendem copy-paste Format zu sehen):\n",
    "\n",
    "\"Stylisch und robust, mit smarter Funktionalität, wasserdichtem Design und einem langlebigen Akku – perfekt für Alltag und Sport.\",\n",
    "\"Elegant, komfortabel und wasserdicht, mit smarten Features und einem langlebigen Akku, ideal für Freizeit und Beruf.\",\n",
    "\"Innovativ und stilvoll, mit robuster Technik, smarter Funktionalität und einer Akkulaufzeit, die dich durch den Tag begleitet.\",\n",
    "\"Präzise, smart und wasserdicht, mit einem langlebigen Akku und vielseitigen Anwendungen – entwickelt für maximale Effizienz.\",\n",
    "\"Diese Smartwatch ist robust und wasserdicht, kombiniert stylisches Design mit smarter Technik und beeindruckender Akkulaufzeit.\",\n",
    "\"Komfortabel und präzise, mit smarten Funktionen, einem langlebigen Akku, und wasserdicht, – perfekt für jeden Tag.\",\n",
    "\"Stilvoll, perfekte Smartwatch, robust und wasserdicht, mit vielseitigen Funktionen, smarten Features und einer zuverlässigen Akkulaufzeit.\",\n",
    "\"Kombination aus smarten Funktionen, wasserdicht und mit vielsitigen Anwendungen, robust und langlebig - für jeden Tag geeignet.\",\n",
    "\"Aussehen veraltet, mangelhafte Verarbeitung, leider schnell leer, nur eingeschränkte Funktionen, langweilig – deshalb enttäuschend für den Alltag.\",\n",
    "\"Langweilig und enttäuschend, keine neuen Funktionen, Aussehen veraltet, leider nichts für mich\""
   ]
  },
  {
   "cell_type": "code",
   "execution_count": 13,
   "metadata": {},
   "outputs": [],
   "source": [
    "# Bibliotheken importieren\n",
    "from sklearn.feature_extraction.text import TfidfVectorizer\n",
    "\n",
    "# Feedback-Texte in Python übernehmen\n",
    "TexteDB = [ \"Stylisch und robust, mit smarter Funktionalität, wasserdichtem Design und einem langlebigen Akku – perfekt für Alltag und Sport.\",\n",
    "            \"Elegant, komfortabel und wasserdicht, mit smarten Features und einem langlebigen Akku, ideal für Freizeit und Beruf.\",\n",
    "            \"Innovativ und stilvoll, mit robuster Technik, smarter Funktionalität und einer Akkulaufzeit, die dich durch den Tag begleitet.\",\n",
    "            \"Präzise, smart und wasserdicht, mit einem langlebigen Akku und vielseitigen Anwendungen – entwickelt für maximale Effizienz.\",\n",
    "            \"Diese Smartwatch ist robust und wasserdicht, kombiniert stylisches Design mit smarter Technik und beeindruckender Akkulaufzeit.\",\n",
    "            \"Komfortabel und präzise, mit smarten Funktionen, einem langlebigen Akku, und wasserdicht, – perfekt für jeden Tag.\",\n",
    "            \"Stilvoll, perfekte Smartwatch, robust und wasserdicht, mit vielseitigen Funktionen, smarten Features und einer zuverlässigen Akkulaufzeit.\",\n",
    "            \"Kombination aus smarten Funktionen, wasserdicht und mit vielsitigen Anwendungen, robust und langlebig - für jeden Tag geeignet.\",\n",
    "            \"Aussehen veraltet, mangelhafte Verarbeitung, leider schnell leer, nur eingeschränkte Funktionen, langweilig – deshalb enttäuschend für den Alltag.\",\n",
    "            \"Langweilig und enttäuschend, keine neuen Funktionen, Aussehen veraltet, leider nichts für mich\"]\n",
    "\n",
    "# TF-IDF-Berechnung\n",
    "vectorizer = TfidfVectorizer()\n",
    "TexteVektor = vectorizer.fit_transform(TexteDB)\n",
    "\n",
    "# Kosinus-Ähnlichkeit aller Textpaare berechnen\n",
    "Vergleich = cosine_similarity(TexteVektor)\n",
    "\n",
    "# Ausgabe der Ähnlichkeitsmatrix\n",
    "print (Vergleich)\n",
    "\n",
    "# Ausgabe der Textpaare, deren Kosinus-Ähnlichkeit < 0.1 ist.\n",
    "for row in range(len(Vergleich)):\n",
    "    for element in range(row):\n",
    "        if Vergleich[row][element] < 0.1:\n",
    "            print(Vergleich[row][element])\n",
    "            print(row, \": \", TexteDB[row])\n",
    "            print(element, \": \", TexteDB[element])"
   ]
  },
  {
   "cell_type": "markdown",
   "metadata": {},
   "source": [
    "### 2. Aufgabe: Weiterführung\n",
    "\n",
    "Wiederholen Sie die vorangegangene Aufgabe. Arbeiten Sie dabei mit kurzen, selbsterstellten Texten und beobachten Sie, wie sich die Ähnlichkeiten der Texte ändert, wenn der Inhalt eines oder mehrerer Texte geändert wird bzw. neue Texte hinzukommen oder bestehende Texte wegfallen.\n"
   ]
  },
  {
   "cell_type": "code",
   "execution_count": null,
   "metadata": {},
   "outputs": [],
   "source": [
    "# Bibliotheken importieren\n",
    "from sklearn.feature_extraction.text import TfidfVectorizer\n",
    "\n",
    "# Feedback-Texte in Python übernehmen\n",
    "TexteDB = [ \"Stylisch und robust, mit smarter Funktionalität, wasserdichtem Design und einem langlebigen Akku – perfekt für Alltag und Sport.\",\n",
    "            \"Elegant, komfortabel und wasserdicht, mit smarten Features und einem langlebigen Akku, ideal für Freizeit und Beruf.\",\n",
    "            \"Innovativ und stilvoll, mit robuster Technik, smarter Funktionalität und einer Akkulaufzeit, die dich durch den Tag begleitet.\",\n",
    "            \"Präzise, smart und wasserdicht, mit einem langlebigen Akku und vielseitigen Anwendungen – entwickelt für maximale Effizienz.\",\n",
    "            \"Diese Smartwatch ist robust und wasserdicht, kombiniert stylisches Design mit smarter Technik und beeindruckender Akkulaufzeit.\",\n",
    "            \"Komfortabel und präzise, mit smarten Funktionen, einem langlebigen Akku, und wasserdicht, – perfekt für jeden Tag.\",\n",
    "            \"Stilvoll, perfekte Smartwatch, robust und wasserdicht, mit vielseitigen Funktionen, smarten Features und einer zuverlässigen Akkulaufzeit.\",\n",
    "            \"Kombination aus smarten Funktionen, wasserdicht und mit vielsitigen Anwendungen, robust und langlebig - für jeden Tag geeignet.\",\n",
    "            \"Aussehen veraltet, mangelhafte Verarbeitung, leider schnell leer, nur eingeschränkte Funktionen, langweilig – deshalb enttäuschend für den Alltag.\",\n",
    "            \"Langweilig und enttäuschend, keine neuen Funktionen, Aussehen veraltet, leider nichts für mich\",\n",
    "            \"Der Kartoffelsalat meiner Oma ist besser und man weiß immer was drin ist.\"]\n",
    "\n",
    "# TF-IDF-Berechnung\n",
    "vectorizer = TfidfVectorizer()\n",
    "TexteVektor = vectorizer.fit_transform(TexteDB)\n",
    "\n",
    "# Kosinus-Ähnlichkeit aller Textpaare berechnen\n",
    "Vergleich = cosine_similarity(TexteVektor)\n",
    "\n",
    "# Ausgabe der Ähnlichkeitsmatrix\n",
    "#print (Vergleich)\n",
    "\n",
    "# Ausgabe der Textpaare, deren Kosinus-Ähnlichkeit < 0.1 ist.\n",
    "for row in range(len(Vergleich)):\n",
    "    for element in range(row):\n",
    "        if Vergleich[row][element] < 0.1:\n",
    "            print(Vergleich[row][element])\n",
    "            print(row, \": \", TexteDB[row])\n",
    "            print(element, \": \", TexteDB[element])"
   ]
  },
  {
   "cell_type": "markdown",
   "metadata": {},
   "source": [
    "### \"TfidfVectorizer\""
   ]
  },
  {
   "cell_type": "markdown",
   "metadata": {},
   "source": [
    "Der **TfidfVectorizer** ist ein Tool aus der Bibliothek scikit-learn. Es wandelt Textdaten in numerische Werte um, um sie für maschinelles Lernen nutzbar zu machen. Es analysiert dabei die Häufigkeit von Wörtern in einem Text (*Term Frequency*, *TF*) und berücksichtigt, wie wichtig diese Wörter im Vergleich zu anderen Texten sind (*Inverse Document Frequency*, *IDF*). Wörter, die in vielen Texten häufig vorkommen (z. B. \"und\", \"das\"), erhalten weniger Gewicht, während spezifische, seltene Wörter stärker betont werden. So entsteht eine gewichtete Repräsentation, die den Inhalt eines Textes besser beschreibt."
   ]
  },
  {
   "cell_type": "markdown",
   "metadata": {},
   "source": [
    "##### 1. **Term Frequency (TF)**\n",
    "Die Term Frequency (TF) gibt an, wie oft ein Wort \\( w \\) in einem Dokument \\( d \\) vorkommt, relativ zur Gesamtanzahl der Wörter im Dokument:\n",
    "\n",
    "$$\n",
    "\\text{TF}(w, d) = \\frac{\\text{Anzahl der Vorkommen von } w \\text{ in } d}{\\text{Gesamtanzahl der Wörter in } d}\n",
    "$$\n",
    "\n",
    "\n",
    "\n",
    "##### 2. **Inverse Document Frequency (IDF)**\n",
    "Die Inverse Document Frequency (IDF) bewertet, wie \"wichtig\" ein Wort ist, indem seltener vorkommende Wörter höher gewichtet werden. Sie wird berechnet als:\n",
    "\n",
    "$$\n",
    "\\text{IDF}(w) = \\ln \\left( \\frac{N + 1}{\\text{DF}(w) + 1} \\right)   + 1\n",
    "$$\n",
    "\n",
    "Dabei ist:\n",
    "- $N $: Anzahl der Dokumente insgesamt.\n",
    "- $\\text{DF}(w)$: Anzahl der Dokumente, in denen das Wort $w $ vorkommt.\n",
    "- Der Term $+1$ im Nenner verhindert Division durch Null.\n",
    "\n",
    "\n",
    "\n",
    "##### 3. **TF-IDF**\n",
    "Die TF-IDF-Kombination berechnet die endgültige Gewichtung eines Wortes $ w $ in einem Dokument $ d $:\n",
    "\n",
    "$$\n",
    "\\text{TF-IDF}(w, d) = \\text{TF}(w, d) \\cdot \\text{IDF}(w)\n",
    "$$\n",
    "\n",
    "\n",
    "\n",
    "##### Ergebnis\n",
    "- **Häufig vorkommende Wörter in einem Dokument (hoher TF)** erhalten ein hohes Gewicht.\n",
    "- **Wörter, die in vielen Dokumenten erscheinen (hoher DF)**, werden abgewertet.\n",
    "- **Spezifische und seltene Wörter (hoher TF, niedriger DF)** erhalten die höchste Gewichtung.\n",
    "\n",
    "Das Ergebnis ist eine **gewichtete Matrix**, die jedes Dokument numerisch darstellt und für maschinelles Lernen verwendet werden kann.\n"
   ]
  },
  {
   "cell_type": "markdown",
   "metadata": {},
   "source": [
    "### 3. Aufgabe: TF-IDF Verstehen\n",
    "\n",
    "Erstellen Sie eine kleine Liste mit kurzen Texten in Python. Berechnen Sie die *TF-IDF* Werte für dieser Textliste und geben Sie sie aus. Wie verändern sich die Werte, wenn der Inhalt eines oder mehrerer Texte geändert wird bzw. neue Texte hinzukommen oder bestehende Texte wegfallen? "
   ]
  },
  {
   "cell_type": "code",
   "execution_count": null,
   "metadata": {},
   "outputs": [],
   "source": [
    "# Bibliotheken importieren\n",
    "\n",
    "# Beispiel-Dokumente\n",
    "\n",
    "# TF-IDF-Matrix berechnen\n",
    "\n",
    "# TF-IDF-Werte ausgeben\n"
   ]
  },
  {
   "cell_type": "markdown",
   "metadata": {},
   "source": [
    "## Phase II: Weiterführung"
   ]
  },
  {
   "cell_type": "markdown",
   "metadata": {},
   "source": [
    "Zum Einstieg in das Themas **GUI-Programmierung** wurde eine Benutzeroberfläche programmiert, die die Funktionen eines einfachen Taschenrechners enthielt.\n",
    "\n",
    "Siehe: https://lms2.schulcampus-rlp.de/SN-62808/course/view.php?id=453&section=2\n",
    "\n",
    "Zur Vertiefung, wie die GUI Programmierung aufgebaut ist, erweitern wir den Taschenrechner:"
   ]
  },
  {
   "cell_type": "markdown",
   "metadata": {},
   "source": [
    "### 4. Aufgabe: Taschenrechner GUI mit Verlaufsanzeige\n",
    "\n",
    "Fügen Sie der Taschenrechner GUI ein \"Verlauf(History) Feld\" hinzu. In diesem Feld sollen vergangene, ausgeführte Rechenanweisungen stehen.\n",
    "Versuchen Sie zu erst, ein solches Feld hinzuzufügen, indem Sie sich den grundsätzlichen Aufbau der GUI-Programmierung des Taschenrechners vom letzten mal anschauen und nachvollziehen. Recherchieren Sie dann, wie neue Felder und Text darin hinzugefügt werden. Nehmen Sie gerne als Ausgangspunkt Ihre eigene Taschenrechner Implementierung vom letzten mal. Ansonsten findet sich auch das Minimalbeispiel der Taschenrechner GUI in o.a. Link, unter \"*From-PySide6-Simple*\". Über Details der Verlaufsanzeige, wie z.B. Position, max. Anzahl an Einträgen, etc., können Sie selbst entscheiden."
   ]
  }
 ],
 "metadata": {
  "kernelspec": {
   "display_name": "Python 3",
   "language": "python",
   "name": "python3"
  },
  "language_info": {
   "codemirror_mode": {
    "name": "ipython",
    "version": 3
   },
   "file_extension": ".py",
   "mimetype": "text/x-python",
   "name": "python",
   "nbconvert_exporter": "python",
   "pygments_lexer": "ipython3",
   "version": "3.12.5"
  }
 },
 "nbformat": 4,
 "nbformat_minor": 2
}
