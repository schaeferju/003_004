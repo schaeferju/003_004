{
 "cells": [
  {
   "cell_type": "markdown",
   "metadata": {},
   "source": [
    "# 20.03.2025 - Polymorphismus und Mehrfachvererbung \n",
    "---\n",
    "Mit Polymorphismus und Mehrfachvererbung betrachten wir tiefergehende Mechanismen der objektorientierten Programmierung. Polymorphismus bezeichnet die Möglichkeit, dass die gleiche Methode/Operator verschiedenformige Funtionsweisen haben kann, abhängig vom Objekt, auf das sie angewandt werden.\n",
    "Die Mehrfachvererbung ermöglicht es die Situation abzubilden, dass eine Klasse von meh als einer Basisklasse erbt.\n",
    "Zusammen angewendet sind Polymorphismus und Mehrfachvererbung starke Modellierungs- und Programmierwerkzeuge. Ihr gemeinsamer Einsatz erfordert jedoch, dass man sich der Zusammenhänge beider Konzepte bewusst ist.\n",
    "\n",
    "* Zur Bearbeitung der Aufgaben können Sie benötigte Informationen zu Python-Befehlen und zu KI relevanten Bibliotheken (numpy, scikit, pandas) aus allen verfügbaren Quellen beziehen. Die meisten findet man natürlich über eine Suche im Internet, oder durch die Nutzung von KI chat-Systemen selbst.\n",
    "Ein gutes Tutorial für den Start findet sich  z.B. hier: https://www.python-kurs.eu/numerisches_programmieren_in_Python.php"
   ]
  },
  {
   "cell_type": "markdown",
   "metadata": {},
   "source": [
    "## Phase I - Klassendiagramme"
   ]
  },
  {
   "cell_type": "markdown",
   "metadata": {},
   "source": [
    "### Vorstellung ihrer Klassendiagramme"
   ]
  },
  {
   "cell_type": "markdown",
   "metadata": {},
   "source": [
    "## Phase II - Polymorphismus"
   ]
  },
  {
   "cell_type": "markdown",
   "metadata": {},
   "source": [
    "Das Wort *Polymorphismus* bedeutet \"viele Formen\" und bezieht sich in der Programmierung auf Methoden/Funktionen/Operatoren mit demselben Namen, die auf unterschiedlichen Objekten oder Klassen ausgeführt werden können.\n",
    "\n",
    "Ein typisches Beispiel für Polymorphismus ist, wenn eine Methode wie speak() in verschiedenen Klassen definiert ist (z. B. Hund, Katze), aber jede Klasse die Methode unterschiedlich implementiert. Wenn dann auf die speak()-Methode zugegriffen wird, ist es egal, ob das Objekt ein Hund oder eine Katze ist – das richtige Verhalten wird zur Laufzeit bestimmt."
   ]
  },
  {
   "cell_type": "markdown",
   "metadata": {},
   "source": [
    "#### Variante 1 - Polymorphismus bei abgeleiteten Klassen (*Überschreiben von Methoden*)"
   ]
  },
  {
   "cell_type": "markdown",
   "metadata": {},
   "source": [
    "<img src=\"./PythonGrundlagen_017_Bilder/Polymorphismus_Ueberschreiben.drawio.png\" alt=\"Diagramm\" width=\"600\" />"
   ]
  },
  {
   "cell_type": "code",
   "execution_count": null,
   "metadata": {},
   "outputs": [],
   "source": [
    "class Fahrzeug:\n",
    "  def __init__(self, marke, modell):\n",
    "    self.marke = marke\n",
    "    self.modell = modell\n",
    "\n",
    "  def bewegen(self):\n",
    "    print(\"Ich bewege mich fort!\")\n",
    "\n",
    "class ElektroFahrzeug(Fahrzeug):\n",
    "  pass                              # keine weitere Spezifizierung der Klasse\n",
    "\n",
    "class Boot(Fahrzeug):\n",
    "  def bewegen(self):\n",
    "    print(\"Ich segle!\")\n",
    "\n",
    "class Flugzeug(Fahrzeug):\n",
    "  def bewegen(self):\n",
    "    print(\"Ich fliege!\")\n",
    "\n",
    "\n",
    "\n",
    "eAuto1 = ElektroFahrzeug(\"Toyota\", \"Prius\")         # Erstelle ein Elektrofahrzeug-Objekt\n",
    "boot1 = Boot(\"Ibiza\", \"Touring 20\")                 # Erstelle ein Boot-Objekt\n",
    "flugzeug1 = Flugzeug(\"Boeing\", \"747\")               # Erstelle ein Flugzeug-Objekt\n",
    "\n",
    "for x in (eAuto1, boot1, flugzeug1):\n",
    "  print(f\"{x.marke} {x.modell}:\")\n",
    "  x.bewegen()\n",
    "  print()\n"
   ]
  },
  {
   "cell_type": "markdown",
   "metadata": {},
   "source": [
    "#### Variante 2 - Polymorphismus bei unabhängigen Klassen (*Duck Typing*)"
   ]
  },
  {
   "cell_type": "markdown",
   "metadata": {},
   "source": [
    "<img src=\"./PythonGrundlagen_017_Bilder/Polymorphismus_DuckType.drawio.png\" alt=\"Diagramm\" width=\"500\" />"
   ]
  },
  {
   "cell_type": "code",
   "execution_count": null,
   "metadata": {},
   "outputs": [],
   "source": [
    "class Ente:\n",
    "    def schwimmen(self):\n",
    "        print(\"Die Ente schwimmt auf dem Wasser.\")\n",
    "\n",
    "class Albatros:\n",
    "    def schwimmen(self):\n",
    "        print(\"Der Albatros schwimmt auf dem Wasser.\")\n",
    "\n",
    "\n",
    "ente1 = Ente()\n",
    "albatros1 = Albatros()\n",
    "\n",
    "for x in (ente1, albatros1):\n",
    "    x.schwimmen()\n",
    "\n",
    "\n",
    "# def lasseTierSchwimmen(tier):\n",
    "#     tier.schwimmen()\n",
    "\n",
    "# lasseTierSchwimmen(ente1)\n",
    "# lasseTierSchwimmen(albatros1)"
   ]
  },
  {
   "cell_type": "markdown",
   "metadata": {},
   "source": [
    "### 1. Aufgabe\n",
    "\n",
    "Bei welchen Funktionen/Methoden, die standardmäßig von Python oder Python-Modulen zur Verfügung gestellt werden, ist Duck-Typing bereits umgesetzt? Schreiben Sie einen kleinen Code Abschnitt zur Demonstration."
   ]
  },
  {
   "cell_type": "code",
   "execution_count": null,
   "metadata": {},
   "outputs": [],
   "source": []
  },
  {
   "cell_type": "code",
   "execution_count": null,
   "metadata": {},
   "outputs": [],
   "source": [
    "'''\n",
    "print()\n",
    "+, -, *, /, //, %, **\n",
    "len()\n",
    "in, not in'\n",
    "'''"
   ]
  },
  {
   "cell_type": "markdown",
   "metadata": {},
   "source": [
    "### 2. Aufgabe\n",
    "Denken Sie sich für das Thema Polymorphismus einen eigenen Anwendungsfall aus - entweder für Polymorphismus beim Vererben, oder für Duck-Typing Polymorphismus.\n",
    "1. Entwerfen Sie ein Klassendiagramm zu Ihrem Anwendungsfall\n",
    "2. Implementieren Sie die Klassen in Python. führen Sie im Hauptprogramm die relevanten Methoden beispielhaft aus."
   ]
  },
  {
   "cell_type": "markdown",
   "metadata": {},
   "source": [
    "### Überschreiben 2.0\n",
    "\n",
    "- Auch Attribute können beim Vererben in der abgeleiteten Klasse überschrieben werden. Dies macht natürlich nur dann Sinn, wenn auch der Konstruktor der Basisklasse aufgerufen wird.\n",
    "- Operatoren können ebenso in abgeleiteten Klassen überschrieben werden."
   ]
  },
  {
   "cell_type": "markdown",
   "metadata": {},
   "source": [
    "## Phase III - Mehrfachvererbung"
   ]
  },
  {
   "cell_type": "markdown",
   "metadata": {},
   "source": [
    "In der objektorientierten Programmierung ermöglicht die *Mehrfachvererbung* einer Klasse, von mehr als einer Basisklasse/Elternklasse zu erben. Das bedeutet, dass eine Klasse die Eigenschaften und Methoden von *mehreren* Basisklassen übernehmen kann. Dies bietet eine flexible Möglichkeit, verschiedene Funktionalitäten zu kombinieren und wiederzuverwenden.\n",
    "\n",
    "In Python wird Mehrfachvererbung einfach durch die Angabe *mehrerer Basisklassen* in der Klassendeklaration erreicht. "
   ]
  },
  {
   "cell_type": "markdown",
   "metadata": {},
   "source": [
    "<img src=\"./PythonGrundlagen_017_Bilder/Mehrfachvererbung_PlugInHybrid.drawio.png\" alt=\"Diagramm\" width=\"600\" />"
   ]
  },
  {
   "cell_type": "markdown",
   "metadata": {},
   "source": [
    "### 3. Aufgabe - Eigener Anwendungsfall zur Mehrfachvererbung\n",
    "\n",
    "Überlegen Sie sich einen weiteren Anwendungsfall, der gut durch Mehrfachvererbung abgebildet werden kann. \n",
    "\n",
    "1. Entwerfen Sie zunächst ein Klassendiagramm zu Ihrem Anwendungsfall.\n",
    "2. Programmieren Sie dieses System als Klassen in Python und nutzen Sie dabei das Prinzip der Mehrfachvererbung. \n",
    "   Vererben und benutzen Sie in einem ersten Schritt nur die *Methoden* der Basisklassen. Testen Sie Ihre Klassen im Hauptprogramm, indem Sie die vererbten Methoden aufrufen.\n",
    "3. Als zweiter Schritt sollen auch Attribute der Basisklassen vererbt und in der abgeleiteten Klasse benutzt werden.\n"
   ]
  },
  {
   "cell_type": "code",
   "execution_count": null,
   "metadata": {},
   "outputs": [],
   "source": [
    "# Klassendefinitionen\n",
    "\n",
    "# Hauptptprogramm\n"
   ]
  },
  {
   "cell_type": "markdown",
   "metadata": {},
   "source": [
    "#### Der Vererbungsbaum"
   ]
  },
  {
   "cell_type": "markdown",
   "metadata": {},
   "source": [
    "Ein *Vererbungsbaum* ist eine visuelle Darstellung der Vererbungshierarchie in der objektorientierten Programmierung. Die Vererbungshierarchie zeigt, wie Klassen voneinander abgeleitet werden (d.h., wie sie miteinander verwandt sind). "
   ]
  },
  {
   "cell_type": "markdown",
   "metadata": {},
   "source": [
    "##### Ohne Mehrfachvererbung:\n",
    "\n",
    "<img src=\"./PythonGrundlagen_017_Bilder/Vererbungsbaum_keineMehrfachvererbung.drawio.png\" alt=\"Diagramm\" width=\"500\" />"
   ]
  },
  {
   "cell_type": "markdown",
   "metadata": {},
   "source": [
    "##### Mit Mehrfachvererbung:\n",
    "\n",
    "<img src=\"./PythonGrundlagen_017_Bilder/Vererbungsbaum_mitMehrfachvererbung.drawio.png\" alt=\"Diagramm\" width=\"500\" />"
   ]
  },
  {
   "cell_type": "markdown",
   "metadata": {},
   "source": [
    "#### Überschriebene Methoden bei der Mehrfachvererbung\n",
    "\n",
    "Durch die Mehrfachvererbung kann das Konzept der vererbten und überschriebenen Merthoden zu einem komplexen Programmverhalten führen:\n",
    "Wenn mehrere Basisklassen die gleiche Methode definieren und an eine gemeinsame Klasse vererben, kann es unintuitiv sein, welche Methode letztendlich aufgerufen wird. Grund dafür ist die interne Priorisierung der Methoden in Python in solchen Mehrfachvererbungsfällen. "
   ]
  },
  {
   "cell_type": "markdown",
   "metadata": {},
   "source": [
    "**Lösung**:\n",
    "Python erstellt intern eine *MRO (Method Resolution Order)* und benutzt sie, um zu bestimmen, welche Methode zuerst ausgeführt wird."
   ]
  },
  {
   "cell_type": "markdown",
   "metadata": {},
   "source": [
    "Bsp.:"
   ]
  },
  {
   "cell_type": "markdown",
   "metadata": {},
   "source": [
    "<img src=\"./PythonGrundlagen_017_Bilder/MRO_einfach.drawio.png\" alt=\"Diagramm\" width=\"350\" />"
   ]
  },
  {
   "cell_type": "markdown",
   "metadata": {},
   "source": [
    "### 4. Aufgabe\n",
    "\n",
    "Implementieren Sie obiges Klassendiagramm mit Mehrfachvererbung in Python. Die Methode *myMethod* soll ausgeben, zu welcher Klasse sie gehört.\n",
    "- Erstellen Sie ein Objekt der Klasse D, und rufen sie die *myMethod* von diesem Objekt aus auf. \n",
    "- Erstellen Sie ein Objekt der Klasse B, und rufen sie die *myMethod* von diesem Objekt aus auf.\n",
    "- Lassen Sie sich die *Method Resolution Order (MRO)* der Klasse D ausgeben."
   ]
  },
  {
   "cell_type": "code",
   "execution_count": null,
   "metadata": {},
   "outputs": [],
   "source": []
  },
  {
   "cell_type": "markdown",
   "metadata": {},
   "source": [
    "##### Weiteres Beispiel:"
   ]
  },
  {
   "cell_type": "markdown",
   "metadata": {},
   "source": [
    "<img src=\"./PythonGrundlagen_017_Bilder/MRO_erweitert.drawio.png\" alt=\"Diagramm\" width=\"350\" />"
   ]
  },
  {
   "cell_type": "markdown",
   "metadata": {},
   "source": [
    "### 5. Aufgabe\n",
    "\n",
    "Implementieren Sie obiges Klassendiagramm mit Mehrfachvererbung in Python. Die Methode *myMethod* soll ausgeben, zu welcher Klasse sie gehört.\n",
    "- Erstellen Sie ein Objekt der Klasse D, und rufen sie die *myMethod* von diesem Objekt aus auf. \n",
    "- Erstellen Sie ein Objekt der Klasse B, und rufen sie die *myMethod* von diesem Objekt aus auf.\n",
    "- Lassen Sie sich die *Method Resolution Order (MRO)* der Klasse D ausgeben."
   ]
  },
  {
   "cell_type": "code",
   "execution_count": null,
   "metadata": {},
   "outputs": [],
   "source": []
  },
  {
   "cell_type": "markdown",
   "metadata": {},
   "source": [
    "### 6. Aufgabe - Ausgabe der MRO\n",
    "\n",
    "Lassen Sie sich zu Ihrem programmierten Anwendungsbeispiel die MRO aller Klassen ausgeben."
   ]
  },
  {
   "cell_type": "markdown",
   "metadata": {},
   "source": [
    "### 7. Aufgabe - mit \"super()\" durch die Vererbung hangeln\n",
    "\n",
    "1. In den obigen code Beispielen zur Mehrfachvererbung soll nun *jede* Klasse eine Methode \"myMethod\" haben, die ausgibt: \"Methode von <span style=\"font-family: monospace; font-style: italic\"> Klassenname</span>.\n",
    "\n",
    "2. Am Ende der Methode *myMethod* soll mit Hilfe von <span style=\"font-family: monospace;\"> super()</span> die Methode *myMethod* der Superklasse aufgerufen werden.\n",
    "\n",
    "3. Beobachten Sie die Ausgabe, und die damit verbuundene Reihenfolge der Klassen, deren Methoden aufgerufen werden. Was fällt auf?"
   ]
  },
  {
   "cell_type": "code",
   "execution_count": null,
   "metadata": {},
   "outputs": [],
   "source": []
  }
 ],
 "metadata": {
  "kernelspec": {
   "display_name": ".venv",
   "language": "python",
   "name": "python3"
  },
  "language_info": {
   "codemirror_mode": {
    "name": "ipython",
    "version": 3
   },
   "file_extension": ".py",
   "mimetype": "text/x-python",
   "name": "python",
   "nbconvert_exporter": "python",
   "pygments_lexer": "ipython3",
   "version": "3.9.13"
  }
 },
 "nbformat": 4,
 "nbformat_minor": 2
}
